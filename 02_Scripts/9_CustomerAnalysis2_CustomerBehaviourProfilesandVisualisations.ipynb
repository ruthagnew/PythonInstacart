{
 "cells": [
  {
   "cell_type": "markdown",
   "id": "701c25c8",
   "metadata": {},
   "source": [
    "# Final Project \n",
    "\n",
    "#### Please note, due to memory constraints we are using a 70% randomised and representative sample of the full data set for our analyses and visualisations. This subet was created in a previous exercise. \n",
    "\n",
    "This notebook focuses on customer profiling based on demographics and purchasing behaviour. \n",
    "\n",
    "###  Contents:\n",
    "\n",
    "1. Importing libraries and files\n",
    "\n",
    "2. Creating profiling variables to look at customer behaviour\n",
    "    1. Age\n",
    "    2. Income\n",
    "    3. Family status\n",
    "    \n",
    "3. Customer purchasing by department (looking at customer behaviour)\n",
    "    1. Alcohol drinkers\n",
    "    2. Pet owners\n",
    "    3. Time of day ordered\n",
    "    4. Age and day of week ordered\n",
    "    \n",
    "3. Creating customer profiling visualisations\n",
    "\n",
    "4. Exporting updated dataframes and charts\n",
    "    \n",
    "   ** **"
   ]
  },
  {
   "cell_type": "code",
   "execution_count": 1,
   "id": "275e58c7",
   "metadata": {},
   "outputs": [],
   "source": [
    "#import libraries\n",
    "import pandas as pd\n",
    "import numpy as np\n",
    "import os\n",
    "import matplotlib.pyplot as plt\n",
    "import seaborn as sns\n",
    "import scipy"
   ]
  },
  {
   "cell_type": "code",
   "execution_count": 2,
   "id": "a2f9a2e9",
   "metadata": {},
   "outputs": [],
   "source": [
    "#create usable path \n",
    "path = r'C:\\Users\\rutha\\CareerFoundry\\01-23_Instacart_Basket_Analysis'"
   ]
  },
  {
   "cell_type": "code",
   "execution_count": 3,
   "id": "1354091e",
   "metadata": {},
   "outputs": [],
   "source": [
    "#importing previously created high activity data set \n",
    "df = pd.read_pickle(os.path.join(path, '02_Data', 'Prepared_data', 'high_activity_customers.pkl'))"
   ]
  },
  {
   "cell_type": "code",
   "execution_count": 4,
   "id": "9f82b52a",
   "metadata": {},
   "outputs": [
    {
     "data": {
      "text/html": [
       "<div>\n",
       "<style scoped>\n",
       "    .dataframe tbody tr th:only-of-type {\n",
       "        vertical-align: middle;\n",
       "    }\n",
       "\n",
       "    .dataframe tbody tr th {\n",
       "        vertical-align: top;\n",
       "    }\n",
       "\n",
       "    .dataframe thead th {\n",
       "        text-align: right;\n",
       "    }\n",
       "</style>\n",
       "<table border=\"1\" class=\"dataframe\">\n",
       "  <thead>\n",
       "    <tr style=\"text-align: right;\">\n",
       "      <th></th>\n",
       "      <th>order_id</th>\n",
       "      <th>user_id</th>\n",
       "      <th>order_number</th>\n",
       "      <th>orders_day_of_week</th>\n",
       "      <th>order_hour_of_day</th>\n",
       "      <th>days_since_prior_order</th>\n",
       "      <th>product_id</th>\n",
       "      <th>add_to_cart_order</th>\n",
       "      <th>reordered</th>\n",
       "      <th>_merge</th>\n",
       "      <th>...</th>\n",
       "      <th>gender</th>\n",
       "      <th>state</th>\n",
       "      <th>age</th>\n",
       "      <th>date_joined</th>\n",
       "      <th>n_dependants</th>\n",
       "      <th>dependants_loc</th>\n",
       "      <th>fam_status</th>\n",
       "      <th>income</th>\n",
       "      <th>region</th>\n",
       "      <th>exclusion_flag</th>\n",
       "    </tr>\n",
       "  </thead>\n",
       "  <tbody>\n",
       "    <tr>\n",
       "      <th>1</th>\n",
       "      <td>2539329</td>\n",
       "      <td>1</td>\n",
       "      <td>1</td>\n",
       "      <td>2</td>\n",
       "      <td>8</td>\n",
       "      <td>NaN</td>\n",
       "      <td>14084</td>\n",
       "      <td>2</td>\n",
       "      <td>0</td>\n",
       "      <td>both</td>\n",
       "      <td>...</td>\n",
       "      <td>Female</td>\n",
       "      <td>AL</td>\n",
       "      <td>31</td>\n",
       "      <td>2019-02-17</td>\n",
       "      <td>3</td>\n",
       "      <td>Has dependants</td>\n",
       "      <td>married</td>\n",
       "      <td>40423</td>\n",
       "      <td>South</td>\n",
       "      <td>high-activity</td>\n",
       "    </tr>\n",
       "    <tr>\n",
       "      <th>4</th>\n",
       "      <td>2539329</td>\n",
       "      <td>1</td>\n",
       "      <td>1</td>\n",
       "      <td>2</td>\n",
       "      <td>8</td>\n",
       "      <td>NaN</td>\n",
       "      <td>26405</td>\n",
       "      <td>5</td>\n",
       "      <td>0</td>\n",
       "      <td>both</td>\n",
       "      <td>...</td>\n",
       "      <td>Female</td>\n",
       "      <td>AL</td>\n",
       "      <td>31</td>\n",
       "      <td>2019-02-17</td>\n",
       "      <td>3</td>\n",
       "      <td>Has dependants</td>\n",
       "      <td>married</td>\n",
       "      <td>40423</td>\n",
       "      <td>South</td>\n",
       "      <td>high-activity</td>\n",
       "    </tr>\n",
       "    <tr>\n",
       "      <th>5</th>\n",
       "      <td>2398795</td>\n",
       "      <td>1</td>\n",
       "      <td>2</td>\n",
       "      <td>3</td>\n",
       "      <td>7</td>\n",
       "      <td>15.0</td>\n",
       "      <td>196</td>\n",
       "      <td>1</td>\n",
       "      <td>1</td>\n",
       "      <td>both</td>\n",
       "      <td>...</td>\n",
       "      <td>Female</td>\n",
       "      <td>AL</td>\n",
       "      <td>31</td>\n",
       "      <td>2019-02-17</td>\n",
       "      <td>3</td>\n",
       "      <td>Has dependants</td>\n",
       "      <td>married</td>\n",
       "      <td>40423</td>\n",
       "      <td>South</td>\n",
       "      <td>high-activity</td>\n",
       "    </tr>\n",
       "    <tr>\n",
       "      <th>7</th>\n",
       "      <td>2398795</td>\n",
       "      <td>1</td>\n",
       "      <td>2</td>\n",
       "      <td>3</td>\n",
       "      <td>7</td>\n",
       "      <td>15.0</td>\n",
       "      <td>12427</td>\n",
       "      <td>3</td>\n",
       "      <td>1</td>\n",
       "      <td>both</td>\n",
       "      <td>...</td>\n",
       "      <td>Female</td>\n",
       "      <td>AL</td>\n",
       "      <td>31</td>\n",
       "      <td>2019-02-17</td>\n",
       "      <td>3</td>\n",
       "      <td>Has dependants</td>\n",
       "      <td>married</td>\n",
       "      <td>40423</td>\n",
       "      <td>South</td>\n",
       "      <td>high-activity</td>\n",
       "    </tr>\n",
       "    <tr>\n",
       "      <th>8</th>\n",
       "      <td>2398795</td>\n",
       "      <td>1</td>\n",
       "      <td>2</td>\n",
       "      <td>3</td>\n",
       "      <td>7</td>\n",
       "      <td>15.0</td>\n",
       "      <td>13176</td>\n",
       "      <td>4</td>\n",
       "      <td>0</td>\n",
       "      <td>both</td>\n",
       "      <td>...</td>\n",
       "      <td>Female</td>\n",
       "      <td>AL</td>\n",
       "      <td>31</td>\n",
       "      <td>2019-02-17</td>\n",
       "      <td>3</td>\n",
       "      <td>Has dependants</td>\n",
       "      <td>married</td>\n",
       "      <td>40423</td>\n",
       "      <td>South</td>\n",
       "      <td>high-activity</td>\n",
       "    </tr>\n",
       "  </tbody>\n",
       "</table>\n",
       "<p>5 rows × 33 columns</p>\n",
       "</div>"
      ],
      "text/plain": [
       "   order_id  user_id  order_number  orders_day_of_week  order_hour_of_day  \\\n",
       "1   2539329        1             1                   2                  8   \n",
       "4   2539329        1             1                   2                  8   \n",
       "5   2398795        1             2                   3                  7   \n",
       "7   2398795        1             2                   3                  7   \n",
       "8   2398795        1             2                   3                  7   \n",
       "\n",
       "   days_since_prior_order  product_id  add_to_cart_order  reordered _merge  \\\n",
       "1                     NaN       14084                  2          0   both   \n",
       "4                     NaN       26405                  5          0   both   \n",
       "5                    15.0         196                  1          1   both   \n",
       "7                    15.0       12427                  3          1   both   \n",
       "8                    15.0       13176                  4          0   both   \n",
       "\n",
       "   ...  gender  state  age  date_joined n_dependants  dependants_loc  \\\n",
       "1  ...  Female     AL   31   2019-02-17            3  Has dependants   \n",
       "4  ...  Female     AL   31   2019-02-17            3  Has dependants   \n",
       "5  ...  Female     AL   31   2019-02-17            3  Has dependants   \n",
       "7  ...  Female     AL   31   2019-02-17            3  Has dependants   \n",
       "8  ...  Female     AL   31   2019-02-17            3  Has dependants   \n",
       "\n",
       "  fam_status  income region  exclusion_flag  \n",
       "1    married   40423  South   high-activity  \n",
       "4    married   40423  South   high-activity  \n",
       "5    married   40423  South   high-activity  \n",
       "7    married   40423  South   high-activity  \n",
       "8    married   40423  South   high-activity  \n",
       "\n",
       "[5 rows x 33 columns]"
      ]
     },
     "execution_count": 4,
     "metadata": {},
     "output_type": "execute_result"
    }
   ],
   "source": [
    "#checking output\n",
    "df.head()"
   ]
  },
  {
   "cell_type": "code",
   "execution_count": 5,
   "id": "7eda41a0",
   "metadata": {},
   "outputs": [
    {
     "name": "stdout",
     "output_type": "stream",
     "text": [
      "<class 'pandas.core.frame.DataFrame'>\n",
      "Int64Index: 21695423 entries, 1 to 32435058\n",
      "Data columns (total 33 columns):\n",
      " #   Column                  Dtype         \n",
      "---  ------                  -----         \n",
      " 0   order_id                int32         \n",
      " 1   user_id                 int32         \n",
      " 2   order_number            int8          \n",
      " 3   orders_day_of_week      int8          \n",
      " 4   order_hour_of_day       int8          \n",
      " 5   days_since_prior_order  float16       \n",
      " 6   product_id              int16         \n",
      " 7   add_to_cart_order       int16         \n",
      " 8   reordered               int16         \n",
      " 9   _merge                  category      \n",
      " 10  product_name            object        \n",
      " 11  aisle_id                float16       \n",
      " 12  department_id           float16       \n",
      " 13  prices                  float64       \n",
      " 14  price_range_loc         object        \n",
      " 15  busiest_days            object        \n",
      " 16  busiest_period_of_day   object        \n",
      " 17  max_order               int8          \n",
      " 18  loyalty_flag            object        \n",
      " 19  avg_price               float64       \n",
      " 20  spending_flag           object        \n",
      " 21  order_freq              float16       \n",
      " 22  order_freq_flag         object        \n",
      " 23  gender                  object        \n",
      " 24  state                   object        \n",
      " 25  age                     int8          \n",
      " 26  date_joined             datetime64[ns]\n",
      " 27  n_dependants            int16         \n",
      " 28  dependants_loc          object        \n",
      " 29  fam_status              object        \n",
      " 30  income                  int32         \n",
      " 31  region                  object        \n",
      " 32  exclusion_flag          object        \n",
      "dtypes: category(1), datetime64[ns](1), float16(4), float64(2), int16(4), int32(3), int8(5), object(13)\n",
      "memory usage: 3.4+ GB\n"
     ]
    }
   ],
   "source": [
    "df.info()"
   ]
  },
  {
   "cell_type": "code",
   "execution_count": 6,
   "id": "ac43dc63",
   "metadata": {},
   "outputs": [
    {
     "data": {
      "text/plain": [
       "(21695423, 33)"
      ]
     },
     "execution_count": 6,
     "metadata": {},
     "output_type": "execute_result"
    }
   ],
   "source": [
    "df.shape"
   ]
  },
  {
   "cell_type": "code",
   "execution_count": 7,
   "id": "280f8f0a",
   "metadata": {},
   "outputs": [],
   "source": [
    "#importing departments data set \n",
    "df_deps = pd.read_csv(os.path.join(path, '02_Data', 'Prepared_data', 'departments_wrangled.csv'), index_col = False)"
   ]
  },
  {
   "cell_type": "code",
   "execution_count": 8,
   "id": "623311d4",
   "metadata": {},
   "outputs": [
    {
     "data": {
      "text/html": [
       "<div>\n",
       "<style scoped>\n",
       "    .dataframe tbody tr th:only-of-type {\n",
       "        vertical-align: middle;\n",
       "    }\n",
       "\n",
       "    .dataframe tbody tr th {\n",
       "        vertical-align: top;\n",
       "    }\n",
       "\n",
       "    .dataframe thead th {\n",
       "        text-align: right;\n",
       "    }\n",
       "</style>\n",
       "<table border=\"1\" class=\"dataframe\">\n",
       "  <thead>\n",
       "    <tr style=\"text-align: right;\">\n",
       "      <th></th>\n",
       "      <th>Unnamed: 0</th>\n",
       "      <th>department</th>\n",
       "    </tr>\n",
       "  </thead>\n",
       "  <tbody>\n",
       "    <tr>\n",
       "      <th>0</th>\n",
       "      <td>1</td>\n",
       "      <td>frozen</td>\n",
       "    </tr>\n",
       "    <tr>\n",
       "      <th>1</th>\n",
       "      <td>2</td>\n",
       "      <td>other</td>\n",
       "    </tr>\n",
       "    <tr>\n",
       "      <th>2</th>\n",
       "      <td>3</td>\n",
       "      <td>bakery</td>\n",
       "    </tr>\n",
       "    <tr>\n",
       "      <th>3</th>\n",
       "      <td>4</td>\n",
       "      <td>produce</td>\n",
       "    </tr>\n",
       "    <tr>\n",
       "      <th>4</th>\n",
       "      <td>5</td>\n",
       "      <td>alcohol</td>\n",
       "    </tr>\n",
       "    <tr>\n",
       "      <th>5</th>\n",
       "      <td>6</td>\n",
       "      <td>international</td>\n",
       "    </tr>\n",
       "    <tr>\n",
       "      <th>6</th>\n",
       "      <td>7</td>\n",
       "      <td>beverages</td>\n",
       "    </tr>\n",
       "    <tr>\n",
       "      <th>7</th>\n",
       "      <td>8</td>\n",
       "      <td>pets</td>\n",
       "    </tr>\n",
       "    <tr>\n",
       "      <th>8</th>\n",
       "      <td>9</td>\n",
       "      <td>dry goods pasta</td>\n",
       "    </tr>\n",
       "    <tr>\n",
       "      <th>9</th>\n",
       "      <td>10</td>\n",
       "      <td>bulk</td>\n",
       "    </tr>\n",
       "    <tr>\n",
       "      <th>10</th>\n",
       "      <td>11</td>\n",
       "      <td>personal care</td>\n",
       "    </tr>\n",
       "    <tr>\n",
       "      <th>11</th>\n",
       "      <td>12</td>\n",
       "      <td>meat seafood</td>\n",
       "    </tr>\n",
       "    <tr>\n",
       "      <th>12</th>\n",
       "      <td>13</td>\n",
       "      <td>pantry</td>\n",
       "    </tr>\n",
       "    <tr>\n",
       "      <th>13</th>\n",
       "      <td>14</td>\n",
       "      <td>breakfast</td>\n",
       "    </tr>\n",
       "    <tr>\n",
       "      <th>14</th>\n",
       "      <td>15</td>\n",
       "      <td>canned goods</td>\n",
       "    </tr>\n",
       "    <tr>\n",
       "      <th>15</th>\n",
       "      <td>16</td>\n",
       "      <td>dairy eggs</td>\n",
       "    </tr>\n",
       "    <tr>\n",
       "      <th>16</th>\n",
       "      <td>17</td>\n",
       "      <td>household</td>\n",
       "    </tr>\n",
       "    <tr>\n",
       "      <th>17</th>\n",
       "      <td>18</td>\n",
       "      <td>babies</td>\n",
       "    </tr>\n",
       "    <tr>\n",
       "      <th>18</th>\n",
       "      <td>19</td>\n",
       "      <td>snacks</td>\n",
       "    </tr>\n",
       "    <tr>\n",
       "      <th>19</th>\n",
       "      <td>20</td>\n",
       "      <td>deli</td>\n",
       "    </tr>\n",
       "    <tr>\n",
       "      <th>20</th>\n",
       "      <td>21</td>\n",
       "      <td>missing</td>\n",
       "    </tr>\n",
       "  </tbody>\n",
       "</table>\n",
       "</div>"
      ],
      "text/plain": [
       "    Unnamed: 0       department\n",
       "0            1           frozen\n",
       "1            2            other\n",
       "2            3           bakery\n",
       "3            4          produce\n",
       "4            5          alcohol\n",
       "5            6    international\n",
       "6            7        beverages\n",
       "7            8             pets\n",
       "8            9  dry goods pasta\n",
       "9           10             bulk\n",
       "10          11    personal care\n",
       "11          12     meat seafood\n",
       "12          13           pantry\n",
       "13          14        breakfast\n",
       "14          15     canned goods\n",
       "15          16       dairy eggs\n",
       "16          17        household\n",
       "17          18           babies\n",
       "18          19           snacks\n",
       "19          20             deli\n",
       "20          21          missing"
      ]
     },
     "execution_count": 8,
     "metadata": {},
     "output_type": "execute_result"
    }
   ],
   "source": [
    "#checking output \n",
    "df_deps"
   ]
  },
  {
   "cell_type": "code",
   "execution_count": 9,
   "id": "4f7ab142",
   "metadata": {},
   "outputs": [],
   "source": [
    "df_deps.rename(columns= {\"Unnamed: 0\": \"department_id\"}, inplace = True)"
   ]
  },
  {
   "cell_type": "code",
   "execution_count": 10,
   "id": "5a8b0a10",
   "metadata": {},
   "outputs": [
    {
     "data": {
      "text/html": [
       "<div>\n",
       "<style scoped>\n",
       "    .dataframe tbody tr th:only-of-type {\n",
       "        vertical-align: middle;\n",
       "    }\n",
       "\n",
       "    .dataframe tbody tr th {\n",
       "        vertical-align: top;\n",
       "    }\n",
       "\n",
       "    .dataframe thead th {\n",
       "        text-align: right;\n",
       "    }\n",
       "</style>\n",
       "<table border=\"1\" class=\"dataframe\">\n",
       "  <thead>\n",
       "    <tr style=\"text-align: right;\">\n",
       "      <th></th>\n",
       "      <th>department_id</th>\n",
       "      <th>department</th>\n",
       "    </tr>\n",
       "  </thead>\n",
       "  <tbody>\n",
       "    <tr>\n",
       "      <th>0</th>\n",
       "      <td>1</td>\n",
       "      <td>frozen</td>\n",
       "    </tr>\n",
       "    <tr>\n",
       "      <th>1</th>\n",
       "      <td>2</td>\n",
       "      <td>other</td>\n",
       "    </tr>\n",
       "    <tr>\n",
       "      <th>2</th>\n",
       "      <td>3</td>\n",
       "      <td>bakery</td>\n",
       "    </tr>\n",
       "    <tr>\n",
       "      <th>3</th>\n",
       "      <td>4</td>\n",
       "      <td>produce</td>\n",
       "    </tr>\n",
       "    <tr>\n",
       "      <th>4</th>\n",
       "      <td>5</td>\n",
       "      <td>alcohol</td>\n",
       "    </tr>\n",
       "    <tr>\n",
       "      <th>5</th>\n",
       "      <td>6</td>\n",
       "      <td>international</td>\n",
       "    </tr>\n",
       "    <tr>\n",
       "      <th>6</th>\n",
       "      <td>7</td>\n",
       "      <td>beverages</td>\n",
       "    </tr>\n",
       "    <tr>\n",
       "      <th>7</th>\n",
       "      <td>8</td>\n",
       "      <td>pets</td>\n",
       "    </tr>\n",
       "    <tr>\n",
       "      <th>8</th>\n",
       "      <td>9</td>\n",
       "      <td>dry goods pasta</td>\n",
       "    </tr>\n",
       "    <tr>\n",
       "      <th>9</th>\n",
       "      <td>10</td>\n",
       "      <td>bulk</td>\n",
       "    </tr>\n",
       "    <tr>\n",
       "      <th>10</th>\n",
       "      <td>11</td>\n",
       "      <td>personal care</td>\n",
       "    </tr>\n",
       "    <tr>\n",
       "      <th>11</th>\n",
       "      <td>12</td>\n",
       "      <td>meat seafood</td>\n",
       "    </tr>\n",
       "    <tr>\n",
       "      <th>12</th>\n",
       "      <td>13</td>\n",
       "      <td>pantry</td>\n",
       "    </tr>\n",
       "    <tr>\n",
       "      <th>13</th>\n",
       "      <td>14</td>\n",
       "      <td>breakfast</td>\n",
       "    </tr>\n",
       "    <tr>\n",
       "      <th>14</th>\n",
       "      <td>15</td>\n",
       "      <td>canned goods</td>\n",
       "    </tr>\n",
       "    <tr>\n",
       "      <th>15</th>\n",
       "      <td>16</td>\n",
       "      <td>dairy eggs</td>\n",
       "    </tr>\n",
       "    <tr>\n",
       "      <th>16</th>\n",
       "      <td>17</td>\n",
       "      <td>household</td>\n",
       "    </tr>\n",
       "    <tr>\n",
       "      <th>17</th>\n",
       "      <td>18</td>\n",
       "      <td>babies</td>\n",
       "    </tr>\n",
       "    <tr>\n",
       "      <th>18</th>\n",
       "      <td>19</td>\n",
       "      <td>snacks</td>\n",
       "    </tr>\n",
       "    <tr>\n",
       "      <th>19</th>\n",
       "      <td>20</td>\n",
       "      <td>deli</td>\n",
       "    </tr>\n",
       "    <tr>\n",
       "      <th>20</th>\n",
       "      <td>21</td>\n",
       "      <td>missing</td>\n",
       "    </tr>\n",
       "  </tbody>\n",
       "</table>\n",
       "</div>"
      ],
      "text/plain": [
       "    department_id       department\n",
       "0               1           frozen\n",
       "1               2            other\n",
       "2               3           bakery\n",
       "3               4          produce\n",
       "4               5          alcohol\n",
       "5               6    international\n",
       "6               7        beverages\n",
       "7               8             pets\n",
       "8               9  dry goods pasta\n",
       "9              10             bulk\n",
       "10             11    personal care\n",
       "11             12     meat seafood\n",
       "12             13           pantry\n",
       "13             14        breakfast\n",
       "14             15     canned goods\n",
       "15             16       dairy eggs\n",
       "16             17        household\n",
       "17             18           babies\n",
       "18             19           snacks\n",
       "19             20             deli\n",
       "20             21          missing"
      ]
     },
     "execution_count": 10,
     "metadata": {},
     "output_type": "execute_result"
    }
   ],
   "source": [
    "#checking output\n",
    "df_deps"
   ]
  },
  {
   "cell_type": "markdown",
   "id": "357cb820",
   "metadata": {},
   "source": [
    "## 2. Customer Profiling"
   ]
  },
  {
   "cell_type": "markdown",
   "id": "4e546e7f",
   "metadata": {},
   "source": [
    "The marketing and business strategy units at Instacart want to create more-relevant marketing strategies for different products and are, thus, curious about customer profiling in their database. We need to create a profiling variable based on age, income, certain goods in the “department_id” column, and number of dependents. \n",
    "\n",
    "**What are demographics are we going to be looking at?**\n",
    " - Age\n",
    " - Income\n",
    " - Family status and dependants \n"
   ]
  },
  {
   "cell_type": "markdown",
   "id": "ac5150eb",
   "metadata": {},
   "source": [
    "### 2.1 Age"
   ]
  },
  {
   "cell_type": "markdown",
   "id": "5b4b01fe",
   "metadata": {},
   "source": [
    "Creating a flag which groups customers into one of three categories based on their age: youth, middle age, or senior. "
   ]
  },
  {
   "cell_type": "code",
   "execution_count": 11,
   "id": "21f781d1",
   "metadata": {},
   "outputs": [
    {
     "data": {
      "text/plain": [
       "count    2.169542e+07\n",
       "mean     4.946534e+01\n",
       "std      1.848656e+01\n",
       "min      1.800000e+01\n",
       "25%      3.300000e+01\n",
       "50%      4.900000e+01\n",
       "75%      6.500000e+01\n",
       "max      8.100000e+01\n",
       "Name: age, dtype: float64"
      ]
     },
     "execution_count": 11,
     "metadata": {},
     "output_type": "execute_result"
    }
   ],
   "source": [
    "#checking the variance of ages in our dataset\n",
    "df['age'].describe()"
   ]
  },
  {
   "cell_type": "markdown",
   "id": "5bcb5999",
   "metadata": {},
   "source": [
    "**Result:** The result of the describe function() is that we have a wide spread of ages, all customers are adults. The minimum age is 18 whilst the maximum is 81 so it makes sense to group the age into three categories:\n",
    "\n",
    "1. Youth: 18 - 39\n",
    "2. Midde age: 40 - 64\n",
    "3. Senior: 65+"
   ]
  },
  {
   "cell_type": "code",
   "execution_count": 12,
   "id": "ac85eeee",
   "metadata": {},
   "outputs": [
    {
     "data": {
      "text/plain": [
       "Middle age    8478701\n",
       "Youth         7474436\n",
       "Senior        5742286\n",
       "Name: age_category, dtype: int64"
      ]
     },
     "execution_count": 12,
     "metadata": {},
     "output_type": "execute_result"
    }
   ],
   "source": [
    "#creating age categories\n",
    "\n",
    "df.loc[(df['age'] >= 18) & (df['age'] < 40), 'age_category'] = 'Youth'\n",
    "df.loc[(df['age'] >= 40) & (df['age'] < 65), 'age_category'] = 'Middle age'\n",
    "df.loc[df['age'] >= 65, 'age_category'] = 'Senior'\n",
    "df['age_category'].value_counts()"
   ]
  },
  {
   "cell_type": "code",
   "execution_count": 13,
   "id": "3dfbb876",
   "metadata": {},
   "outputs": [
    {
     "data": {
      "text/plain": [
       "(21695423, 34)"
      ]
     },
     "execution_count": 13,
     "metadata": {},
     "output_type": "execute_result"
    }
   ],
   "source": [
    "#checking shape of dataset\n",
    "df.shape"
   ]
  },
  {
   "cell_type": "markdown",
   "id": "7bb9d43a",
   "metadata": {},
   "source": [
    "### 2.2 Income"
   ]
  },
  {
   "cell_type": "markdown",
   "id": "69759131",
   "metadata": {},
   "source": [
    "Creating a flag which groups customers into one of three categories based on their income: high, middle, or low income."
   ]
  },
  {
   "cell_type": "code",
   "execution_count": 14,
   "id": "1d01d578",
   "metadata": {},
   "outputs": [
    {
     "data": {
      "text/plain": [
       "count    2.169542e+07\n",
       "mean     9.966743e+04\n",
       "std      4.313213e+04\n",
       "min      2.590300e+04\n",
       "25%      6.728900e+04\n",
       "50%      9.676300e+04\n",
       "75%      1.281000e+05\n",
       "max      5.939010e+05\n",
       "Name: income, dtype: float64"
      ]
     },
     "execution_count": 14,
     "metadata": {},
     "output_type": "execute_result"
    }
   ],
   "source": [
    "#checking our dataframe for income statistics\n",
    "df['income'].describe()"
   ]
  },
  {
   "cell_type": "markdown",
   "id": "d3248793",
   "metadata": {},
   "source": [
    "**Result:** The results of the describe function tell us that the lowest recorded income is 25,000 USD and the highest is 593,901 USD"
   ]
  },
  {
   "cell_type": "code",
   "execution_count": 15,
   "id": "5a7e5c2d",
   "metadata": {},
   "outputs": [
    {
     "data": {
      "text/plain": [
       "Text(0.5, 1.0, 'Income distribution of Instacart Users')"
      ]
     },
     "execution_count": 15,
     "metadata": {},
     "output_type": "execute_result"
    },
    {
     "data": {
      "image/png": "[encoded data removed]",
      "text/plain": [
       "<Figure size 640x480 with 1 Axes>"
      ]
     },
     "metadata": {},
     "output_type": "display_data"
    }
   ],
   "source": [
    "#create an income histogram\n",
    "hist_income = df['income'].plot.hist(bins =50, color = 'orange')\n",
    "\n",
    "plt.xlabel('Income (USD)')\n",
    "plt.ylabel('Frequency in millions')\n",
    "plt.title('Income distribution of Instacart Users', fontsize = 18, pad=20)"
   ]
  },
  {
   "cell_type": "code",
   "execution_count": 16,
   "id": "da955147",
   "metadata": {},
   "outputs": [],
   "source": [
    "#calculating the income percentiles\n",
    "quartile_income = list(df['income'].quantile([0.25, 0.5, 0.75]))"
   ]
  },
  {
   "cell_type": "code",
   "execution_count": 17,
   "id": "36f26877",
   "metadata": {},
   "outputs": [
    {
     "data": {
      "text/plain": [
       "[67289.0, 96763.0, 128100.0]"
      ]
     },
     "execution_count": 17,
     "metadata": {},
     "output_type": "execute_result"
    }
   ],
   "source": [
    "#checking results\n",
    "quartile_income"
   ]
  },
  {
   "cell_type": "markdown",
   "id": "f85e58db",
   "metadata": {},
   "source": [
    "**Results:** based on the identified quartiles, we are going to create three income categories so we can analyse the impact of income on purchases: low, mid, and high income. "
   ]
  },
  {
   "cell_type": "code",
   "execution_count": 18,
   "id": "c9c157bb",
   "metadata": {},
   "outputs": [],
   "source": [
    "# Creating income_category column\n",
    "\n",
    "df.loc[df['income']< 70000, 'income_flag'] = 'Low'\n",
    "df.loc[(df['income']>= 70000) & (df['income']< 120000), 'income_flag'] = 'Middle'\n",
    "df.loc[df['income']>= 120000, 'income_flag'] = 'High'"
   ]
  },
  {
   "cell_type": "code",
   "execution_count": 19,
   "id": "d9e7e853",
   "metadata": {},
   "outputs": [
    {
     "data": {
      "text/plain": [
       "Middle    9292186\n",
       "High      6431435\n",
       "Low       5971802\n",
       "Name: income_flag, dtype: int64"
      ]
     },
     "execution_count": 19,
     "metadata": {},
     "output_type": "execute_result"
    }
   ],
   "source": [
    "df['income_flag'].value_counts()"
   ]
  },
  {
   "cell_type": "code",
   "execution_count": 20,
   "id": "bd705929",
   "metadata": {},
   "outputs": [
    {
     "data": {
      "text/html": [
       "<div>\n",
       "<style scoped>\n",
       "    .dataframe tbody tr th:only-of-type {\n",
       "        vertical-align: middle;\n",
       "    }\n",
       "\n",
       "    .dataframe tbody tr th {\n",
       "        vertical-align: top;\n",
       "    }\n",
       "\n",
       "    .dataframe thead th {\n",
       "        text-align: right;\n",
       "    }\n",
       "</style>\n",
       "<table border=\"1\" class=\"dataframe\">\n",
       "  <thead>\n",
       "    <tr style=\"text-align: right;\">\n",
       "      <th>income_flag</th>\n",
       "      <th>High</th>\n",
       "      <th>Low</th>\n",
       "      <th>Middle</th>\n",
       "    </tr>\n",
       "    <tr>\n",
       "      <th>region</th>\n",
       "      <th></th>\n",
       "      <th></th>\n",
       "      <th></th>\n",
       "    </tr>\n",
       "  </thead>\n",
       "  <tbody>\n",
       "    <tr>\n",
       "      <th>Midwest</th>\n",
       "      <td>1533594</td>\n",
       "      <td>1382842</td>\n",
       "      <td>2169883</td>\n",
       "    </tr>\n",
       "    <tr>\n",
       "      <th>Northeast</th>\n",
       "      <td>1142320</td>\n",
       "      <td>1042490</td>\n",
       "      <td>1645275</td>\n",
       "    </tr>\n",
       "    <tr>\n",
       "      <th>South</th>\n",
       "      <td>2117335</td>\n",
       "      <td>1997383</td>\n",
       "      <td>3109416</td>\n",
       "    </tr>\n",
       "    <tr>\n",
       "      <th>West</th>\n",
       "      <td>1638186</td>\n",
       "      <td>1549087</td>\n",
       "      <td>2367612</td>\n",
       "    </tr>\n",
       "  </tbody>\n",
       "</table>\n",
       "</div>"
      ],
      "text/plain": [
       "income_flag     High      Low   Middle\n",
       "region                                \n",
       "Midwest      1533594  1382842  2169883\n",
       "Northeast    1142320  1042490  1645275\n",
       "South        2117335  1997383  3109416\n",
       "West         1638186  1549087  2367612"
      ]
     },
     "execution_count": 20,
     "metadata": {},
     "output_type": "execute_result"
    }
   ],
   "source": [
    "# Drawing a stacked-bar chart of 'income_category' column in different regions\n",
    "\n",
    "crosstab_income_region = pd.crosstab (df['region'],df['income_flag'], dropna = False)\n",
    "crosstab_income_region"
   ]
  },
  {
   "cell_type": "markdown",
   "id": "1045970f",
   "metadata": {},
   "source": [
    "### 2.3 Family makeup and Number of Depedants"
   ]
  },
  {
   "cell_type": "markdown",
   "id": "b1119ea9",
   "metadata": {},
   "source": [
    "In a previous exercise we created the column *dependants_loc* which tracked whether or not the customer has any dependants. We can use this data point in conjunction with others to understand more about how having dependants impacts purchasing. \n",
    "\n",
    "It's not clear from the data set but dependants can be children or adults, including elderly relevatives, or family members with disabilities. "
   ]
  },
  {
   "cell_type": "code",
   "execution_count": 21,
   "id": "b1ab3882",
   "metadata": {},
   "outputs": [],
   "source": [
    "#comparing family status with whether they have dependants\n",
    "family_crosstab = pd.crosstab(df['fam_status'],df['dependants_loc'],dropna = False)"
   ]
  },
  {
   "cell_type": "code",
   "execution_count": 22,
   "id": "9809612b",
   "metadata": {},
   "outputs": [
    {
     "data": {
      "text/html": [
       "<div>\n",
       "<style scoped>\n",
       "    .dataframe tbody tr th:only-of-type {\n",
       "        vertical-align: middle;\n",
       "    }\n",
       "\n",
       "    .dataframe tbody tr th {\n",
       "        vertical-align: top;\n",
       "    }\n",
       "\n",
       "    .dataframe thead th {\n",
       "        text-align: right;\n",
       "    }\n",
       "</style>\n",
       "<table border=\"1\" class=\"dataframe\">\n",
       "  <thead>\n",
       "    <tr style=\"text-align: right;\">\n",
       "      <th>dependants_loc</th>\n",
       "      <th>Has dependants</th>\n",
       "      <th>No dependants</th>\n",
       "    </tr>\n",
       "    <tr>\n",
       "      <th>fam_status</th>\n",
       "      <th></th>\n",
       "      <th></th>\n",
       "    </tr>\n",
       "  </thead>\n",
       "  <tbody>\n",
       "    <tr>\n",
       "      <th>divorced/widowed</th>\n",
       "      <td>0</td>\n",
       "      <td>1853335</td>\n",
       "    </tr>\n",
       "    <tr>\n",
       "      <th>living with parents and siblings</th>\n",
       "      <td>1037870</td>\n",
       "      <td>0</td>\n",
       "    </tr>\n",
       "    <tr>\n",
       "      <th>married</th>\n",
       "      <td>15233343</td>\n",
       "      <td>0</td>\n",
       "    </tr>\n",
       "    <tr>\n",
       "      <th>single</th>\n",
       "      <td>0</td>\n",
       "      <td>3570875</td>\n",
       "    </tr>\n",
       "  </tbody>\n",
       "</table>\n",
       "</div>"
      ],
      "text/plain": [
       "dependants_loc                    Has dependants  No dependants\n",
       "fam_status                                                     \n",
       "divorced/widowed                               0        1853335\n",
       "living with parents and siblings         1037870              0\n",
       "married                                 15233343              0\n",
       "single                                         0        3570875"
      ]
     },
     "execution_count": 22,
     "metadata": {},
     "output_type": "execute_result"
    }
   ],
   "source": [
    "#checking output\n",
    "family_crosstab"
   ]
  },
  {
   "cell_type": "markdown",
   "id": "7f38f063",
   "metadata": {},
   "source": [
    "**Observations:** It appears that only those customers who are married, or live with close family members have dependants. "
   ]
  },
  {
   "cell_type": "markdown",
   "id": "a5e3f735",
   "metadata": {},
   "source": [
    "#### Creating a profile column that looks at income and family status"
   ]
  },
  {
   "cell_type": "code",
   "execution_count": 23,
   "id": "9138ebda",
   "metadata": {},
   "outputs": [],
   "source": [
    "#creating profile for \"high-income single adult\"\n",
    "df.loc[(df['fam_status'] == 'single') & (df['income_flag'] == 'High'), 'profile_age'] = 'high-income single adult'"
   ]
  },
  {
   "cell_type": "code",
   "execution_count": 24,
   "id": "fa6a7bb2",
   "metadata": {},
   "outputs": [],
   "source": [
    "#creating profile for \"mid-income single adult\"\n",
    "df.loc[(df['fam_status'] == 'single') & (df['income']>= 96763) & (df['income_flag'] == 'Middle'), 'profile_age'] = 'mid-income single adult'"
   ]
  },
  {
   "cell_type": "code",
   "execution_count": 25,
   "id": "c85eb15a",
   "metadata": {},
   "outputs": [],
   "source": [
    "#creating profile for \"low-income single adult\"\n",
    "df.loc[(df['fam_status'] == 'single') & (df['income_flag'] == 'Low'), 'profile_age'] = 'low-income single adult'"
   ]
  },
  {
   "cell_type": "code",
   "execution_count": 26,
   "id": "01ddec13",
   "metadata": {},
   "outputs": [],
   "source": [
    "#creating profile for \"high-income married adult\"\n",
    "df.loc[(df['fam_status'] == 'married') & (df['income_flag'] == 'High'), 'profile_age'] = 'high-income married adult'"
   ]
  },
  {
   "cell_type": "code",
   "execution_count": 27,
   "id": "fc72312e",
   "metadata": {},
   "outputs": [],
   "source": [
    "#creating profile for \"mid-income married adult\"\n",
    "df.loc[(df['fam_status'] == 'married') & (df['income_flag'] == 'Middle'), 'profile_age'] = 'mid-income married adult'"
   ]
  },
  {
   "cell_type": "code",
   "execution_count": 28,
   "id": "70d2e5f7",
   "metadata": {},
   "outputs": [],
   "source": [
    "#creating profile for \"low-income married adult\"\n",
    "df.loc[(df['fam_status'] == 'married') & (df['income_flag'] == 'Low'), 'profile_age'] = 'low-income married adult'"
   ]
  },
  {
   "cell_type": "code",
   "execution_count": 29,
   "id": "08a408cf",
   "metadata": {},
   "outputs": [],
   "source": [
    "#creating profile for \"high-income divorced/widowed adult\"\n",
    "df.loc[(df['fam_status'] == 'divorced/widowed') & (df['income_flag'] == 'High'), 'profile_age'] = 'high-income divored/widowed adult'"
   ]
  },
  {
   "cell_type": "code",
   "execution_count": 30,
   "id": "ad50bbc0",
   "metadata": {},
   "outputs": [],
   "source": [
    "#creating profile for \"mid-income divorced/widowed adult\"\n",
    "df.loc[(df['fam_status'] == 'divorced/widowed') & (df['income_flag'] == 'Middle'), 'profile_age'] = 'mid-income divorced/widowed adult'"
   ]
  },
  {
   "cell_type": "code",
   "execution_count": 31,
   "id": "8e1ba094",
   "metadata": {},
   "outputs": [],
   "source": [
    "#creating profile for \"low-income divorced/widowed adult\"\n",
    "df.loc[(df['fam_status'] == 'divorced/widowed') & (df['income_flag'] == 'Low'), 'profile_age'] = 'low-income divorced/widowed adult'"
   ]
  },
  {
   "cell_type": "code",
   "execution_count": 32,
   "id": "9ee38451",
   "metadata": {},
   "outputs": [],
   "source": [
    "#creating profile for \"high-income cohabiting adult\"\n",
    "df.loc[(df['fam_status'] == 'living with parents or siblings') & (df['income_flag'] == 'High'), 'profile_age'] = 'high-income living with family adult'"
   ]
  },
  {
   "cell_type": "code",
   "execution_count": 33,
   "id": "ba9ab6a7",
   "metadata": {},
   "outputs": [],
   "source": [
    "#creating profile for \"mid-income cohabiting adult\"\n",
    "df.loc[(df['fam_status'] == 'living with parents or siblings') & (df['income_flag'] == 'Middle'), 'profile_age'] = 'mid-income living with family adult'"
   ]
  },
  {
   "cell_type": "code",
   "execution_count": 34,
   "id": "0af26c6a",
   "metadata": {},
   "outputs": [],
   "source": [
    "#creating profile for \"low-income cohabiting adult\"\n",
    "df.loc[(df['fam_status'] == 'living with parents or siblings') & (df['income_flag'] == 'Low'), 'profile_age'] = 'low-income living with family adult'"
   ]
  },
  {
   "cell_type": "code",
   "execution_count": 35,
   "id": "e50f0d9f",
   "metadata": {},
   "outputs": [],
   "source": [
    "# labelling everyone else as \"other\"\n",
    "df['profile_age'] = df['profile_age'].fillna('other')"
   ]
  },
  {
   "cell_type": "code",
   "execution_count": 36,
   "id": "913853c2",
   "metadata": {},
   "outputs": [
    {
     "data": {
      "text/plain": [
       "mid-income married adult             6482977\n",
       "high-income married adult            4792623\n",
       "low-income married adult             3957743\n",
       "other                                2001821\n",
       "low-income single adult              1248248\n",
       "high-income divored/widowed adult     850162\n",
       "high-income single adult              775966\n",
       "mid-income divorced/widowed adult     756680\n",
       "mid-income single adult               582710\n",
       "low-income divorced/widowed adult     246493\n",
       "Name: profile_age, dtype: int64"
      ]
     },
     "execution_count": 36,
     "metadata": {},
     "output_type": "execute_result"
    }
   ],
   "source": [
    "df['profile_age'].value_counts(dropna = False)"
   ]
  },
  {
   "cell_type": "markdown",
   "id": "741cef78",
   "metadata": {},
   "source": [
    "#### Creating a column that looks at income and dependants"
   ]
  },
  {
   "cell_type": "code",
   "execution_count": 37,
   "id": "7e01f908",
   "metadata": {},
   "outputs": [],
   "source": [
    "#creating profile for \"high-income family\"\n",
    "df.loc[(df['dependants_loc'] == 'Has dependants') & (df['income_flag'] == 'High'), 'profile_fam'] = 'high-income family'"
   ]
  },
  {
   "cell_type": "code",
   "execution_count": 38,
   "id": "e8407cc7",
   "metadata": {},
   "outputs": [],
   "source": [
    "#creating profile for \"mid-income family\"\n",
    "df.loc[(df['dependants_loc'] == 'Has dependants') & (df['income_flag'] == 'Middle'), 'profile_fam'] = 'mid-income family'"
   ]
  },
  {
   "cell_type": "code",
   "execution_count": 39,
   "id": "9d980d24",
   "metadata": {},
   "outputs": [],
   "source": [
    "#creating profile for \"low-income family\"\n",
    "df.loc[(df['dependants_loc'] == 'Has dependants') & (df['income_flag'] == 'Low'), 'profile_fam'] = 'low-income family'"
   ]
  },
  {
   "cell_type": "code",
   "execution_count": 40,
   "id": "b972ca9e",
   "metadata": {},
   "outputs": [],
   "source": [
    "#creating profile for \"high-income no dependants\"\n",
    "df.loc[(df['dependants_loc'] == 'No dependants') & (df['income_flag'] == 'High'), 'profile_fam'] = 'high-income no dependants'"
   ]
  },
  {
   "cell_type": "code",
   "execution_count": 41,
   "id": "132bb12d",
   "metadata": {},
   "outputs": [],
   "source": [
    "#creating profile for \"mid-income no dependants\"\n",
    "df.loc[(df['dependants_loc'] == 'No dependants') & (df['income_flag'] == 'Middle'), 'profile_fam'] = 'mid-income no dependants'"
   ]
  },
  {
   "cell_type": "code",
   "execution_count": 42,
   "id": "5c4a8f48",
   "metadata": {},
   "outputs": [],
   "source": [
    "#creating profile for \"low-income no dependants\"\n",
    "df.loc[(df['dependants_loc'] == 'No dependants') & (df['income_flag'] == 'Low'), 'profile_fam'] = 'low-income no dependants'"
   ]
  },
  {
   "cell_type": "code",
   "execution_count": 43,
   "id": "dcb20001",
   "metadata": {},
   "outputs": [
    {
     "data": {
      "text/plain": [
       "mid-income family            6988845\n",
       "high-income family           4805307\n",
       "low-income family            4477061\n",
       "mid-income no dependants     2303341\n",
       "high-income no dependants    1626128\n",
       "low-income no dependants     1494741\n",
       "Name: profile_fam, dtype: int64"
      ]
     },
     "execution_count": 43,
     "metadata": {},
     "output_type": "execute_result"
    }
   ],
   "source": [
    "df['profile_fam'].value_counts(dropna = False)"
   ]
  },
  {
   "cell_type": "code",
   "execution_count": 112,
   "id": "751f0a7f",
   "metadata": {},
   "outputs": [
    {
     "data": {
      "text/plain": [
       "(array([0, 1, 2, 3, 4, 5]),\n",
       " [Text(0, 0, 'mid-income family'),\n",
       "  Text(1, 0, 'high-income family'),\n",
       "  Text(2, 0, 'low-income family'),\n",
       "  Text(3, 0, 'mid-income no dependants'),\n",
       "  Text(4, 0, 'high-income no dependants'),\n",
       "  Text(5, 0, 'low-income no dependants')])"
      ]
     },
     "execution_count": 112,
     "metadata": {},
     "output_type": "execute_result"
    },
    {
     "data": {
      "image/png": "[encoded data removed]",
      "text/plain": [
       "<Figure size 640x480 with 1 Axes>"
      ]
     },
     "metadata": {},
     "output_type": "display_data"
    }
   ],
   "source": [
    "bar_fam_status= df['profile_fam'].value_counts().plot.bar(color = ['darkgreen', 'green', 'limegreen', 'lawngreen', 'yellowgreen', 'lightgreen'])\n",
    "\n",
    "plt.title(\"Purchases by family status\", fontsize = '18')\n",
    "plt.ylabel('Frequency of customers in millions', fontsize = 12)\n",
    "plt.xticks(rotation=45)"
   ]
  },
  {
   "cell_type": "markdown",
   "id": "8416524f",
   "metadata": {},
   "source": [
    "**Results:** Married couples with dependants, irrespective of income, account for more purchases than adults with no dependants. "
   ]
  },
  {
   "cell_type": "code",
   "execution_count": 45,
   "id": "3292843b",
   "metadata": {},
   "outputs": [
    {
     "data": {
      "text/plain": [
       "(21695423, 37)"
      ]
     },
     "execution_count": 45,
     "metadata": {},
     "output_type": "execute_result"
    }
   ],
   "source": [
    "#checking added column\n",
    "df.shape"
   ]
  },
  {
   "cell_type": "code",
   "execution_count": 46,
   "id": "513e6d06",
   "metadata": {},
   "outputs": [
    {
     "data": {
      "text/plain": [
       "Has dependants    0.749984\n",
       "No dependants     0.250016\n",
       "Name: dependants_loc, dtype: float64"
      ]
     },
     "execution_count": 46,
     "metadata": {},
     "output_type": "execute_result"
    }
   ],
   "source": [
    "df['dependants_loc'].value_counts(normalize = True)"
   ]
  },
  {
   "cell_type": "markdown",
   "id": "f2abbc64",
   "metadata": {},
   "source": [
    "**Results:** we have three times as many customers with dependants as we do without"
   ]
  },
  {
   "cell_type": "code",
   "execution_count": 47,
   "id": "ff14c0e3",
   "metadata": {},
   "outputs": [
    {
     "data": {
      "text/plain": [
       "(array([0, 1]), [Text(0, 0, 'Has dependants'), Text(1, 0, 'No dependants')])"
      ]
     },
     "execution_count": 47,
     "metadata": {},
     "output_type": "execute_result"
    },
    {
     "data": {
      "image/png": "[encoded data removed]",
      "text/plain": [
       "<Figure size 640x480 with 1 Axes>"
      ]
     },
     "metadata": {},
     "output_type": "display_data"
    }
   ],
   "source": [
    "bar_dependants = df['dependants_loc'].value_counts().sort_index().plot.bar(color = ['dodgerblue', 'lightblue'])\n",
    "\n",
    "plt.title(\"Dependants vs No Dependants\", fontsize = '18')\n",
    "plt.ylabel('Frequency of customers in millions', fontsize = 12)\n",
    "plt.xticks(rotation=45)"
   ]
  },
  {
   "cell_type": "code",
   "execution_count": 48,
   "id": "1b78370b",
   "metadata": {},
   "outputs": [],
   "source": [
    "#exploring relationship between dependants and region\n",
    "ct_dependants = pd.crosstab(df['region'], df['dependants_loc'], dropna = False)"
   ]
  },
  {
   "cell_type": "code",
   "execution_count": 49,
   "id": "bed787a6",
   "metadata": {},
   "outputs": [
    {
     "data": {
      "text/html": [
       "<div>\n",
       "<style scoped>\n",
       "    .dataframe tbody tr th:only-of-type {\n",
       "        vertical-align: middle;\n",
       "    }\n",
       "\n",
       "    .dataframe tbody tr th {\n",
       "        vertical-align: top;\n",
       "    }\n",
       "\n",
       "    .dataframe thead th {\n",
       "        text-align: right;\n",
       "    }\n",
       "</style>\n",
       "<table border=\"1\" class=\"dataframe\">\n",
       "  <thead>\n",
       "    <tr style=\"text-align: right;\">\n",
       "      <th>dependants_loc</th>\n",
       "      <th>Has dependants</th>\n",
       "      <th>No dependants</th>\n",
       "    </tr>\n",
       "    <tr>\n",
       "      <th>region</th>\n",
       "      <th></th>\n",
       "      <th></th>\n",
       "    </tr>\n",
       "  </thead>\n",
       "  <tbody>\n",
       "    <tr>\n",
       "      <th>Midwest</th>\n",
       "      <td>3809424</td>\n",
       "      <td>1276895</td>\n",
       "    </tr>\n",
       "    <tr>\n",
       "      <th>Northeast</th>\n",
       "      <td>2880137</td>\n",
       "      <td>949948</td>\n",
       "    </tr>\n",
       "    <tr>\n",
       "      <th>South</th>\n",
       "      <td>5414530</td>\n",
       "      <td>1809604</td>\n",
       "    </tr>\n",
       "    <tr>\n",
       "      <th>West</th>\n",
       "      <td>4167122</td>\n",
       "      <td>1387763</td>\n",
       "    </tr>\n",
       "  </tbody>\n",
       "</table>\n",
       "</div>"
      ],
      "text/plain": [
       "dependants_loc  Has dependants  No dependants\n",
       "region                                       \n",
       "Midwest                3809424        1276895\n",
       "Northeast              2880137         949948\n",
       "South                  5414530        1809604\n",
       "West                   4167122        1387763"
      ]
     },
     "execution_count": 49,
     "metadata": {},
     "output_type": "execute_result"
    }
   ],
   "source": [
    "ct_dependants"
   ]
  },
  {
   "cell_type": "markdown",
   "id": "737f49cd",
   "metadata": {},
   "source": [
    "# 3. Customer segmentation by department"
   ]
  },
  {
   "cell_type": "markdown",
   "id": "0c70556d",
   "metadata": {},
   "source": [
    "Looking at various customer purchasing habits. "
   ]
  },
  {
   "cell_type": "code",
   "execution_count": 50,
   "id": "8e540374",
   "metadata": {},
   "outputs": [],
   "source": [
    "#creating department dictionary\n",
    "dpt_map = dict(zip(df_deps['department_id'], df_deps['department']))"
   ]
  },
  {
   "cell_type": "code",
   "execution_count": 51,
   "id": "5affffa1",
   "metadata": {},
   "outputs": [
    {
     "data": {
      "text/plain": [
       "{1: 'frozen',\n",
       " 2: 'other',\n",
       " 3: 'bakery',\n",
       " 4: 'produce',\n",
       " 5: 'alcohol',\n",
       " 6: 'international',\n",
       " 7: 'beverages',\n",
       " 8: 'pets',\n",
       " 9: 'dry goods pasta',\n",
       " 10: 'bulk',\n",
       " 11: 'personal care',\n",
       " 12: 'meat seafood',\n",
       " 13: 'pantry',\n",
       " 14: 'breakfast',\n",
       " 15: 'canned goods',\n",
       " 16: 'dairy eggs',\n",
       " 17: 'household',\n",
       " 18: 'babies',\n",
       " 19: 'snacks',\n",
       " 20: 'deli',\n",
       " 21: 'missing'}"
      ]
     },
     "execution_count": 51,
     "metadata": {},
     "output_type": "execute_result"
    }
   ],
   "source": [
    "dpt_map"
   ]
  },
  {
   "cell_type": "code",
   "execution_count": 52,
   "id": "011c3bc8",
   "metadata": {},
   "outputs": [],
   "source": [
    "df['department'] = df['department_id'].map(dpt_map)"
   ]
  },
  {
   "cell_type": "code",
   "execution_count": 53,
   "id": "0b229f24",
   "metadata": {},
   "outputs": [
    {
     "data": {
      "text/plain": [
       "(21695423, 38)"
      ]
     },
     "execution_count": 53,
     "metadata": {},
     "output_type": "execute_result"
    }
   ],
   "source": [
    "df.shape"
   ]
  },
  {
   "cell_type": "code",
   "execution_count": 54,
   "id": "5d056da2",
   "metadata": {},
   "outputs": [
    {
     "data": {
      "text/plain": [
       "produce            6356499\n",
       "dairy eggs         3623221\n",
       "snacks             1935877\n",
       "beverages          1800905\n",
       "frozen             1485678\n",
       "pantry             1247148\n",
       "bakery              784668\n",
       "canned goods        708893\n",
       "deli                702908\n",
       "dry goods pasta     575190\n",
       "household           489922\n",
       "meat seafood        472523\n",
       "breakfast           469325\n",
       "personal care       297068\n",
       "babies              287514\n",
       "international       179180\n",
       "alcohol             101091\n",
       "pets                 64833\n",
       "missing              45294\n",
       "other                24116\n",
       "bulk                 23422\n",
       "Name: department, dtype: int64"
      ]
     },
     "execution_count": 54,
     "metadata": {},
     "output_type": "execute_result"
    }
   ],
   "source": [
    "df['department'].value_counts()"
   ]
  },
  {
   "cell_type": "markdown",
   "id": "2b58a1a2",
   "metadata": {},
   "source": [
    "### 3.1 Alcohol drinkers"
   ]
  },
  {
   "cell_type": "code",
   "execution_count": 55,
   "id": "a3308f02",
   "metadata": {},
   "outputs": [],
   "source": [
    "#creating non-alcohol drinker column\n",
    "\n",
    "df.loc[df['department'] !='alcohol', 'alcohol_drinker'] = 'No'\n",
    "df.loc[df['department'] =='alcohol', 'alcohol_drinker'] = 'Yes'"
   ]
  },
  {
   "cell_type": "code",
   "execution_count": 56,
   "id": "4f29dc54",
   "metadata": {},
   "outputs": [
    {
     "data": {
      "text/plain": [
       "No     21594332\n",
       "Yes      101091\n",
       "Name: alcohol_drinker, dtype: int64"
      ]
     },
     "execution_count": 56,
     "metadata": {},
     "output_type": "execute_result"
    }
   ],
   "source": [
    "df['alcohol_drinker'].value_counts(dropna = False)"
   ]
  },
  {
   "cell_type": "code",
   "execution_count": 57,
   "id": "fa954234",
   "metadata": {},
   "outputs": [
    {
     "data": {
      "text/plain": [
       "(21695423, 39)"
      ]
     },
     "execution_count": 57,
     "metadata": {},
     "output_type": "execute_result"
    }
   ],
   "source": [
    "#checking output of df\n",
    "df.shape"
   ]
  },
  {
   "cell_type": "code",
   "execution_count": 58,
   "id": "2c6711bf",
   "metadata": {},
   "outputs": [
    {
     "data": {
      "text/plain": [
       "Text(0.5, 1.0, 'Distribution of alcohol-drinkers ')"
      ]
     },
     "execution_count": 58,
     "metadata": {},
     "output_type": "execute_result"
    },
    {
     "data": {
      "image/png": "[encoded data removed]",
      "text/plain": [
       "<Figure size 640x480 with 1 Axes>"
      ]
     },
     "metadata": {},
     "output_type": "display_data"
    }
   ],
   "source": [
    "# Drawing a pie chart for alcohol drinking profiling\n",
    "\n",
    "alcohol_drinker_pie = df['alcohol_drinker'].value_counts().plot.pie(labels = ['Drinker','Non-drinker'], autopct=('%.2f%%'), colors = ['darkblue', 'lightblue'], label = '', explode = [0,0.1])\n",
    "alcohol_drinker_pie.legend(title = 'Customer Drinking Status: ', loc = 'lower right')\n",
    "plt.title(\"Distribution of alcohol-drinkers \", fontsize = '18')\n"
   ]
  },
  {
   "cell_type": "markdown",
   "id": "9371b052",
   "metadata": {},
   "source": [
    "### 3.2 Pet owners"
   ]
  },
  {
   "cell_type": "code",
   "execution_count": 121,
   "id": "b51dde02",
   "metadata": {},
   "outputs": [],
   "source": [
    "# Creating pet_owner column\n",
    "\n",
    "df.loc[df['department'] == 'pets', 'pet_owner'] = 'Yes'\n",
    "df.loc[df['department'] != 'pets', 'pet_owner'] = 'No'"
   ]
  },
  {
   "cell_type": "code",
   "execution_count": 122,
   "id": "87acc511",
   "metadata": {},
   "outputs": [
    {
     "data": {
      "text/plain": [
       "(21695423, 41)"
      ]
     },
     "execution_count": 122,
     "metadata": {},
     "output_type": "execute_result"
    }
   ],
   "source": [
    "df.shape"
   ]
  },
  {
   "cell_type": "code",
   "execution_count": 125,
   "id": "b1748932",
   "metadata": {},
   "outputs": [
    {
     "data": {
      "text/plain": [
       "No     21630590\n",
       "Yes       64833\n",
       "Name: pet_owner, dtype: int64"
      ]
     },
     "execution_count": 125,
     "metadata": {},
     "output_type": "execute_result"
    }
   ],
   "source": [
    "df['pet_owner'].value_counts()"
   ]
  },
  {
   "cell_type": "code",
   "execution_count": 124,
   "id": "8b505e24",
   "metadata": {},
   "outputs": [
    {
     "data": {
      "text/plain": [
       "Text(0.5, 1.0, 'Distribution of Pet-owners ')"
      ]
     },
     "execution_count": 124,
     "metadata": {},
     "output_type": "execute_result"
    },
    {
     "data": {
      "image/png": "[encoded data removed]",
      "text/plain": [
       "<Figure size 640x480 with 1 Axes>"
      ]
     },
     "metadata": {},
     "output_type": "display_data"
    }
   ],
   "source": [
    "# Drawing a pie chart for pet owners drinking profiling\n",
    "\n",
    "pie_pet_owner = df['pet_owner'].value_counts().plot.pie(labels = ['Pet owner','Non-pet owner'], autopct=('%.2f%%'), colors = ['darkgreen', 'lightgreen'], label = '', explode = [0,0.1])\n",
    "pie_pet_owner.legend(title = 'Customer Pet-owning Status: ', loc = 'lower right')\n",
    "plt.title(\"Distribution of Pet-owners \", fontsize = '18')"
   ]
  },
  {
   "cell_type": "markdown",
   "id": "054b2cfe",
   "metadata": {},
   "source": [
    "### 3.3 Time of day ordered"
   ]
  },
  {
   "cell_type": "code",
   "execution_count": 62,
   "id": "e0658dfc",
   "metadata": {},
   "outputs": [
    {
     "data": {
      "text/plain": [
       "0      145907\n",
       "1       76588\n",
       "2       46102\n",
       "3       34180\n",
       "4       35522\n",
       "5       59204\n",
       "6      196979\n",
       "7      604708\n",
       "8     1162853\n",
       "9     1655785\n",
       "10    1857772\n",
       "11    1831951\n",
       "12    1749993\n",
       "13    1778737\n",
       "14    1799107\n",
       "15    1776245\n",
       "16    1690245\n",
       "17    1388555\n",
       "18    1086347\n",
       "19     836994\n",
       "20     652652\n",
       "21     535339\n",
       "22     424695\n",
       "23     268963\n",
       "Name: order_hour_of_day, dtype: int64"
      ]
     },
     "execution_count": 62,
     "metadata": {},
     "output_type": "execute_result"
    }
   ],
   "source": [
    "#distribution of orders within 24 hours day\n",
    "\n",
    "df['order_hour_of_day'].value_counts(dropna = False).sort_index()"
   ]
  },
  {
   "cell_type": "markdown",
   "id": "e7d28b8a",
   "metadata": {},
   "source": [
    "**Observations:** Unsurprisingly, the most popular hours of the day for purchases are within the typical working day, 9 - 6, although there are also some strong sales before 9 and in the evening."
   ]
  },
  {
   "cell_type": "code",
   "execution_count": 85,
   "id": "639ef954",
   "metadata": {},
   "outputs": [],
   "source": [
    "#create list for new order_time_day column\n",
    "result = []\n",
    "\n",
    "for hour in df['order_hour_of_day']:\n",
    "    if hour in [0, 1, 2, 3, 4, 17, 18, 19, 20, 21, 22, 23]:\n",
    "        result.append('Night owl')\n",
    "    elif hour in [5, 6, 7, 8]:\n",
    "        result.append('Early bird')\n",
    "    else:\n",
    "        result.append('Regular')"
   ]
  },
  {
   "cell_type": "code",
   "execution_count": 86,
   "id": "b05127f4",
   "metadata": {},
   "outputs": [
    {
     "data": {
      "text/plain": [
       "['Early bird',\n",
       " 'Early bird',\n",
       " 'Early bird',\n",
       " 'Early bird',\n",
       " 'Early bird',\n",
       " 'Early bird',\n",
       " 'Regular',\n",
       " 'Regular',\n",
       " 'Regular',\n",
       " 'Early bird',\n",
       " 'Early bird',\n",
       " 'Early bird',\n",
       " 'Early bird',\n",
       " 'Regular',\n",
       " 'Regular',\n",
       " 'Regular',\n",
       " 'Regular',\n",
       " 'Early bird',\n",
       " 'Early bird',\n",
       " 'Early bird',\n",
       " 'Regular',\n",
       " 'Regular',\n",
       " 'Regular',\n",
       " 'Regular',\n",
       " 'Regular',\n",
       " 'Regular',\n",
       " 'Regular',\n",
       " 'Regular',\n",
       " 'Regular',\n",
       " 'Regular',\n",
       " 'Regular',\n",
       " 'Regular',\n",
       " 'Regular',\n",
       " 'Regular',\n",
       " 'Regular',\n",
       " 'Regular',\n",
       " 'Early bird',\n",
       " 'Early bird',\n",
       " 'Early bird',\n",
       " 'Early bird',\n",
       " 'Early bird',\n",
       " 'Early bird',\n",
       " 'Regular',\n",
       " 'Regular',\n",
       " 'Regular',\n",
       " 'Regular',\n",
       " 'Regular',\n",
       " 'Regular',\n",
       " 'Regular',\n",
       " 'Regular',\n",
       " 'Regular',\n",
       " 'Regular',\n",
       " 'Regular',\n",
       " 'Regular',\n",
       " 'Regular',\n",
       " 'Regular',\n",
       " 'Regular',\n",
       " 'Regular',\n",
       " 'Regular',\n",
       " 'Regular',\n",
       " 'Regular',\n",
       " 'Regular',\n",
       " 'Regular',\n",
       " 'Regular',\n",
       " 'Regular',\n",
       " 'Regular',\n",
       " 'Regular',\n",
       " 'Regular',\n",
       " 'Regular',\n",
       " 'Regular',\n",
       " 'Regular',\n",
       " 'Regular',\n",
       " 'Regular',\n",
       " 'Regular',\n",
       " 'Regular',\n",
       " 'Regular',\n",
       " 'Regular',\n",
       " 'Regular',\n",
       " 'Regular',\n",
       " 'Regular',\n",
       " 'Regular',\n",
       " 'Regular',\n",
       " 'Regular',\n",
       " 'Regular',\n",
       " 'Regular',\n",
       " 'Regular',\n",
       " 'Regular',\n",
       " 'Regular',\n",
       " 'Regular',\n",
       " 'Regular',\n",
       " 'Regular',\n",
       " 'Regular',\n",
       " 'Regular',\n",
       " 'Regular',\n",
       " 'Regular',\n",
       " 'Regular',\n",
       " 'Regular',\n",
       " 'Regular',\n",
       " 'Regular',\n",
       " 'Regular',\n",
       " 'Regular',\n",
       " 'Regular',\n",
       " 'Regular',\n",
       " 'Regular',\n",
       " 'Regular',\n",
       " 'Regular',\n",
       " 'Regular',\n",
       " 'Regular',\n",
       " 'Regular',\n",
       " 'Regular',\n",
       " 'Regular',\n",
       " 'Regular',\n",
       " 'Regular',\n",
       " 'Regular',\n",
       " 'Regular',\n",
       " 'Regular',\n",
       " 'Regular',\n",
       " 'Regular',\n",
       " 'Regular',\n",
       " 'Regular',\n",
       " 'Regular',\n",
       " 'Regular',\n",
       " 'Regular',\n",
       " 'Regular',\n",
       " 'Regular',\n",
       " 'Regular',\n",
       " 'Regular',\n",
       " 'Regular',\n",
       " 'Regular',\n",
       " 'Regular',\n",
       " 'Regular',\n",
       " 'Regular',\n",
       " 'Regular',\n",
       " 'Regular',\n",
       " 'Regular',\n",
       " 'Regular',\n",
       " 'Regular',\n",
       " 'Regular',\n",
       " 'Regular',\n",
       " 'Regular',\n",
       " 'Regular',\n",
       " 'Regular',\n",
       " 'Regular',\n",
       " 'Regular',\n",
       " 'Regular',\n",
       " 'Regular',\n",
       " 'Regular',\n",
       " 'Regular',\n",
       " 'Regular',\n",
       " 'Regular',\n",
       " 'Regular',\n",
       " 'Regular',\n",
       " 'Regular',\n",
       " 'Regular',\n",
       " 'Regular',\n",
       " 'Regular',\n",
       " 'Regular',\n",
       " 'Regular',\n",
       " 'Regular',\n",
       " 'Regular',\n",
       " 'Regular',\n",
       " 'Regular',\n",
       " 'Regular',\n",
       " 'Regular',\n",
       " 'Regular',\n",
       " 'Regular',\n",
       " 'Regular',\n",
       " 'Regular',\n",
       " 'Regular',\n",
       " 'Regular',\n",
       " 'Regular',\n",
       " 'Regular',\n",
       " 'Regular',\n",
       " 'Regular',\n",
       " 'Regular',\n",
       " 'Regular',\n",
       " 'Regular',\n",
       " 'Regular',\n",
       " 'Regular',\n",
       " 'Regular',\n",
       " 'Regular',\n",
       " 'Regular',\n",
       " 'Regular',\n",
       " 'Night owl',\n",
       " 'Night owl',\n",
       " 'Night owl',\n",
       " 'Night owl',\n",
       " 'Night owl',\n",
       " 'Night owl',\n",
       " 'Night owl',\n",
       " 'Night owl',\n",
       " 'Regular',\n",
       " 'Regular',\n",
       " 'Regular',\n",
       " 'Regular',\n",
       " 'Night owl',\n",
       " 'Night owl',\n",
       " 'Night owl',\n",
       " 'Night owl',\n",
       " 'Night owl',\n",
       " 'Night owl',\n",
       " 'Night owl',\n",
       " 'Night owl',\n",
       " 'Night owl',\n",
       " 'Night owl',\n",
       " 'Night owl',\n",
       " 'Regular',\n",
       " 'Regular',\n",
       " 'Regular',\n",
       " 'Regular',\n",
       " 'Regular',\n",
       " 'Regular',\n",
       " 'Regular',\n",
       " 'Regular',\n",
       " 'Regular',\n",
       " 'Regular',\n",
       " 'Regular',\n",
       " 'Regular',\n",
       " 'Regular',\n",
       " 'Night owl',\n",
       " 'Night owl',\n",
       " 'Night owl',\n",
       " 'Night owl',\n",
       " 'Night owl',\n",
       " 'Night owl',\n",
       " 'Regular',\n",
       " 'Regular',\n",
       " 'Regular',\n",
       " 'Regular',\n",
       " 'Regular',\n",
       " 'Regular',\n",
       " 'Night owl',\n",
       " 'Night owl',\n",
       " 'Regular',\n",
       " 'Regular',\n",
       " 'Regular',\n",
       " 'Regular',\n",
       " 'Regular',\n",
       " 'Regular',\n",
       " 'Regular',\n",
       " 'Regular',\n",
       " 'Regular',\n",
       " 'Regular',\n",
       " 'Regular',\n",
       " 'Regular',\n",
       " 'Regular',\n",
       " 'Regular',\n",
       " 'Regular',\n",
       " 'Regular',\n",
       " 'Regular',\n",
       " 'Regular',\n",
       " 'Regular',\n",
       " 'Regular',\n",
       " 'Regular',\n",
       " 'Regular',\n",
       " 'Regular',\n",
       " 'Regular',\n",
       " 'Regular',\n",
       " 'Regular',\n",
       " 'Regular',\n",
       " 'Regular',\n",
       " 'Regular',\n",
       " 'Night owl',\n",
       " 'Night owl',\n",
       " 'Night owl',\n",
       " 'Night owl',\n",
       " 'Night owl',\n",
       " 'Night owl',\n",
       " 'Night owl',\n",
       " 'Night owl',\n",
       " 'Night owl',\n",
       " 'Night owl',\n",
       " 'Night owl',\n",
       " 'Night owl',\n",
       " 'Night owl',\n",
       " 'Night owl',\n",
       " 'Night owl',\n",
       " 'Night owl',\n",
       " 'Night owl',\n",
       " 'Night owl',\n",
       " 'Night owl',\n",
       " 'Night owl',\n",
       " 'Night owl',\n",
       " 'Night owl',\n",
       " 'Night owl',\n",
       " 'Night owl',\n",
       " 'Night owl',\n",
       " 'Night owl',\n",
       " 'Night owl',\n",
       " 'Night owl',\n",
       " 'Night owl',\n",
       " 'Night owl',\n",
       " 'Regular',\n",
       " 'Regular',\n",
       " 'Regular',\n",
       " 'Regular',\n",
       " 'Regular',\n",
       " 'Regular',\n",
       " 'Regular',\n",
       " 'Regular',\n",
       " 'Regular',\n",
       " 'Night owl',\n",
       " 'Night owl',\n",
       " 'Night owl',\n",
       " 'Night owl',\n",
       " 'Night owl',\n",
       " 'Night owl',\n",
       " 'Night owl',\n",
       " 'Night owl',\n",
       " 'Regular',\n",
       " 'Regular',\n",
       " 'Regular',\n",
       " 'Regular',\n",
       " 'Early bird',\n",
       " 'Early bird',\n",
       " 'Early bird',\n",
       " 'Early bird',\n",
       " 'Early bird',\n",
       " 'Early bird',\n",
       " 'Early bird',\n",
       " 'Night owl',\n",
       " 'Night owl',\n",
       " 'Night owl',\n",
       " 'Night owl',\n",
       " 'Night owl',\n",
       " 'Night owl',\n",
       " 'Night owl',\n",
       " 'Regular',\n",
       " 'Regular',\n",
       " 'Regular',\n",
       " 'Regular',\n",
       " 'Regular',\n",
       " 'Regular',\n",
       " 'Regular',\n",
       " 'Regular',\n",
       " 'Regular',\n",
       " 'Regular',\n",
       " 'Regular',\n",
       " 'Regular',\n",
       " 'Regular',\n",
       " 'Regular',\n",
       " 'Regular',\n",
       " 'Regular',\n",
       " 'Regular',\n",
       " 'Regular',\n",
       " 'Regular',\n",
       " 'Regular',\n",
       " 'Regular',\n",
       " 'Regular',\n",
       " 'Regular',\n",
       " 'Regular',\n",
       " 'Regular',\n",
       " 'Regular',\n",
       " 'Regular',\n",
       " 'Regular',\n",
       " 'Regular',\n",
       " 'Regular',\n",
       " 'Regular',\n",
       " 'Regular',\n",
       " 'Regular',\n",
       " 'Regular',\n",
       " 'Regular',\n",
       " 'Regular',\n",
       " 'Regular',\n",
       " 'Regular',\n",
       " 'Regular',\n",
       " 'Regular',\n",
       " 'Regular',\n",
       " 'Regular',\n",
       " 'Regular',\n",
       " 'Regular',\n",
       " 'Regular',\n",
       " 'Regular',\n",
       " 'Regular',\n",
       " 'Regular',\n",
       " 'Regular',\n",
       " 'Regular',\n",
       " 'Regular',\n",
       " 'Regular',\n",
       " 'Regular',\n",
       " 'Regular',\n",
       " 'Regular',\n",
       " 'Regular',\n",
       " 'Regular',\n",
       " 'Regular',\n",
       " 'Regular',\n",
       " 'Regular',\n",
       " 'Regular',\n",
       " 'Regular',\n",
       " 'Regular',\n",
       " 'Regular',\n",
       " 'Regular',\n",
       " 'Regular',\n",
       " 'Regular',\n",
       " 'Regular',\n",
       " 'Regular',\n",
       " 'Regular',\n",
       " 'Regular',\n",
       " 'Regular',\n",
       " 'Regular',\n",
       " 'Regular',\n",
       " 'Regular',\n",
       " 'Regular',\n",
       " 'Regular',\n",
       " 'Regular',\n",
       " 'Regular',\n",
       " 'Regular',\n",
       " 'Regular',\n",
       " 'Regular',\n",
       " 'Regular',\n",
       " 'Regular',\n",
       " 'Regular',\n",
       " 'Regular',\n",
       " 'Regular',\n",
       " 'Regular',\n",
       " 'Regular',\n",
       " 'Regular',\n",
       " 'Regular',\n",
       " 'Regular',\n",
       " 'Regular',\n",
       " 'Regular',\n",
       " 'Regular',\n",
       " 'Regular',\n",
       " 'Regular',\n",
       " 'Regular',\n",
       " 'Regular',\n",
       " 'Regular',\n",
       " 'Regular',\n",
       " 'Regular',\n",
       " 'Regular',\n",
       " 'Night owl',\n",
       " 'Night owl',\n",
       " 'Night owl',\n",
       " 'Night owl',\n",
       " 'Night owl',\n",
       " 'Night owl',\n",
       " 'Night owl',\n",
       " 'Night owl',\n",
       " 'Night owl',\n",
       " 'Night owl',\n",
       " 'Night owl',\n",
       " 'Night owl',\n",
       " 'Night owl',\n",
       " 'Night owl',\n",
       " 'Night owl',\n",
       " 'Night owl',\n",
       " 'Night owl',\n",
       " 'Night owl',\n",
       " 'Night owl',\n",
       " 'Night owl',\n",
       " 'Night owl',\n",
       " 'Regular',\n",
       " 'Regular',\n",
       " 'Regular',\n",
       " 'Regular',\n",
       " 'Regular',\n",
       " 'Regular',\n",
       " 'Regular',\n",
       " 'Regular',\n",
       " 'Regular',\n",
       " 'Regular',\n",
       " 'Regular',\n",
       " 'Regular',\n",
       " 'Regular',\n",
       " 'Regular',\n",
       " 'Regular',\n",
       " 'Regular',\n",
       " 'Regular',\n",
       " 'Regular',\n",
       " 'Night owl',\n",
       " 'Night owl',\n",
       " 'Night owl',\n",
       " 'Night owl',\n",
       " 'Night owl',\n",
       " 'Night owl',\n",
       " 'Night owl',\n",
       " 'Night owl',\n",
       " 'Night owl',\n",
       " 'Night owl',\n",
       " 'Night owl',\n",
       " 'Night owl',\n",
       " 'Night owl',\n",
       " 'Night owl',\n",
       " 'Night owl',\n",
       " 'Night owl',\n",
       " 'Night owl',\n",
       " 'Night owl',\n",
       " 'Night owl',\n",
       " 'Night owl',\n",
       " 'Night owl',\n",
       " 'Night owl',\n",
       " 'Night owl',\n",
       " 'Regular',\n",
       " 'Regular',\n",
       " 'Regular',\n",
       " 'Regular',\n",
       " 'Regular',\n",
       " 'Regular',\n",
       " 'Regular',\n",
       " 'Regular',\n",
       " 'Regular',\n",
       " 'Regular',\n",
       " 'Regular',\n",
       " 'Regular',\n",
       " 'Regular',\n",
       " 'Regular',\n",
       " 'Regular',\n",
       " 'Regular',\n",
       " 'Regular',\n",
       " 'Regular',\n",
       " 'Regular',\n",
       " 'Regular',\n",
       " 'Regular',\n",
       " 'Regular',\n",
       " 'Regular',\n",
       " 'Regular',\n",
       " 'Regular',\n",
       " 'Regular',\n",
       " 'Regular',\n",
       " 'Regular',\n",
       " 'Regular',\n",
       " 'Regular',\n",
       " 'Regular',\n",
       " 'Regular',\n",
       " 'Regular',\n",
       " 'Regular',\n",
       " 'Regular',\n",
       " 'Regular',\n",
       " 'Regular',\n",
       " 'Regular',\n",
       " 'Regular',\n",
       " 'Regular',\n",
       " 'Regular',\n",
       " 'Regular',\n",
       " 'Regular',\n",
       " 'Regular',\n",
       " 'Regular',\n",
       " 'Regular',\n",
       " 'Regular',\n",
       " 'Regular',\n",
       " 'Regular',\n",
       " 'Regular',\n",
       " 'Regular',\n",
       " 'Regular',\n",
       " 'Regular',\n",
       " 'Regular',\n",
       " 'Regular',\n",
       " 'Regular',\n",
       " 'Regular',\n",
       " 'Regular',\n",
       " 'Regular',\n",
       " 'Regular',\n",
       " 'Regular',\n",
       " 'Regular',\n",
       " 'Regular',\n",
       " 'Regular',\n",
       " 'Regular',\n",
       " 'Regular',\n",
       " 'Regular',\n",
       " 'Regular',\n",
       " 'Regular',\n",
       " 'Regular',\n",
       " 'Regular',\n",
       " 'Regular',\n",
       " 'Regular',\n",
       " 'Regular',\n",
       " 'Early bird',\n",
       " 'Early bird',\n",
       " 'Early bird',\n",
       " 'Early bird',\n",
       " 'Early bird',\n",
       " 'Early bird',\n",
       " 'Early bird',\n",
       " 'Early bird',\n",
       " 'Regular',\n",
       " 'Regular',\n",
       " 'Regular',\n",
       " 'Regular',\n",
       " 'Regular',\n",
       " 'Regular',\n",
       " 'Regular',\n",
       " 'Regular',\n",
       " 'Regular',\n",
       " 'Regular',\n",
       " 'Regular',\n",
       " 'Regular',\n",
       " 'Regular',\n",
       " 'Regular',\n",
       " 'Regular',\n",
       " 'Regular',\n",
       " 'Regular',\n",
       " 'Regular',\n",
       " 'Regular',\n",
       " 'Regular',\n",
       " 'Regular',\n",
       " 'Regular',\n",
       " 'Regular',\n",
       " 'Regular',\n",
       " 'Regular',\n",
       " 'Regular',\n",
       " 'Regular',\n",
       " 'Regular',\n",
       " 'Regular',\n",
       " 'Regular',\n",
       " 'Regular',\n",
       " 'Regular',\n",
       " 'Regular',\n",
       " 'Regular',\n",
       " 'Regular',\n",
       " 'Night owl',\n",
       " 'Night owl',\n",
       " 'Night owl',\n",
       " 'Night owl',\n",
       " 'Night owl',\n",
       " 'Night owl',\n",
       " 'Night owl',\n",
       " 'Regular',\n",
       " 'Regular',\n",
       " 'Regular',\n",
       " 'Regular',\n",
       " 'Regular',\n",
       " 'Regular',\n",
       " 'Regular',\n",
       " 'Regular',\n",
       " 'Night owl',\n",
       " 'Night owl',\n",
       " 'Night owl',\n",
       " 'Night owl',\n",
       " 'Night owl',\n",
       " 'Early bird',\n",
       " 'Early bird',\n",
       " 'Early bird',\n",
       " 'Early bird',\n",
       " 'Early bird',\n",
       " 'Early bird',\n",
       " 'Early bird',\n",
       " 'Early bird',\n",
       " 'Night owl',\n",
       " 'Night owl',\n",
       " 'Night owl',\n",
       " 'Night owl',\n",
       " 'Night owl',\n",
       " 'Night owl',\n",
       " 'Night owl',\n",
       " 'Night owl',\n",
       " 'Night owl',\n",
       " 'Night owl',\n",
       " 'Regular',\n",
       " 'Regular',\n",
       " 'Regular',\n",
       " 'Regular',\n",
       " 'Regular',\n",
       " 'Regular',\n",
       " 'Regular',\n",
       " 'Regular',\n",
       " 'Regular',\n",
       " 'Regular',\n",
       " 'Regular',\n",
       " 'Night owl',\n",
       " 'Night owl',\n",
       " 'Early bird',\n",
       " 'Early bird',\n",
       " 'Early bird',\n",
       " 'Early bird',\n",
       " 'Regular',\n",
       " 'Regular',\n",
       " 'Early bird',\n",
       " 'Early bird',\n",
       " 'Early bird',\n",
       " 'Early bird',\n",
       " 'Early bird',\n",
       " 'Early bird',\n",
       " 'Early bird',\n",
       " 'Early bird',\n",
       " 'Early bird',\n",
       " 'Early bird',\n",
       " 'Early bird',\n",
       " 'Early bird',\n",
       " 'Early bird',\n",
       " 'Early bird',\n",
       " 'Early bird',\n",
       " 'Early bird',\n",
       " 'Early bird',\n",
       " 'Early bird',\n",
       " 'Early bird',\n",
       " 'Early bird',\n",
       " 'Early bird',\n",
       " 'Early bird',\n",
       " 'Early bird',\n",
       " 'Early bird',\n",
       " 'Early bird',\n",
       " 'Early bird',\n",
       " 'Early bird',\n",
       " 'Early bird',\n",
       " 'Early bird',\n",
       " 'Early bird',\n",
       " 'Early bird',\n",
       " 'Early bird',\n",
       " 'Early bird',\n",
       " 'Early bird',\n",
       " 'Early bird',\n",
       " 'Early bird',\n",
       " 'Early bird',\n",
       " 'Early bird',\n",
       " 'Early bird',\n",
       " 'Early bird',\n",
       " 'Early bird',\n",
       " 'Early bird',\n",
       " 'Early bird',\n",
       " 'Early bird',\n",
       " 'Early bird',\n",
       " 'Early bird',\n",
       " 'Early bird',\n",
       " 'Regular',\n",
       " 'Regular',\n",
       " 'Regular',\n",
       " 'Regular',\n",
       " 'Regular',\n",
       " 'Regular',\n",
       " 'Regular',\n",
       " 'Regular',\n",
       " 'Regular',\n",
       " 'Regular',\n",
       " 'Regular',\n",
       " 'Regular',\n",
       " 'Regular',\n",
       " 'Regular',\n",
       " 'Regular',\n",
       " 'Regular',\n",
       " 'Regular',\n",
       " 'Regular',\n",
       " 'Regular',\n",
       " 'Early bird',\n",
       " 'Early bird',\n",
       " 'Early bird',\n",
       " 'Early bird',\n",
       " 'Early bird',\n",
       " 'Early bird',\n",
       " 'Early bird',\n",
       " 'Early bird',\n",
       " 'Early bird',\n",
       " 'Early bird',\n",
       " 'Early bird',\n",
       " 'Early bird',\n",
       " 'Early bird',\n",
       " 'Early bird',\n",
       " 'Early bird',\n",
       " 'Regular',\n",
       " 'Regular',\n",
       " 'Regular',\n",
       " 'Regular',\n",
       " 'Regular',\n",
       " 'Regular',\n",
       " 'Regular',\n",
       " 'Regular',\n",
       " 'Regular',\n",
       " 'Regular',\n",
       " 'Regular',\n",
       " 'Regular',\n",
       " 'Regular',\n",
       " 'Regular',\n",
       " 'Regular',\n",
       " 'Regular',\n",
       " 'Regular',\n",
       " 'Regular',\n",
       " 'Regular',\n",
       " 'Regular',\n",
       " 'Regular',\n",
       " 'Regular',\n",
       " 'Night owl',\n",
       " 'Night owl',\n",
       " 'Night owl',\n",
       " 'Night owl',\n",
       " 'Night owl',\n",
       " 'Night owl',\n",
       " 'Night owl',\n",
       " 'Night owl',\n",
       " 'Early bird',\n",
       " 'Early bird',\n",
       " 'Early bird',\n",
       " 'Early bird',\n",
       " 'Early bird',\n",
       " 'Early bird',\n",
       " 'Early bird',\n",
       " 'Early bird',\n",
       " 'Early bird',\n",
       " 'Early bird',\n",
       " 'Regular',\n",
       " 'Regular',\n",
       " 'Regular',\n",
       " 'Regular',\n",
       " 'Regular',\n",
       " 'Regular',\n",
       " 'Regular',\n",
       " 'Regular',\n",
       " 'Regular',\n",
       " 'Regular',\n",
       " 'Early bird',\n",
       " 'Early bird',\n",
       " 'Early bird',\n",
       " 'Early bird',\n",
       " 'Early bird',\n",
       " 'Early bird',\n",
       " 'Early bird',\n",
       " 'Early bird',\n",
       " 'Regular',\n",
       " 'Regular',\n",
       " 'Regular',\n",
       " 'Regular',\n",
       " 'Regular',\n",
       " 'Regular',\n",
       " 'Regular',\n",
       " 'Regular',\n",
       " 'Regular',\n",
       " 'Regular',\n",
       " 'Regular',\n",
       " 'Regular',\n",
       " 'Regular',\n",
       " 'Regular',\n",
       " 'Regular',\n",
       " 'Regular',\n",
       " 'Regular',\n",
       " 'Regular',\n",
       " 'Regular',\n",
       " 'Regular',\n",
       " 'Regular',\n",
       " 'Regular',\n",
       " 'Regular',\n",
       " 'Regular',\n",
       " 'Regular',\n",
       " 'Early bird',\n",
       " 'Early bird',\n",
       " 'Early bird',\n",
       " 'Regular',\n",
       " 'Regular',\n",
       " 'Regular',\n",
       " 'Regular',\n",
       " 'Regular',\n",
       " 'Regular',\n",
       " 'Regular',\n",
       " 'Regular',\n",
       " 'Regular',\n",
       " 'Regular',\n",
       " 'Regular',\n",
       " 'Regular',\n",
       " 'Regular',\n",
       " 'Regular',\n",
       " 'Regular',\n",
       " 'Regular',\n",
       " 'Regular',\n",
       " 'Regular',\n",
       " 'Regular',\n",
       " 'Regular',\n",
       " 'Early bird',\n",
       " 'Early bird',\n",
       " 'Early bird',\n",
       " 'Early bird',\n",
       " 'Early bird',\n",
       " 'Early bird',\n",
       " 'Early bird',\n",
       " 'Early bird',\n",
       " 'Early bird',\n",
       " 'Early bird',\n",
       " 'Early bird',\n",
       " 'Regular',\n",
       " 'Regular',\n",
       " 'Regular',\n",
       " 'Regular',\n",
       " 'Regular',\n",
       " 'Regular',\n",
       " 'Regular',\n",
       " 'Regular',\n",
       " 'Regular',\n",
       " 'Night owl',\n",
       " 'Night owl',\n",
       " 'Night owl',\n",
       " 'Night owl',\n",
       " 'Night owl',\n",
       " 'Night owl',\n",
       " 'Night owl',\n",
       " 'Night owl',\n",
       " 'Regular',\n",
       " 'Regular',\n",
       " 'Regular',\n",
       " 'Regular',\n",
       " 'Regular',\n",
       " 'Regular',\n",
       " 'Regular',\n",
       " 'Regular',\n",
       " 'Regular',\n",
       " 'Regular',\n",
       " 'Regular',\n",
       " 'Regular',\n",
       " 'Regular',\n",
       " 'Regular',\n",
       " 'Regular',\n",
       " 'Regular',\n",
       " 'Regular',\n",
       " 'Regular',\n",
       " 'Regular',\n",
       " 'Regular',\n",
       " 'Regular',\n",
       " 'Regular',\n",
       " 'Regular',\n",
       " 'Regular',\n",
       " 'Regular',\n",
       " 'Regular',\n",
       " 'Regular',\n",
       " 'Regular',\n",
       " 'Regular',\n",
       " 'Regular',\n",
       " 'Regular',\n",
       " 'Regular',\n",
       " 'Regular',\n",
       " 'Regular',\n",
       " 'Regular',\n",
       " 'Regular',\n",
       " 'Regular',\n",
       " 'Regular',\n",
       " 'Regular',\n",
       " 'Regular',\n",
       " 'Regular',\n",
       " 'Regular',\n",
       " 'Regular',\n",
       " 'Regular',\n",
       " 'Regular',\n",
       " 'Regular',\n",
       " 'Night owl',\n",
       " 'Night owl',\n",
       " 'Night owl',\n",
       " 'Night owl',\n",
       " 'Night owl',\n",
       " 'Night owl',\n",
       " 'Night owl',\n",
       " 'Regular',\n",
       " 'Regular',\n",
       " 'Regular',\n",
       " 'Regular',\n",
       " 'Regular',\n",
       " 'Regular',\n",
       " 'Regular',\n",
       " 'Regular',\n",
       " 'Regular',\n",
       " 'Regular',\n",
       " 'Regular',\n",
       " 'Regular',\n",
       " 'Regular',\n",
       " 'Regular',\n",
       " 'Regular',\n",
       " 'Regular',\n",
       " 'Regular',\n",
       " 'Regular',\n",
       " 'Regular',\n",
       " 'Regular',\n",
       " 'Regular',\n",
       " 'Regular',\n",
       " 'Regular',\n",
       " 'Regular',\n",
       " 'Regular',\n",
       " 'Regular',\n",
       " 'Regular',\n",
       " 'Regular',\n",
       " 'Regular',\n",
       " 'Regular',\n",
       " 'Regular',\n",
       " 'Regular',\n",
       " 'Regular',\n",
       " 'Regular',\n",
       " 'Regular',\n",
       " 'Regular',\n",
       " 'Regular',\n",
       " 'Regular',\n",
       " 'Regular',\n",
       " 'Regular',\n",
       " 'Regular',\n",
       " 'Regular',\n",
       " 'Regular',\n",
       " 'Regular',\n",
       " 'Night owl',\n",
       " 'Night owl',\n",
       " 'Night owl',\n",
       " 'Night owl',\n",
       " 'Night owl',\n",
       " 'Night owl',\n",
       " 'Night owl',\n",
       " 'Night owl',\n",
       " 'Regular',\n",
       " 'Regular',\n",
       " 'Regular',\n",
       " 'Regular',\n",
       " 'Regular',\n",
       " 'Regular',\n",
       " 'Regular',\n",
       " 'Regular',\n",
       " 'Night owl',\n",
       " 'Night owl',\n",
       " 'Night owl',\n",
       " 'Night owl',\n",
       " 'Regular',\n",
       " 'Regular',\n",
       " ...]"
      ]
     },
     "execution_count": 86,
     "metadata": {},
     "output_type": "execute_result"
    }
   ],
   "source": [
    "result"
   ]
  },
  {
   "cell_type": "code",
   "execution_count": 90,
   "id": "11fb982f",
   "metadata": {},
   "outputs": [],
   "source": [
    "df['order_time_period'] = result"
   ]
  },
  {
   "cell_type": "code",
   "execution_count": 91,
   "id": "a2d4d7c7",
   "metadata": {},
   "outputs": [
    {
     "data": {
      "text/plain": [
       "Regular       14139835\n",
       "Night owl      5531844\n",
       "Early bird     2023744\n",
       "Name: order_time_period, dtype: int64"
      ]
     },
     "execution_count": 91,
     "metadata": {},
     "output_type": "execute_result"
    }
   ],
   "source": [
    "#print the frequency of the new column\n",
    "df['order_time_period'].value_counts(dropna = False)"
   ]
  },
  {
   "cell_type": "code",
   "execution_count": 92,
   "id": "892132c3",
   "metadata": {
    "scrolled": true
   },
   "outputs": [
    {
     "name": "stdout",
     "output_type": "stream",
     "text": [
      "<class 'pandas.core.frame.DataFrame'>\n",
      "Int64Index: 21695423 entries, 1 to 32435058\n",
      "Data columns (total 43 columns):\n",
      " #   Column                  Dtype         \n",
      "---  ------                  -----         \n",
      " 0   order_id                int32         \n",
      " 1   user_id                 int32         \n",
      " 2   order_number            int8          \n",
      " 3   orders_day_of_week      int8          \n",
      " 4   order_hour_of_day       int8          \n",
      " 5   days_since_prior_order  float16       \n",
      " 6   product_id              int16         \n",
      " 7   add_to_cart_order       int16         \n",
      " 8   reordered               int16         \n",
      " 9   _merge                  category      \n",
      " 10  product_name            object        \n",
      " 11  aisle_id                float16       \n",
      " 12  department_id           float16       \n",
      " 13  prices                  float64       \n",
      " 14  price_range_loc         object        \n",
      " 15  busiest_days            object        \n",
      " 16  busiest_period_of_day   object        \n",
      " 17  max_order               int8          \n",
      " 18  loyalty_flag            object        \n",
      " 19  avg_price               float64       \n",
      " 20  spending_flag           object        \n",
      " 21  order_freq              float16       \n",
      " 22  order_freq_flag         object        \n",
      " 23  gender                  object        \n",
      " 24  state                   object        \n",
      " 25  age                     int8          \n",
      " 26  date_joined             datetime64[ns]\n",
      " 27  n_dependants            int16         \n",
      " 28  dependants_loc          object        \n",
      " 29  fam_status              object        \n",
      " 30  income                  int32         \n",
      " 31  region                  object        \n",
      " 32  exclusion_flag          object        \n",
      " 33  age_category            object        \n",
      " 34  income_flag             object        \n",
      " 35  profile_age             object        \n",
      " 36  profile_fam             object        \n",
      " 37  department              object        \n",
      " 38  alcohol_drinker         object        \n",
      " 39  pet_owner               object        \n",
      " 40  order_time_habit        object        \n",
      " 41  order_time_period2      object        \n",
      " 42  order_time_period       object        \n",
      "dtypes: category(1), datetime64[ns](1), float16(4), float64(2), int16(4), int32(3), int8(5), object(23)\n",
      "memory usage: 5.1+ GB\n"
     ]
    }
   ],
   "source": [
    "df.info()"
   ]
  },
  {
   "cell_type": "code",
   "execution_count": 95,
   "id": "e0ec2104",
   "metadata": {},
   "outputs": [
    {
     "data": {
      "text/plain": [
       "Regular       0.651743\n",
       "Night owl     0.254977\n",
       "Early bird    0.093280\n",
       "Name: order_time_period, dtype: float64"
      ]
     },
     "execution_count": 95,
     "metadata": {},
     "output_type": "execute_result"
    }
   ],
   "source": [
    "df['order_time_period'].value_counts(dropna = False, normalize = True)"
   ]
  },
  {
   "cell_type": "markdown",
   "id": "68040543",
   "metadata": {},
   "source": [
    "**Results:** 65% of purchases fall within regular hours, i.e., 9am until 6pm, 25% of purchases are made in the evening, from 6pm until 5 in the morning, and just over 9% of purchases fall within the early morning, 5am until 9am. "
   ]
  },
  {
   "cell_type": "code",
   "execution_count": 97,
   "id": "d6a7ba5b",
   "metadata": {},
   "outputs": [
    {
     "data": {
      "text/plain": [
       "(array([0, 1, 2]),\n",
       " [Text(0, 0, 'Regular'), Text(1, 0, 'Night owl'), Text(2, 0, 'Early bird')])"
      ]
     },
     "execution_count": 97,
     "metadata": {},
     "output_type": "execute_result"
    },
    {
     "data": {
      "image/png": "[encoded data removed]",
      "text/plain": [
       "<Figure size 640x480 with 1 Axes>"
      ]
     },
     "metadata": {},
     "output_type": "display_data"
    }
   ],
   "source": [
    "#creating a bar chart for order habit column\n",
    "bar_loyalty = df['order_time_period'].value_counts().plot.bar(color = ['darkgreen', 'limegreen', 'springgreen'])\n",
    "plt.title('Most popular purchasing times during the day', fontsize = 18, pad=20)\n",
    "plt.ylabel('No. of purchases (in millions)', fontsize = 12)\n",
    "plt.xticks(rotation=25)"
   ]
  },
  {
   "cell_type": "markdown",
   "id": "913ba5e6",
   "metadata": {},
   "source": [
    "### 3.4 Age and order day of week"
   ]
  },
  {
   "cell_type": "code",
   "execution_count": 115,
   "id": "c20b266d",
   "metadata": {},
   "outputs": [],
   "source": [
    "#customer comparison by age & day of week\n",
    "crosstab_age_day = pd.crosstab(df['age_category'], df['orders_day_of_week'], dropna = False)"
   ]
  },
  {
   "cell_type": "code",
   "execution_count": 118,
   "id": "d918ded9",
   "metadata": {},
   "outputs": [
    {
     "data": {
      "text/html": [
       "<div>\n",
       "<style scoped>\n",
       "    .dataframe tbody tr th:only-of-type {\n",
       "        vertical-align: middle;\n",
       "    }\n",
       "\n",
       "    .dataframe tbody tr th {\n",
       "        vertical-align: top;\n",
       "    }\n",
       "\n",
       "    .dataframe thead th {\n",
       "        text-align: right;\n",
       "    }\n",
       "</style>\n",
       "<table border=\"1\" class=\"dataframe\">\n",
       "  <thead>\n",
       "    <tr style=\"text-align: right;\">\n",
       "      <th>orders_day_of_week</th>\n",
       "      <th>0</th>\n",
       "      <th>1</th>\n",
       "      <th>2</th>\n",
       "      <th>3</th>\n",
       "      <th>4</th>\n",
       "      <th>5</th>\n",
       "      <th>6</th>\n",
       "    </tr>\n",
       "    <tr>\n",
       "      <th>age_category</th>\n",
       "      <th></th>\n",
       "      <th></th>\n",
       "      <th></th>\n",
       "      <th></th>\n",
       "      <th></th>\n",
       "      <th></th>\n",
       "      <th></th>\n",
       "    </tr>\n",
       "  </thead>\n",
       "  <tbody>\n",
       "    <tr>\n",
       "      <th>Middle age</th>\n",
       "      <td>1611284</td>\n",
       "      <td>1480240</td>\n",
       "      <td>1108838</td>\n",
       "      <td>1002287</td>\n",
       "      <td>991218</td>\n",
       "      <td>1104370</td>\n",
       "      <td>1180464</td>\n",
       "    </tr>\n",
       "    <tr>\n",
       "      <th>Senior</th>\n",
       "      <td>1097195</td>\n",
       "      <td>993083</td>\n",
       "      <td>746536</td>\n",
       "      <td>685670</td>\n",
       "      <td>670180</td>\n",
       "      <td>746877</td>\n",
       "      <td>802745</td>\n",
       "    </tr>\n",
       "    <tr>\n",
       "      <th>Youth</th>\n",
       "      <td>1430752</td>\n",
       "      <td>1319100</td>\n",
       "      <td>964670</td>\n",
       "      <td>882693</td>\n",
       "      <td>878510</td>\n",
       "      <td>974926</td>\n",
       "      <td>1023785</td>\n",
       "    </tr>\n",
       "  </tbody>\n",
       "</table>\n",
       "</div>"
      ],
      "text/plain": [
       "orders_day_of_week        0        1        2        3       4        5  \\\n",
       "age_category                                                              \n",
       "Middle age          1611284  1480240  1108838  1002287  991218  1104370   \n",
       "Senior              1097195   993083   746536   685670  670180   746877   \n",
       "Youth               1430752  1319100   964670   882693  878510   974926   \n",
       "\n",
       "orders_day_of_week        6  \n",
       "age_category                 \n",
       "Middle age          1180464  \n",
       "Senior               802745  \n",
       "Youth               1023785  "
      ]
     },
     "execution_count": 118,
     "metadata": {},
     "output_type": "execute_result"
    }
   ],
   "source": [
    "crosstab_age_day"
   ]
  },
  {
   "cell_type": "code",
   "execution_count": 119,
   "id": "5bd92869",
   "metadata": {},
   "outputs": [],
   "source": [
    "#customer comparison by age & day of week\n",
    "crosstab_age_day2 = pd.crosstab(df['age_category'], df['orders_day_of_week'], dropna = False, normalize = 'index')"
   ]
  },
  {
   "cell_type": "code",
   "execution_count": 120,
   "id": "2766be94",
   "metadata": {},
   "outputs": [
    {
     "data": {
      "text/html": [
       "<div>\n",
       "<style scoped>\n",
       "    .dataframe tbody tr th:only-of-type {\n",
       "        vertical-align: middle;\n",
       "    }\n",
       "\n",
       "    .dataframe tbody tr th {\n",
       "        vertical-align: top;\n",
       "    }\n",
       "\n",
       "    .dataframe thead th {\n",
       "        text-align: right;\n",
       "    }\n",
       "</style>\n",
       "<table border=\"1\" class=\"dataframe\">\n",
       "  <thead>\n",
       "    <tr style=\"text-align: right;\">\n",
       "      <th>orders_day_of_week</th>\n",
       "      <th>0</th>\n",
       "      <th>1</th>\n",
       "      <th>2</th>\n",
       "      <th>3</th>\n",
       "      <th>4</th>\n",
       "      <th>5</th>\n",
       "      <th>6</th>\n",
       "    </tr>\n",
       "    <tr>\n",
       "      <th>age_category</th>\n",
       "      <th></th>\n",
       "      <th></th>\n",
       "      <th></th>\n",
       "      <th></th>\n",
       "      <th></th>\n",
       "      <th></th>\n",
       "      <th></th>\n",
       "    </tr>\n",
       "  </thead>\n",
       "  <tbody>\n",
       "    <tr>\n",
       "      <th>Middle age</th>\n",
       "      <td>0.190039</td>\n",
       "      <td>0.174583</td>\n",
       "      <td>0.130779</td>\n",
       "      <td>0.118212</td>\n",
       "      <td>0.116907</td>\n",
       "      <td>0.130252</td>\n",
       "      <td>0.139227</td>\n",
       "    </tr>\n",
       "    <tr>\n",
       "      <th>Senior</th>\n",
       "      <td>0.191073</td>\n",
       "      <td>0.172942</td>\n",
       "      <td>0.130007</td>\n",
       "      <td>0.119407</td>\n",
       "      <td>0.116710</td>\n",
       "      <td>0.130066</td>\n",
       "      <td>0.139795</td>\n",
       "    </tr>\n",
       "    <tr>\n",
       "      <th>Youth</th>\n",
       "      <td>0.191419</td>\n",
       "      <td>0.176482</td>\n",
       "      <td>0.129063</td>\n",
       "      <td>0.118095</td>\n",
       "      <td>0.117535</td>\n",
       "      <td>0.130435</td>\n",
       "      <td>0.136972</td>\n",
       "    </tr>\n",
       "  </tbody>\n",
       "</table>\n",
       "</div>"
      ],
      "text/plain": [
       "orders_day_of_week         0         1         2         3         4  \\\n",
       "age_category                                                           \n",
       "Middle age          0.190039  0.174583  0.130779  0.118212  0.116907   \n",
       "Senior              0.191073  0.172942  0.130007  0.119407  0.116710   \n",
       "Youth               0.191419  0.176482  0.129063  0.118095  0.117535   \n",
       "\n",
       "orders_day_of_week         5         6  \n",
       "age_category                            \n",
       "Middle age          0.130252  0.139227  \n",
       "Senior              0.130066  0.139795  \n",
       "Youth               0.130435  0.136972  "
      ]
     },
     "execution_count": 120,
     "metadata": {},
     "output_type": "execute_result"
    }
   ],
   "source": [
    "crosstab_age_day2"
   ]
  },
  {
   "cell_type": "code",
   "execution_count": 116,
   "id": "0ae52e75",
   "metadata": {},
   "outputs": [
    {
     "data": {
      "text/plain": [
       "Text(0.5, 0, 'Age Group')"
      ]
     },
     "execution_count": 116,
     "metadata": {},
     "output_type": "execute_result"
    },
    {
     "data": {
      "image/png": "[encoded data removed]",
      "text/plain": [
       "<Figure size 640x480 with 1 Axes>"
      ]
     },
     "metadata": {},
     "output_type": "display_data"
    }
   ],
   "source": [
    "# Visualization of crosstab_age_day\n",
    "\n",
    "bar_age_day = crosstab_age_day.plot(kind = 'bar', rot = 0, color= ['lightseagreen', 'gold', 'lightgreen', 'turquoise', 'pink', 'lightblue', 'orange'])\n",
    "bar_age_day.legend(title='Days', bbox_to_anchor=(1, 1.02), loc='upper left', labels=['Saturday', 'Sunday', 'Monday', 'Tuesday', 'Wednesday', 'Thursday', 'Friday'])\n",
    "plt.title('Purchases in days of week by Age', fontsize = 18, pad=20)\n",
    "plt.ylabel('Frequency (in millions)', fontsize = 12)\n",
    "plt.xlabel('Age Group',  fontsize = 12)"
   ]
  },
  {
   "cell_type": "markdown",
   "id": "4369f293",
   "metadata": {},
   "source": [
    "#### 3.5. Region and hour of day "
   ]
  },
  {
   "cell_type": "code",
   "execution_count": 98,
   "id": "1eed6b67",
   "metadata": {},
   "outputs": [],
   "source": [
    "#customer comparison by region & order hour of day \n",
    "\n",
    "crosstab_age_hour = pd.crosstab(df['age_category'], df['order_time_period'], dropna = False)"
   ]
  },
  {
   "cell_type": "code",
   "execution_count": 106,
   "id": "e8e358cf",
   "metadata": {},
   "outputs": [
    {
     "data": {
      "text/plain": [
       "Text(0.5, 0, 'Age Group')"
      ]
     },
     "execution_count": 106,
     "metadata": {},
     "output_type": "execute_result"
    },
    {
     "data": {
      "image/png": "[encoded data removed]",
      "text/plain": [
       "<Figure size 640x480 with 1 Axes>"
      ]
     },
     "metadata": {},
     "output_type": "display_data"
    }
   ],
   "source": [
    "# Visualization of crosstab_age_day\n",
    "\n",
    "bar_age_day = crosstab_age_hour.plot(kind = 'bar', rot = 0, color= ['lightblue', 'lightgreen', 'lightseagreen'])\n",
    "bar_age_day.legend(title='Days', bbox_to_anchor=(1, 1.02), loc='upper left', labels=['Standard hours', 'Early bird', 'Night owl'])\n",
    "plt.title('Frequency of hour purchased during day', fontsize = 18, pad=20)\n",
    "plt.ylabel('Frequency (in millions)', fontsize = 12)\n",
    "plt.xlabel('Age Group',  fontsize = 18)"
   ]
  },
  {
   "cell_type": "markdown",
   "id": "5ca3bcec",
   "metadata": {},
   "source": [
    "#### Removing two columns which are no longer needed now that 'order_time_period' has been created"
   ]
  },
  {
   "cell_type": "code",
   "execution_count": 102,
   "id": "43d289e5",
   "metadata": {},
   "outputs": [],
   "source": [
    "df = df.drop('order_time_habit', axis=1)"
   ]
  },
  {
   "cell_type": "code",
   "execution_count": 103,
   "id": "4379b1a6",
   "metadata": {},
   "outputs": [],
   "source": [
    "df = df.drop('order_time_period2', axis=1)"
   ]
  },
  {
   "cell_type": "markdown",
   "id": "38d6b3fc",
   "metadata": {},
   "source": [
    "*Checking dataframe size and datatypes*"
   ]
  },
  {
   "cell_type": "code",
   "execution_count": 104,
   "id": "c8a41f2b",
   "metadata": {},
   "outputs": [
    {
     "name": "stdout",
     "output_type": "stream",
     "text": [
      "<class 'pandas.core.frame.DataFrame'>\n",
      "Int64Index: 21695423 entries, 1 to 32435058\n",
      "Data columns (total 41 columns):\n",
      " #   Column                  Dtype         \n",
      "---  ------                  -----         \n",
      " 0   order_id                int32         \n",
      " 1   user_id                 int32         \n",
      " 2   order_number            int8          \n",
      " 3   orders_day_of_week      int8          \n",
      " 4   order_hour_of_day       int8          \n",
      " 5   days_since_prior_order  float16       \n",
      " 6   product_id              int16         \n",
      " 7   add_to_cart_order       int16         \n",
      " 8   reordered               int16         \n",
      " 9   _merge                  category      \n",
      " 10  product_name            object        \n",
      " 11  aisle_id                float16       \n",
      " 12  department_id           float16       \n",
      " 13  prices                  float64       \n",
      " 14  price_range_loc         object        \n",
      " 15  busiest_days            object        \n",
      " 16  busiest_period_of_day   object        \n",
      " 17  max_order               int8          \n",
      " 18  loyalty_flag            object        \n",
      " 19  avg_price               float64       \n",
      " 20  spending_flag           object        \n",
      " 21  order_freq              float16       \n",
      " 22  order_freq_flag         object        \n",
      " 23  gender                  object        \n",
      " 24  state                   object        \n",
      " 25  age                     int8          \n",
      " 26  date_joined             datetime64[ns]\n",
      " 27  n_dependants            int16         \n",
      " 28  dependants_loc          object        \n",
      " 29  fam_status              object        \n",
      " 30  income                  int32         \n",
      " 31  region                  object        \n",
      " 32  exclusion_flag          object        \n",
      " 33  age_category            object        \n",
      " 34  income_flag             object        \n",
      " 35  profile_age             object        \n",
      " 36  profile_fam             object        \n",
      " 37  department              object        \n",
      " 38  alcohol_drinker         object        \n",
      " 39  pet_owner               object        \n",
      " 40  order_time_period       object        \n",
      "dtypes: category(1), datetime64[ns](1), float16(4), float64(2), int16(4), int32(3), int8(5), object(21)\n",
      "memory usage: 4.7+ GB\n"
     ]
    }
   ],
   "source": [
    "df.info()"
   ]
  },
  {
   "cell_type": "markdown",
   "id": "c887de60",
   "metadata": {},
   "source": [
    "# 5. Exporting Dataframe and Visualisations"
   ]
  },
  {
   "cell_type": "markdown",
   "id": "01a5d1e9",
   "metadata": {},
   "source": [
    "#### Dataframe"
   ]
  },
  {
   "cell_type": "code",
   "execution_count": 105,
   "id": "d859df5d",
   "metadata": {},
   "outputs": [],
   "source": [
    "df.to_pickle(os.path.join(path, '02_Data', 'Prepared_data', 'final_project.pkl'))"
   ]
  },
  {
   "cell_type": "markdown",
   "id": "f81145df",
   "metadata": {},
   "source": [
    "#### Visualisations"
   ]
  },
  {
   "cell_type": "code",
   "execution_count": 72,
   "id": "6027744a",
   "metadata": {},
   "outputs": [],
   "source": [
    "hist_income.figure.savefig(os.path.join(path, '04_Analysis','Visualisations', 'hist_income.02.png'))"
   ]
  },
  {
   "cell_type": "code",
   "execution_count": 113,
   "id": "21285171",
   "metadata": {},
   "outputs": [],
   "source": [
    "bar_fam_status.figure.savefig(os.path.join(path, '04_Analysis','Visualisations', 'bar_fam_status.02.png'))"
   ]
  },
  {
   "cell_type": "code",
   "execution_count": 114,
   "id": "24199311",
   "metadata": {},
   "outputs": [],
   "source": [
    "bar_dependants.figure.savefig(os.path.join(path, '04_Analysis','Visualisations', 'bar_dependants.02.png'))"
   ]
  },
  {
   "cell_type": "code",
   "execution_count": 75,
   "id": "7b279515",
   "metadata": {},
   "outputs": [],
   "source": [
    "alcohol_drinker_pie.figure.savefig(os.path.join(path, '04_Analysis','Visualisations', 'alc_pie.02.png'))"
   ]
  },
  {
   "cell_type": "code",
   "execution_count": 117,
   "id": "24c54a84",
   "metadata": {},
   "outputs": [],
   "source": [
    "bar_age_day.figure.savefig(os.path.join(path, '04_Analysis','Visualisations', 'bar_age_day.02.png'))"
   ]
  },
  {
   "cell_type": "code",
   "execution_count": 107,
   "id": "b86ed319",
   "metadata": {},
   "outputs": [],
   "source": [
    "bar_day_hod.figure.savefig(os.path.join(path, '04_Analysis','Visualisations', 'bar_age_hod.02.png'))"
   ]
  },
  {
   "cell_type": "code",
   "execution_count": 108,
   "id": "00a84970",
   "metadata": {},
   "outputs": [],
   "source": [
    "bar_loyalty.figure.savefig(os.path.join(path, '04_Analysis','Visualisations', 'bar_loyalty.02.png'))"
   ]
  },
  {
   "cell_type": "code",
   "execution_count": 126,
   "id": "ed4eb534",
   "metadata": {},
   "outputs": [],
   "source": [
    "pie_pet_owner.figure.savefig(os.path.join(path, '04_Analysis','Visualisations', 'pie_pet.02.png'))"
   ]
  }
 ],
 "metadata": {
  "kernelspec": {
   "display_name": "Python 3 (ipykernel)",
   "language": "python",
   "name": "python3"
  },
  "language_info": {
   "codemirror_mode": {
    "name": "ipython",
    "version": 3
   },
   "file_extension": ".py",
   "mimetype": "text/x-python",
   "name": "python",
   "nbconvert_exporter": "python",
   "pygments_lexer": "ipython3",
   "version": "3.9.13"
  }
 },
 "nbformat": 4,
 "nbformat_minor": 5
}
