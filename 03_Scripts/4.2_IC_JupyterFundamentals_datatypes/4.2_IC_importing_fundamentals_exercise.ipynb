{
 "cells": [
  {
   "cell_type": "markdown",
   "id": "26f1a2c6",
   "metadata": {},
   "source": [
    "# Ex 4.2 Jupyter Fundamentals and Python Data Types "
   ]
  },
  {
   "cell_type": "code",
   "execution_count": 1,
   "id": "87ee7798",
   "metadata": {},
   "outputs": [],
   "source": [
    "# import libraries "
   ]
  },
  {
   "cell_type": "code",
   "execution_count": 2,
   "id": "6858b50e",
   "metadata": {},
   "outputs": [],
   "source": [
    "import pandas as pd\n",
    "import numpy as nm\n",
    "import os"
   ]
  },
  {
   "cell_type": "code",
   "execution_count": 6,
   "id": "1f29b6e5",
   "metadata": {},
   "outputs": [],
   "source": [
    "## working with python data types"
   ]
  },
  {
   "cell_type": "code",
   "execution_count": null,
   "id": "b4b84a83",
   "metadata": {},
   "outputs": [],
   "source": [
    "### example 1"
   ]
  },
  {
   "cell_type": "code",
   "execution_count": 7,
   "id": "2abddddd",
   "metadata": {},
   "outputs": [],
   "source": [
    "a = 60"
   ]
  },
  {
   "cell_type": "code",
   "execution_count": 8,
   "id": "28a1cef1",
   "metadata": {},
   "outputs": [],
   "source": [
    "b = 30"
   ]
  },
  {
   "cell_type": "code",
   "execution_count": 9,
   "id": "e46b5aa9",
   "metadata": {},
   "outputs": [],
   "source": [
    "c = 10"
   ]
  },
  {
   "cell_type": "code",
   "execution_count": 10,
   "id": "58199893",
   "metadata": {},
   "outputs": [
    {
     "data": {
      "text/plain": [
       "100"
      ]
     },
     "execution_count": 10,
     "metadata": {},
     "output_type": "execute_result"
    }
   ],
   "source": [
    "a + b +c"
   ]
  },
  {
   "cell_type": "code",
   "execution_count": 11,
   "id": "cb424192",
   "metadata": {},
   "outputs": [],
   "source": [
    "### example 2"
   ]
  },
  {
   "cell_type": "code",
   "execution_count": 12,
   "id": "599db74b",
   "metadata": {},
   "outputs": [],
   "source": [
    "d = 200"
   ]
  },
  {
   "cell_type": "code",
   "execution_count": 13,
   "id": "0835c546",
   "metadata": {},
   "outputs": [],
   "source": [
    "e = 80"
   ]
  },
  {
   "cell_type": "code",
   "execution_count": 14,
   "id": "85fa5eb1",
   "metadata": {},
   "outputs": [],
   "source": [
    "f = 20"
   ]
  },
  {
   "cell_type": "code",
   "execution_count": 15,
   "id": "3969b080",
   "metadata": {},
   "outputs": [
    {
     "data": {
      "text/plain": [
       "100"
      ]
     },
     "execution_count": 15,
     "metadata": {},
     "output_type": "execute_result"
    }
   ],
   "source": [
    "d - e - f"
   ]
  },
  {
   "cell_type": "code",
   "execution_count": 16,
   "id": "7bc48e41",
   "metadata": {},
   "outputs": [],
   "source": [
    "### example 3"
   ]
  },
  {
   "cell_type": "code",
   "execution_count": 17,
   "id": "fb50f337",
   "metadata": {},
   "outputs": [],
   "source": [
    "g = 150"
   ]
  },
  {
   "cell_type": "code",
   "execution_count": 18,
   "id": "eddfad95",
   "metadata": {},
   "outputs": [],
   "source": [
    "h = 75"
   ]
  },
  {
   "cell_type": "code",
   "execution_count": 19,
   "id": "08961c94",
   "metadata": {},
   "outputs": [],
   "source": [
    "i = 25"
   ]
  },
  {
   "cell_type": "code",
   "execution_count": 20,
   "id": "15ae629c",
   "metadata": {},
   "outputs": [
    {
     "data": {
      "text/plain": [
       "100"
      ]
     },
     "execution_count": 20,
     "metadata": {},
     "output_type": "execute_result"
    }
   ],
   "source": [
    "g - h + i"
   ]
  },
  {
   "cell_type": "code",
   "execution_count": 21,
   "id": "0bed1163",
   "metadata": {},
   "outputs": [],
   "source": [
    "### example 4"
   ]
  },
  {
   "cell_type": "code",
   "execution_count": 22,
   "id": "bc4792f4",
   "metadata": {},
   "outputs": [],
   "source": [
    "j = 1.5"
   ]
  },
  {
   "cell_type": "code",
   "execution_count": 23,
   "id": "c5140e59",
   "metadata": {},
   "outputs": [],
   "source": [
    "k = 3.2"
   ]
  },
  {
   "cell_type": "code",
   "execution_count": 24,
   "id": "231c4237",
   "metadata": {},
   "outputs": [
    {
     "data": {
      "text/plain": [
       "4.800000000000001"
      ]
     },
     "execution_count": 24,
     "metadata": {},
     "output_type": "execute_result"
    }
   ],
   "source": [
    "j * k"
   ]
  },
  {
   "cell_type": "code",
   "execution_count": 25,
   "id": "8dc231c0",
   "metadata": {},
   "outputs": [],
   "source": [
    "### example 5"
   ]
  },
  {
   "cell_type": "code",
   "execution_count": 26,
   "id": "49205837",
   "metadata": {},
   "outputs": [],
   "source": [
    "l = 100.25"
   ]
  },
  {
   "cell_type": "code",
   "execution_count": 27,
   "id": "f45a5246",
   "metadata": {},
   "outputs": [],
   "source": [
    "m = 2.25"
   ]
  },
  {
   "cell_type": "code",
   "execution_count": 28,
   "id": "6d1584f1",
   "metadata": {},
   "outputs": [
    {
     "data": {
      "text/plain": [
       "44.55555555555556"
      ]
     },
     "execution_count": 28,
     "metadata": {},
     "output_type": "execute_result"
    }
   ],
   "source": [
    "l / m"
   ]
  },
  {
   "cell_type": "code",
   "execution_count": 29,
   "id": "f59c7ee0",
   "metadata": {},
   "outputs": [],
   "source": [
    "### example 6"
   ]
  },
  {
   "cell_type": "code",
   "execution_count": 30,
   "id": "5f3def4c",
   "metadata": {},
   "outputs": [],
   "source": [
    "n = 4.5"
   ]
  },
  {
   "cell_type": "code",
   "execution_count": 31,
   "id": "4ca982e3",
   "metadata": {},
   "outputs": [],
   "source": [
    "o = 3.2"
   ]
  },
  {
   "cell_type": "code",
   "execution_count": 32,
   "id": "354a039c",
   "metadata": {},
   "outputs": [
    {
     "data": {
      "text/plain": [
       "1.40625"
      ]
     },
     "execution_count": 32,
     "metadata": {},
     "output_type": "execute_result"
    }
   ],
   "source": [
    "n / o"
   ]
  },
  {
   "cell_type": "code",
   "execution_count": 33,
   "id": "fe3e3085",
   "metadata": {},
   "outputs": [],
   "source": [
    "### example 7 "
   ]
  },
  {
   "cell_type": "code",
   "execution_count": 34,
   "id": "2ef52dab",
   "metadata": {},
   "outputs": [],
   "source": [
    "p = 'break'"
   ]
  },
  {
   "cell_type": "code",
   "execution_count": 35,
   "id": "b2012d29",
   "metadata": {},
   "outputs": [],
   "source": [
    "q = 'fast'"
   ]
  },
  {
   "cell_type": "code",
   "execution_count": 36,
   "id": "566c8970",
   "metadata": {},
   "outputs": [
    {
     "data": {
      "text/plain": [
       "'breakfast'"
      ]
     },
     "execution_count": 36,
     "metadata": {},
     "output_type": "execute_result"
    }
   ],
   "source": [
    "p + q"
   ]
  },
  {
   "cell_type": "code",
   "execution_count": 37,
   "id": "af210aa0",
   "metadata": {},
   "outputs": [],
   "source": [
    "### example 8"
   ]
  },
  {
   "cell_type": "code",
   "execution_count": 38,
   "id": "b8b96a39",
   "metadata": {},
   "outputs": [],
   "source": [
    "p = p + q"
   ]
  },
  {
   "cell_type": "code",
   "execution_count": 39,
   "id": "d2315a24",
   "metadata": {},
   "outputs": [
    {
     "data": {
      "text/plain": [
       "str"
      ]
     },
     "execution_count": 39,
     "metadata": {},
     "output_type": "execute_result"
    }
   ],
   "source": [
    "type(p)"
   ]
  },
  {
   "cell_type": "code",
   "execution_count": 40,
   "id": "7458f6d6",
   "metadata": {},
   "outputs": [
    {
     "name": "stdout",
     "output_type": "stream",
     "text": [
      "breakfast\n"
     ]
    }
   ],
   "source": [
    "print(p)"
   ]
  },
  {
   "cell_type": "code",
   "execution_count": 42,
   "id": "44a3edc6",
   "metadata": {},
   "outputs": [],
   "source": [
    "r = ' is yummy!'"
   ]
  },
  {
   "cell_type": "code",
   "execution_count": 43,
   "id": "db8cd71d",
   "metadata": {},
   "outputs": [
    {
     "data": {
      "text/plain": [
       "'breakfast is yummy!'"
      ]
     },
     "execution_count": 43,
     "metadata": {},
     "output_type": "execute_result"
    }
   ],
   "source": [
    "p + r"
   ]
  },
  {
   "cell_type": "code",
   "execution_count": 44,
   "id": "9002eefd",
   "metadata": {},
   "outputs": [],
   "source": [
    "### example 9"
   ]
  },
  {
   "cell_type": "code",
   "execution_count": 45,
   "id": "3bcb87cc",
   "metadata": {},
   "outputs": [],
   "source": [
    "s = 'python is '"
   ]
  },
  {
   "cell_type": "code",
   "execution_count": 46,
   "id": "ed10707a",
   "metadata": {},
   "outputs": [],
   "source": [
    "t = 'lots of fun!'"
   ]
  },
  {
   "cell_type": "code",
   "execution_count": 47,
   "id": "5fcc32d3",
   "metadata": {},
   "outputs": [
    {
     "data": {
      "text/plain": [
       "'python is lots of fun!'"
      ]
     },
     "execution_count": 47,
     "metadata": {},
     "output_type": "execute_result"
    }
   ],
   "source": [
    "s + t"
   ]
  },
  {
   "cell_type": "code",
   "execution_count": 48,
   "id": "48315e5e",
   "metadata": {},
   "outputs": [],
   "source": [
    "### bonus"
   ]
  },
  {
   "cell_type": "code",
   "execution_count": 50,
   "id": "26350218",
   "metadata": {},
   "outputs": [],
   "source": [
    "u = 'beans '"
   ]
  },
  {
   "cell_type": "code",
   "execution_count": 51,
   "id": "16d42209",
   "metadata": {},
   "outputs": [
    {
     "data": {
      "text/plain": [
       "'beans beans beans beans beans beans beans beans beans beans beans beans beans beans beans beans beans beans beans beans beans beans beans beans beans beans beans beans beans beans beans beans beans beans beans beans beans beans beans beans beans beans beans beans beans beans beans beans beans beans beans beans beans beans beans beans beans beans beans beans beans beans beans beans beans beans beans beans beans beans beans beans beans beans beans beans beans beans beans beans beans beans beans beans beans beans beans beans beans beans beans beans beans beans beans beans beans beans beans beans '"
      ]
     },
     "execution_count": 51,
     "metadata": {},
     "output_type": "execute_result"
    }
   ],
   "source": [
    "u * 100"
   ]
  },
  {
   "cell_type": "code",
   "execution_count": null,
   "id": "630c235b",
   "metadata": {},
   "outputs": [],
   "source": []
  }
 ],
 "metadata": {
  "kernelspec": {
   "display_name": "Python 3 (ipykernel)",
   "language": "python",
   "name": "python3"
  },
  "language_info": {
   "codemirror_mode": {
    "name": "ipython",
    "version": 3
   },
   "file_extension": ".py",
   "mimetype": "text/x-python",
   "name": "python",
   "nbconvert_exporter": "python",
   "pygments_lexer": "ipython3",
   "version": "3.9.13"
  }
 },
 "nbformat": 4,
 "nbformat_minor": 5
}
