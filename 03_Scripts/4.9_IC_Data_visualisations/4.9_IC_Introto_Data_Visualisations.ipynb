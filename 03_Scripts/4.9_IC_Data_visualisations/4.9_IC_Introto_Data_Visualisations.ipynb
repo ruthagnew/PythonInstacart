{
 "cells": [
  {
   "cell_type": "markdown",
   "id": "f72cd079",
   "metadata": {},
   "source": [
    "# Introduction to Data Visualisations\n",
    "\n",
    "Using seaborn, matplotlib, and scipy to create data visualisations in python\n",
    "\n",
    "1. Creating Bar Charts \n",
    "2. Creating Histograms and Scatterplots\n",
    "3. Creating Libe Charts\n",
    "4. Sampling data"
   ]
  },
  {
   "cell_type": "code",
   "execution_count": 23,
   "id": "a930a850",
   "metadata": {},
   "outputs": [],
   "source": [
    "#import libraries\n",
    "import pandas as pd\n",
    "import numpy as np\n",
    "import os\n",
    "import matplotlib.pyplot as plt\n",
    "import seaborn as sns\n",
    "import scipy"
   ]
  },
  {
   "cell_type": "code",
   "execution_count": 2,
   "id": "c927c0b4",
   "metadata": {},
   "outputs": [],
   "source": [
    "#create usable path \n",
    "path = r'C:\\Users\\rutha\\CareerFoundry\\01-23_Instacart_Basket_Analysis'"
   ]
  },
  {
   "cell_type": "code",
   "execution_count": 3,
   "id": "76f03714",
   "metadata": {},
   "outputs": [],
   "source": [
    "#import data set\n",
    "df = pd.read_pickle(os.path.join(path, '02_Data', 'Prepared_data', 'full_merged5.pkl'))"
   ]
  },
  {
   "cell_type": "code",
   "execution_count": 4,
   "id": "679ba531",
   "metadata": {},
   "outputs": [
    {
     "name": "stdout",
     "output_type": "stream",
     "text": [
      "Sample of most recent data set\n"
     ]
    },
    {
     "data": {
      "text/html": [
       "<div>\n",
       "<style scoped>\n",
       "    .dataframe tbody tr th:only-of-type {\n",
       "        vertical-align: middle;\n",
       "    }\n",
       "\n",
       "    .dataframe tbody tr th {\n",
       "        vertical-align: top;\n",
       "    }\n",
       "\n",
       "    .dataframe thead th {\n",
       "        text-align: right;\n",
       "    }\n",
       "</style>\n",
       "<table border=\"1\" class=\"dataframe\">\n",
       "  <thead>\n",
       "    <tr style=\"text-align: right;\">\n",
       "      <th></th>\n",
       "      <th>order_id</th>\n",
       "      <th>user_id</th>\n",
       "      <th>order_number</th>\n",
       "      <th>orders_day_of_week</th>\n",
       "      <th>order_hour_of_day</th>\n",
       "      <th>days_since_prior_order</th>\n",
       "      <th>product_id</th>\n",
       "      <th>add_to_cart_order</th>\n",
       "      <th>reordered</th>\n",
       "      <th>_merge</th>\n",
       "      <th>...</th>\n",
       "      <th>prices</th>\n",
       "      <th>price_range_loc</th>\n",
       "      <th>busiest_days</th>\n",
       "      <th>busiest_period_of_day</th>\n",
       "      <th>max_order</th>\n",
       "      <th>loyalty_flag</th>\n",
       "      <th>avg_price</th>\n",
       "      <th>spending_flag</th>\n",
       "      <th>order_freq</th>\n",
       "      <th>order_freq_flag</th>\n",
       "    </tr>\n",
       "  </thead>\n",
       "  <tbody>\n",
       "    <tr>\n",
       "      <th>13428261</th>\n",
       "      <td>1611795</td>\n",
       "      <td>84991</td>\n",
       "      <td>13</td>\n",
       "      <td>0</td>\n",
       "      <td>9</td>\n",
       "      <td>7.0</td>\n",
       "      <td>25330</td>\n",
       "      <td>3</td>\n",
       "      <td>1</td>\n",
       "      <td>both</td>\n",
       "      <td>...</td>\n",
       "      <td>2.4</td>\n",
       "      <td>Low-range product</td>\n",
       "      <td>Busiest days</td>\n",
       "      <td>Most orders</td>\n",
       "      <td>53</td>\n",
       "      <td>Loyal customer</td>\n",
       "      <td>7.89</td>\n",
       "      <td>Low spender</td>\n",
       "      <td>7.0</td>\n",
       "      <td>Frequent customer</td>\n",
       "    </tr>\n",
       "    <tr>\n",
       "      <th>18234162</th>\n",
       "      <td>1882057</td>\n",
       "      <td>115431</td>\n",
       "      <td>3</td>\n",
       "      <td>0</td>\n",
       "      <td>12</td>\n",
       "      <td>30.0</td>\n",
       "      <td>5995</td>\n",
       "      <td>1</td>\n",
       "      <td>0</td>\n",
       "      <td>both</td>\n",
       "      <td>...</td>\n",
       "      <td>9.6</td>\n",
       "      <td>Mid-range product</td>\n",
       "      <td>Busiest days</td>\n",
       "      <td>Most orders</td>\n",
       "      <td>3</td>\n",
       "      <td>New customer</td>\n",
       "      <td>9.50</td>\n",
       "      <td>Low spender</td>\n",
       "      <td>30.0</td>\n",
       "      <td>Non-frequent customer</td>\n",
       "    </tr>\n",
       "    <tr>\n",
       "      <th>31434965</th>\n",
       "      <td>567804</td>\n",
       "      <td>199767</td>\n",
       "      <td>5</td>\n",
       "      <td>1</td>\n",
       "      <td>9</td>\n",
       "      <td>30.0</td>\n",
       "      <td>22736</td>\n",
       "      <td>19</td>\n",
       "      <td>0</td>\n",
       "      <td>both</td>\n",
       "      <td>...</td>\n",
       "      <td>10.6</td>\n",
       "      <td>Mid-range product</td>\n",
       "      <td>Busiest days</td>\n",
       "      <td>Most orders</td>\n",
       "      <td>5</td>\n",
       "      <td>New customer</td>\n",
       "      <td>7.20</td>\n",
       "      <td>Low spender</td>\n",
       "      <td>20.0</td>\n",
       "      <td>Regular customer</td>\n",
       "    </tr>\n",
       "    <tr>\n",
       "      <th>23104568</th>\n",
       "      <td>67560</td>\n",
       "      <td>146709</td>\n",
       "      <td>8</td>\n",
       "      <td>4</td>\n",
       "      <td>11</td>\n",
       "      <td>30.0</td>\n",
       "      <td>-17910</td>\n",
       "      <td>9</td>\n",
       "      <td>1</td>\n",
       "      <td>both</td>\n",
       "      <td>...</td>\n",
       "      <td>14.0</td>\n",
       "      <td>Mid-range product</td>\n",
       "      <td>Slowest days</td>\n",
       "      <td>Most orders</td>\n",
       "      <td>8</td>\n",
       "      <td>New customer</td>\n",
       "      <td>7.60</td>\n",
       "      <td>Low spender</td>\n",
       "      <td>30.0</td>\n",
       "      <td>Non-frequent customer</td>\n",
       "    </tr>\n",
       "    <tr>\n",
       "      <th>20151598</th>\n",
       "      <td>3307862</td>\n",
       "      <td>127877</td>\n",
       "      <td>2</td>\n",
       "      <td>6</td>\n",
       "      <td>13</td>\n",
       "      <td>26.0</td>\n",
       "      <td>6692</td>\n",
       "      <td>4</td>\n",
       "      <td>1</td>\n",
       "      <td>both</td>\n",
       "      <td>...</td>\n",
       "      <td>13.8</td>\n",
       "      <td>Mid-range product</td>\n",
       "      <td>Regularly busy</td>\n",
       "      <td>Most orders</td>\n",
       "      <td>7</td>\n",
       "      <td>New customer</td>\n",
       "      <td>7.70</td>\n",
       "      <td>Low spender</td>\n",
       "      <td>29.0</td>\n",
       "      <td>Non-frequent customer</td>\n",
       "    </tr>\n",
       "  </tbody>\n",
       "</table>\n",
       "<p>5 rows × 23 columns</p>\n",
       "</div>"
      ],
      "text/plain": [
       "          order_id  user_id  order_number  orders_day_of_week  \\\n",
       "13428261   1611795    84991            13                   0   \n",
       "18234162   1882057   115431             3                   0   \n",
       "31434965    567804   199767             5                   1   \n",
       "23104568     67560   146709             8                   4   \n",
       "20151598   3307862   127877             2                   6   \n",
       "\n",
       "          order_hour_of_day  days_since_prior_order  product_id  \\\n",
       "13428261                  9                     7.0       25330   \n",
       "18234162                 12                    30.0        5995   \n",
       "31434965                  9                    30.0       22736   \n",
       "23104568                 11                    30.0      -17910   \n",
       "20151598                 13                    26.0        6692   \n",
       "\n",
       "          add_to_cart_order  reordered _merge  ... prices    price_range_loc  \\\n",
       "13428261                  3          1   both  ...    2.4  Low-range product   \n",
       "18234162                  1          0   both  ...    9.6  Mid-range product   \n",
       "31434965                 19          0   both  ...   10.6  Mid-range product   \n",
       "23104568                  9          1   both  ...   14.0  Mid-range product   \n",
       "20151598                  4          1   both  ...   13.8  Mid-range product   \n",
       "\n",
       "            busiest_days  busiest_period_of_day max_order    loyalty_flag  \\\n",
       "13428261    Busiest days            Most orders        53  Loyal customer   \n",
       "18234162    Busiest days            Most orders         3    New customer   \n",
       "31434965    Busiest days            Most orders         5    New customer   \n",
       "23104568    Slowest days            Most orders         8    New customer   \n",
       "20151598  Regularly busy            Most orders         7    New customer   \n",
       "\n",
       "         avg_price  spending_flag order_freq        order_freq_flag  \n",
       "13428261      7.89    Low spender        7.0      Frequent customer  \n",
       "18234162      9.50    Low spender       30.0  Non-frequent customer  \n",
       "31434965      7.20    Low spender       20.0       Regular customer  \n",
       "23104568      7.60    Low spender       30.0  Non-frequent customer  \n",
       "20151598      7.70    Low spender       29.0  Non-frequent customer  \n",
       "\n",
       "[5 rows x 23 columns]"
      ]
     },
     "execution_count": 4,
     "metadata": {},
     "output_type": "execute_result"
    }
   ],
   "source": [
    "#check output \n",
    "print('Sample of most recent data set')\n",
    "df.sample(5)"
   ]
  },
  {
   "cell_type": "code",
   "execution_count": 6,
   "id": "50b94ae9",
   "metadata": {},
   "outputs": [
    {
     "name": "stdout",
     "output_type": "stream",
     "text": [
      "<class 'pandas.core.frame.DataFrame'>\n",
      "Int64Index: 32435059 entries, 0 to 32435058\n",
      "Data columns (total 23 columns):\n",
      " #   Column                  Dtype   \n",
      "---  ------                  -----   \n",
      " 0   order_id                int32   \n",
      " 1   user_id                 int32   \n",
      " 2   order_number            int8    \n",
      " 3   orders_day_of_week      int8    \n",
      " 4   order_hour_of_day       int8    \n",
      " 5   days_since_prior_order  float16 \n",
      " 6   product_id              int16   \n",
      " 7   add_to_cart_order       int16   \n",
      " 8   reordered               int16   \n",
      " 9   _merge                  category\n",
      " 10  product_name            object  \n",
      " 11  aisle_id                float16 \n",
      " 12  department_id           float16 \n",
      " 13  prices                  float64 \n",
      " 14  price_range_loc         object  \n",
      " 15  busiest_days            object  \n",
      " 16  busiest_period_of_day   object  \n",
      " 17  max_order               int8    \n",
      " 18  loyalty_flag            object  \n",
      " 19  avg_price               float64 \n",
      " 20  spending_flag           object  \n",
      " 21  order_freq              float16 \n",
      " 22  order_freq_flag         object  \n",
      "dtypes: category(1), float16(4), float64(2), int16(3), int32(2), int8(4), object(7)\n",
      "memory usage: 3.2+ GB\n"
     ]
    }
   ],
   "source": [
    "df.info()"
   ]
  },
  {
   "cell_type": "code",
   "execution_count": 8,
   "id": "b8b142eb",
   "metadata": {},
   "outputs": [
    {
     "data": {
      "text/plain": [
       "(32435059, 23)"
      ]
     },
     "execution_count": 8,
     "metadata": {},
     "output_type": "execute_result"
    }
   ],
   "source": [
    "df.shape"
   ]
  },
  {
   "cell_type": "markdown",
   "id": "e541f5da",
   "metadata": {},
   "source": [
    "## 1. Creating Bar Charts"
   ]
  },
  {
   "cell_type": "code",
   "execution_count": 10,
   "id": "49883639",
   "metadata": {},
   "outputs": [
    {
     "data": {
      "image/png": "[encoded data removed]",
      "text/plain": [
       "<Figure size 640x480 with 1 Axes>"
      ]
     },
     "metadata": {},
     "output_type": "display_data"
    }
   ],
   "source": [
    "#creating a bar chart for order_day_of_week column\n",
    "bar = df['orders_day_of_week'].value_counts().plot.bar()"
   ]
  },
  {
   "cell_type": "code",
   "execution_count": 11,
   "id": "04ed0924",
   "metadata": {},
   "outputs": [
    {
     "data": {
      "image/png": "[encoded data removed]",
      "text/plain": [
       "<Figure size 640x480 with 1 Axes>"
      ]
     },
     "metadata": {},
     "output_type": "display_data"
    }
   ],
   "source": [
    "bar = df['orders_day_of_week'].value_counts().sort_index().plot.bar()"
   ]
  },
  {
   "cell_type": "markdown",
   "id": "f7962c90",
   "metadata": {},
   "source": [
    "#### Adding colours into your bar charts"
   ]
  },
  {
   "cell_type": "code",
   "execution_count": 14,
   "id": "d16f9cbf",
   "metadata": {},
   "outputs": [
    {
     "data": {
      "image/png": "[encoded data removed]",
      "text/plain": [
       "<Figure size 640x480 with 1 Axes>"
      ]
     },
     "metadata": {},
     "output_type": "display_data"
    }
   ],
   "source": [
    "bar = df['orders_day_of_week'].value_counts().sort_index().plot.bar(color =['purple', 'red', 'pink', 'orange', 'yellow', 'green', 'blue'])"
   ]
  },
  {
   "cell_type": "code",
   "execution_count": 15,
   "id": "03671103",
   "metadata": {},
   "outputs": [
    {
     "data": {
      "image/png": "[encoded data removed]",
      "text/plain": [
       "<Figure size 640x480 with 1 Axes>"
      ]
     },
     "execution_count": 15,
     "metadata": {},
     "output_type": "execute_result"
    }
   ],
   "source": [
    "bar.figure"
   ]
  },
  {
   "cell_type": "markdown",
   "id": "2b899192",
   "metadata": {},
   "source": [
    "#### Exporting my bar chart"
   ]
  },
  {
   "cell_type": "code",
   "execution_count": 17,
   "id": "e5ad4716",
   "metadata": {},
   "outputs": [],
   "source": [
    "bar.figure.savefig(os.path.join(path, '04_Analysis', 'Visualisations', 'bar_orders_dow.png'))"
   ]
  },
  {
   "cell_type": "markdown",
   "id": "79221c98",
   "metadata": {},
   "source": [
    "## 2. Creating Histograms and Scatterplots"
   ]
  },
  {
   "cell_type": "code",
   "execution_count": 18,
   "id": "e9602452",
   "metadata": {},
   "outputs": [
    {
     "data": {
      "text/plain": [
       "<AxesSubplot:ylabel='Frequency'>"
      ]
     },
     "execution_count": 18,
     "metadata": {},
     "output_type": "execute_result"
    },
    {
     "data": {
      "image/png": "[encoded data removed]",
      "text/plain": [
       "<Figure size 640x480 with 1 Axes>"
      ]
     },
     "metadata": {},
     "output_type": "display_data"
    }
   ],
   "source": [
    "df['prices'].plot.hist(bins = 25)"
   ]
  },
  {
   "cell_type": "code",
   "execution_count": 20,
   "id": "f4cf0a45",
   "metadata": {},
   "outputs": [
    {
     "data": {
      "text/plain": [
       "<AxesSubplot:xlabel='prices', ylabel='prices'>"
      ]
     },
     "execution_count": 20,
     "metadata": {},
     "output_type": "execute_result"
    },
    {
     "data": {
      "image/png": "[encoded data removed]",
      "text/plain": [
       "<Figure size 640x480 with 1 Axes>"
      ]
     },
     "metadata": {},
     "output_type": "display_data"
    }
   ],
   "source": [
    "sns.scatterplot(x = 'prices', y = 'prices',data = df)"
   ]
  },
  {
   "cell_type": "markdown",
   "id": "37535118",
   "metadata": {},
   "source": [
    "#### Checking out data set for values over 100"
   ]
  },
  {
   "cell_type": "code",
   "execution_count": 21,
   "id": "de01be0f",
   "metadata": {},
   "outputs": [
    {
     "data": {
      "text/html": [
       "<div>\n",
       "<style scoped>\n",
       "    .dataframe tbody tr th:only-of-type {\n",
       "        vertical-align: middle;\n",
       "    }\n",
       "\n",
       "    .dataframe tbody tr th {\n",
       "        vertical-align: top;\n",
       "    }\n",
       "\n",
       "    .dataframe thead th {\n",
       "        text-align: right;\n",
       "    }\n",
       "</style>\n",
       "<table border=\"1\" class=\"dataframe\">\n",
       "  <thead>\n",
       "    <tr style=\"text-align: right;\">\n",
       "      <th></th>\n",
       "      <th>order_id</th>\n",
       "      <th>user_id</th>\n",
       "      <th>order_number</th>\n",
       "      <th>orders_day_of_week</th>\n",
       "      <th>order_hour_of_day</th>\n",
       "      <th>days_since_prior_order</th>\n",
       "      <th>product_id</th>\n",
       "      <th>add_to_cart_order</th>\n",
       "      <th>reordered</th>\n",
       "      <th>_merge</th>\n",
       "      <th>...</th>\n",
       "      <th>prices</th>\n",
       "      <th>price_range_loc</th>\n",
       "      <th>busiest_days</th>\n",
       "      <th>busiest_period_of_day</th>\n",
       "      <th>max_order</th>\n",
       "      <th>loyalty_flag</th>\n",
       "      <th>avg_price</th>\n",
       "      <th>spending_flag</th>\n",
       "      <th>order_freq</th>\n",
       "      <th>order_freq_flag</th>\n",
       "    </tr>\n",
       "  </thead>\n",
       "  <tbody>\n",
       "    <tr>\n",
       "      <th>1576</th>\n",
       "      <td>912404</td>\n",
       "      <td>17</td>\n",
       "      <td>12</td>\n",
       "      <td>2</td>\n",
       "      <td>14</td>\n",
       "      <td>5.0</td>\n",
       "      <td>21553</td>\n",
       "      <td>5</td>\n",
       "      <td>0</td>\n",
       "      <td>both</td>\n",
       "      <td>...</td>\n",
       "      <td>14900.0</td>\n",
       "      <td>High-range product</td>\n",
       "      <td>Regularly busy</td>\n",
       "      <td>Most orders</td>\n",
       "      <td>40</td>\n",
       "      <td>Regular customer</td>\n",
       "      <td>108.65</td>\n",
       "      <td>High spender</td>\n",
       "      <td>5.0</td>\n",
       "      <td>Frequent customer</td>\n",
       "    </tr>\n",
       "    <tr>\n",
       "      <th>1638</th>\n",
       "      <td>603376</td>\n",
       "      <td>17</td>\n",
       "      <td>22</td>\n",
       "      <td>6</td>\n",
       "      <td>16</td>\n",
       "      <td>4.0</td>\n",
       "      <td>21553</td>\n",
       "      <td>3</td>\n",
       "      <td>1</td>\n",
       "      <td>both</td>\n",
       "      <td>...</td>\n",
       "      <td>14900.0</td>\n",
       "      <td>High-range product</td>\n",
       "      <td>Regularly busy</td>\n",
       "      <td>Most orders</td>\n",
       "      <td>40</td>\n",
       "      <td>Regular customer</td>\n",
       "      <td>108.65</td>\n",
       "      <td>High spender</td>\n",
       "      <td>5.0</td>\n",
       "      <td>Frequent customer</td>\n",
       "    </tr>\n",
       "    <tr>\n",
       "      <th>16534</th>\n",
       "      <td>3264360</td>\n",
       "      <td>135</td>\n",
       "      <td>2</td>\n",
       "      <td>2</td>\n",
       "      <td>21</td>\n",
       "      <td>13.0</td>\n",
       "      <td>21553</td>\n",
       "      <td>6</td>\n",
       "      <td>0</td>\n",
       "      <td>both</td>\n",
       "      <td>...</td>\n",
       "      <td>14900.0</td>\n",
       "      <td>High-range product</td>\n",
       "      <td>Regularly busy</td>\n",
       "      <td>Average orders</td>\n",
       "      <td>4</td>\n",
       "      <td>New customer</td>\n",
       "      <td>1154.79</td>\n",
       "      <td>High spender</td>\n",
       "      <td>12.0</td>\n",
       "      <td>Regular customer</td>\n",
       "    </tr>\n",
       "    <tr>\n",
       "      <th>16540</th>\n",
       "      <td>892534</td>\n",
       "      <td>135</td>\n",
       "      <td>3</td>\n",
       "      <td>0</td>\n",
       "      <td>8</td>\n",
       "      <td>12.0</td>\n",
       "      <td>21553</td>\n",
       "      <td>3</td>\n",
       "      <td>1</td>\n",
       "      <td>both</td>\n",
       "      <td>...</td>\n",
       "      <td>14900.0</td>\n",
       "      <td>High-range product</td>\n",
       "      <td>Busiest days</td>\n",
       "      <td>Average orders</td>\n",
       "      <td>4</td>\n",
       "      <td>New customer</td>\n",
       "      <td>1154.79</td>\n",
       "      <td>High spender</td>\n",
       "      <td>12.0</td>\n",
       "      <td>Regular customer</td>\n",
       "    </tr>\n",
       "    <tr>\n",
       "      <th>53712</th>\n",
       "      <td>229704</td>\n",
       "      <td>342</td>\n",
       "      <td>8</td>\n",
       "      <td>1</td>\n",
       "      <td>19</td>\n",
       "      <td>30.0</td>\n",
       "      <td>21553</td>\n",
       "      <td>9</td>\n",
       "      <td>0</td>\n",
       "      <td>both</td>\n",
       "      <td>...</td>\n",
       "      <td>14900.0</td>\n",
       "      <td>High-range product</td>\n",
       "      <td>Busiest days</td>\n",
       "      <td>Average orders</td>\n",
       "      <td>16</td>\n",
       "      <td>Regular customer</td>\n",
       "      <td>114.43</td>\n",
       "      <td>High spender</td>\n",
       "      <td>23.0</td>\n",
       "      <td>Non-frequent customer</td>\n",
       "    </tr>\n",
       "    <tr>\n",
       "      <th>...</th>\n",
       "      <td>...</td>\n",
       "      <td>...</td>\n",
       "      <td>...</td>\n",
       "      <td>...</td>\n",
       "      <td>...</td>\n",
       "      <td>...</td>\n",
       "      <td>...</td>\n",
       "      <td>...</td>\n",
       "      <td>...</td>\n",
       "      <td>...</td>\n",
       "      <td>...</td>\n",
       "      <td>...</td>\n",
       "      <td>...</td>\n",
       "      <td>...</td>\n",
       "      <td>...</td>\n",
       "      <td>...</td>\n",
       "      <td>...</td>\n",
       "      <td>...</td>\n",
       "      <td>...</td>\n",
       "      <td>...</td>\n",
       "      <td>...</td>\n",
       "    </tr>\n",
       "    <tr>\n",
       "      <th>32350634</th>\n",
       "      <td>3172853</td>\n",
       "      <td>205650</td>\n",
       "      <td>18</td>\n",
       "      <td>1</td>\n",
       "      <td>9</td>\n",
       "      <td>7.0</td>\n",
       "      <td>21553</td>\n",
       "      <td>17</td>\n",
       "      <td>1</td>\n",
       "      <td>both</td>\n",
       "      <td>...</td>\n",
       "      <td>14900.0</td>\n",
       "      <td>High-range product</td>\n",
       "      <td>Busiest days</td>\n",
       "      <td>Most orders</td>\n",
       "      <td>25</td>\n",
       "      <td>Regular customer</td>\n",
       "      <td>351.14</td>\n",
       "      <td>High spender</td>\n",
       "      <td>6.0</td>\n",
       "      <td>Frequent customer</td>\n",
       "    </tr>\n",
       "    <tr>\n",
       "      <th>32377867</th>\n",
       "      <td>2504315</td>\n",
       "      <td>205818</td>\n",
       "      <td>3</td>\n",
       "      <td>5</td>\n",
       "      <td>15</td>\n",
       "      <td>3.0</td>\n",
       "      <td>21553</td>\n",
       "      <td>13</td>\n",
       "      <td>0</td>\n",
       "      <td>both</td>\n",
       "      <td>...</td>\n",
       "      <td>14900.0</td>\n",
       "      <td>High-range product</td>\n",
       "      <td>Regularly busy</td>\n",
       "      <td>Most orders</td>\n",
       "      <td>25</td>\n",
       "      <td>Regular customer</td>\n",
       "      <td>170.07</td>\n",
       "      <td>High spender</td>\n",
       "      <td>12.5</td>\n",
       "      <td>Regular customer</td>\n",
       "    </tr>\n",
       "    <tr>\n",
       "      <th>32377877</th>\n",
       "      <td>1108388</td>\n",
       "      <td>205818</td>\n",
       "      <td>5</td>\n",
       "      <td>4</td>\n",
       "      <td>5</td>\n",
       "      <td>1.0</td>\n",
       "      <td>21553</td>\n",
       "      <td>5</td>\n",
       "      <td>1</td>\n",
       "      <td>both</td>\n",
       "      <td>...</td>\n",
       "      <td>14900.0</td>\n",
       "      <td>High-range product</td>\n",
       "      <td>Slowest days</td>\n",
       "      <td>Fewest orders</td>\n",
       "      <td>25</td>\n",
       "      <td>Regular customer</td>\n",
       "      <td>170.07</td>\n",
       "      <td>High spender</td>\n",
       "      <td>12.5</td>\n",
       "      <td>Regular customer</td>\n",
       "    </tr>\n",
       "    <tr>\n",
       "      <th>32410707</th>\n",
       "      <td>1916142</td>\n",
       "      <td>206049</td>\n",
       "      <td>1</td>\n",
       "      <td>2</td>\n",
       "      <td>17</td>\n",
       "      <td>NaN</td>\n",
       "      <td>21553</td>\n",
       "      <td>2</td>\n",
       "      <td>0</td>\n",
       "      <td>both</td>\n",
       "      <td>...</td>\n",
       "      <td>14900.0</td>\n",
       "      <td>High-range product</td>\n",
       "      <td>Regularly busy</td>\n",
       "      <td>Average orders</td>\n",
       "      <td>5</td>\n",
       "      <td>New customer</td>\n",
       "      <td>938.03</td>\n",
       "      <td>High spender</td>\n",
       "      <td>7.0</td>\n",
       "      <td>Frequent customer</td>\n",
       "    </tr>\n",
       "    <tr>\n",
       "      <th>32410731</th>\n",
       "      <td>379732</td>\n",
       "      <td>206049</td>\n",
       "      <td>4</td>\n",
       "      <td>1</td>\n",
       "      <td>14</td>\n",
       "      <td>5.0</td>\n",
       "      <td>21553</td>\n",
       "      <td>4</td>\n",
       "      <td>1</td>\n",
       "      <td>both</td>\n",
       "      <td>...</td>\n",
       "      <td>14900.0</td>\n",
       "      <td>High-range product</td>\n",
       "      <td>Busiest days</td>\n",
       "      <td>Most orders</td>\n",
       "      <td>5</td>\n",
       "      <td>New customer</td>\n",
       "      <td>938.03</td>\n",
       "      <td>High spender</td>\n",
       "      <td>7.0</td>\n",
       "      <td>Frequent customer</td>\n",
       "    </tr>\n",
       "  </tbody>\n",
       "</table>\n",
       "<p>5127 rows × 23 columns</p>\n",
       "</div>"
      ],
      "text/plain": [
       "          order_id  user_id  order_number  orders_day_of_week  \\\n",
       "1576        912404       17            12                   2   \n",
       "1638        603376       17            22                   6   \n",
       "16534      3264360      135             2                   2   \n",
       "16540       892534      135             3                   0   \n",
       "53712       229704      342             8                   1   \n",
       "...            ...      ...           ...                 ...   \n",
       "32350634   3172853   205650            18                   1   \n",
       "32377867   2504315   205818             3                   5   \n",
       "32377877   1108388   205818             5                   4   \n",
       "32410707   1916142   206049             1                   2   \n",
       "32410731    379732   206049             4                   1   \n",
       "\n",
       "          order_hour_of_day  days_since_prior_order  product_id  \\\n",
       "1576                     14                     5.0       21553   \n",
       "1638                     16                     4.0       21553   \n",
       "16534                    21                    13.0       21553   \n",
       "16540                     8                    12.0       21553   \n",
       "53712                    19                    30.0       21553   \n",
       "...                     ...                     ...         ...   \n",
       "32350634                  9                     7.0       21553   \n",
       "32377867                 15                     3.0       21553   \n",
       "32377877                  5                     1.0       21553   \n",
       "32410707                 17                     NaN       21553   \n",
       "32410731                 14                     5.0       21553   \n",
       "\n",
       "          add_to_cart_order  reordered _merge  ...   prices  \\\n",
       "1576                      5          0   both  ...  14900.0   \n",
       "1638                      3          1   both  ...  14900.0   \n",
       "16534                     6          0   both  ...  14900.0   \n",
       "16540                     3          1   both  ...  14900.0   \n",
       "53712                     9          0   both  ...  14900.0   \n",
       "...                     ...        ...    ...  ...      ...   \n",
       "32350634                 17          1   both  ...  14900.0   \n",
       "32377867                 13          0   both  ...  14900.0   \n",
       "32377877                  5          1   both  ...  14900.0   \n",
       "32410707                  2          0   both  ...  14900.0   \n",
       "32410731                  4          1   both  ...  14900.0   \n",
       "\n",
       "             price_range_loc    busiest_days  busiest_period_of_day max_order  \\\n",
       "1576      High-range product  Regularly busy            Most orders        40   \n",
       "1638      High-range product  Regularly busy            Most orders        40   \n",
       "16534     High-range product  Regularly busy         Average orders         4   \n",
       "16540     High-range product    Busiest days         Average orders         4   \n",
       "53712     High-range product    Busiest days         Average orders        16   \n",
       "...                      ...             ...                    ...       ...   \n",
       "32350634  High-range product    Busiest days            Most orders        25   \n",
       "32377867  High-range product  Regularly busy            Most orders        25   \n",
       "32377877  High-range product    Slowest days          Fewest orders        25   \n",
       "32410707  High-range product  Regularly busy         Average orders         5   \n",
       "32410731  High-range product    Busiest days            Most orders         5   \n",
       "\n",
       "              loyalty_flag avg_price  spending_flag order_freq  \\\n",
       "1576      Regular customer    108.65   High spender        5.0   \n",
       "1638      Regular customer    108.65   High spender        5.0   \n",
       "16534         New customer   1154.79   High spender       12.0   \n",
       "16540         New customer   1154.79   High spender       12.0   \n",
       "53712     Regular customer    114.43   High spender       23.0   \n",
       "...                    ...       ...            ...        ...   \n",
       "32350634  Regular customer    351.14   High spender        6.0   \n",
       "32377867  Regular customer    170.07   High spender       12.5   \n",
       "32377877  Regular customer    170.07   High spender       12.5   \n",
       "32410707      New customer    938.03   High spender        7.0   \n",
       "32410731      New customer    938.03   High spender        7.0   \n",
       "\n",
       "                order_freq_flag  \n",
       "1576          Frequent customer  \n",
       "1638          Frequent customer  \n",
       "16534          Regular customer  \n",
       "16540          Regular customer  \n",
       "53712     Non-frequent customer  \n",
       "...                         ...  \n",
       "32350634      Frequent customer  \n",
       "32377867       Regular customer  \n",
       "32377877       Regular customer  \n",
       "32410707      Frequent customer  \n",
       "32410731      Frequent customer  \n",
       "\n",
       "[5127 rows x 23 columns]"
      ]
     },
     "execution_count": 21,
     "metadata": {},
     "output_type": "execute_result"
    }
   ],
   "source": [
    "#locating all products with a value of 100 or more\n",
    "df.loc[df['prices'] > 100]"
   ]
  },
  {
   "cell_type": "code",
   "execution_count": 24,
   "id": "b62a8f4f",
   "metadata": {},
   "outputs": [],
   "source": [
    "#turning all values over 100 into NaN\n",
    "df.loc[df['prices'] > 100, 'prices'] = np.nan"
   ]
  },
  {
   "cell_type": "code",
   "execution_count": 25,
   "id": "42575105",
   "metadata": {},
   "outputs": [
    {
     "data": {
      "text/plain": [
       "25.0"
      ]
     },
     "execution_count": 25,
     "metadata": {},
     "output_type": "execute_result"
    }
   ],
   "source": [
    "#checking output\n",
    "df['prices'].max()"
   ]
  },
  {
   "cell_type": "code",
   "execution_count": 26,
   "id": "360abc48",
   "metadata": {},
   "outputs": [
    {
     "data": {
      "image/png": "[encoded data removed]",
      "text/plain": [
       "<Figure size 640x480 with 1 Axes>"
      ]
     },
     "metadata": {},
     "output_type": "display_data"
    }
   ],
   "source": [
    "#replotting the historgram \n",
    "hist = df['prices'].plot.hist(bins = 25)"
   ]
  },
  {
   "cell_type": "code",
   "execution_count": 27,
   "id": "825ac491",
   "metadata": {},
   "outputs": [
    {
     "data": {
      "image/png": "[encoded data removed]",
      "text/plain": [
       "<Figure size 640x480 with 1 Axes>"
      ]
     },
     "metadata": {},
     "output_type": "display_data"
    }
   ],
   "source": [
    "#increasing granularity by making bins 70 \n",
    "hist = df['prices'].plot.hist(bins = 70)"
   ]
  },
  {
   "cell_type": "code",
   "execution_count": 28,
   "id": "fcc1f0d3",
   "metadata": {},
   "outputs": [],
   "source": [
    "#exporting histogram\n",
    "hist.figure.savefig(os.path.join(path, '04_Analysis', 'Visualisations', 'hist_prices.png'))"
   ]
  },
  {
   "cell_type": "markdown",
   "id": "33b6890a",
   "metadata": {},
   "source": [
    "## 3. Creating line charts"
   ]
  },
  {
   "cell_type": "code",
   "execution_count": 30,
   "id": "668b739b",
   "metadata": {},
   "outputs": [],
   "source": [
    "#assining each row a random value between 0 and 1, then creating a logical test to check each number against a value of 0.7\n",
    "np.random.seed(4)\n",
    "dev = np.random.rand(len(df)) <= 0.7"
   ]
  },
  {
   "cell_type": "code",
   "execution_count": 31,
   "id": "5ab177f2",
   "metadata": {},
   "outputs": [],
   "source": [
    "#splitting dataframe into two samples. 70% in the df big, and 30% in the df small\n",
    "big = df[dev]\n",
    "small = df[~dev]"
   ]
  },
  {
   "cell_type": "code",
   "execution_count": 32,
   "id": "d3085841",
   "metadata": {},
   "outputs": [
    {
     "data": {
      "text/plain": [
       "32435059"
      ]
     },
     "execution_count": 32,
     "metadata": {},
     "output_type": "execute_result"
    }
   ],
   "source": [
    "len(df)"
   ]
  },
  {
   "cell_type": "code",
   "execution_count": 33,
   "id": "0cd303cd",
   "metadata": {},
   "outputs": [
    {
     "data": {
      "text/plain": [
       "32435059"
      ]
     },
     "execution_count": 33,
     "metadata": {},
     "output_type": "execute_result"
    }
   ],
   "source": [
    "#checking output - your new dataframes should equal your old dataframe\n",
    "len(big) + len(small)"
   ]
  },
  {
   "cell_type": "markdown",
   "id": "248bbdc3",
   "metadata": {},
   "source": [
    "Speading up your dataset by reducing your samples to _only_ those necessary. "
   ]
  },
  {
   "cell_type": "code",
   "execution_count": 34,
   "id": "dc84481c",
   "metadata": {},
   "outputs": [],
   "source": [
    "df_2 = small[['orders_day_of_week', 'prices']]"
   ]
  },
  {
   "cell_type": "code",
   "execution_count": 35,
   "id": "68501057",
   "metadata": {},
   "outputs": [
    {
     "data": {
      "image/png": "[encoded data removed]",
      "text/plain": [
       "<Figure size 640x480 with 1 Axes>"
      ]
     },
     "metadata": {},
     "output_type": "display_data"
    }
   ],
   "source": [
    "#create your line chart\n",
    "line = sns.lineplot(data = df_2, x = 'orders_day_of_week',y = 'prices')"
   ]
  },
  {
   "cell_type": "code",
   "execution_count": null,
   "id": "69409c4a",
   "metadata": {},
   "outputs": [],
   "source": []
  }
 ],
 "metadata": {
  "kernelspec": {
   "display_name": "Python 3 (ipykernel)",
   "language": "python",
   "name": "python3"
  },
  "language_info": {
   "codemirror_mode": {
    "name": "ipython",
    "version": 3
   },
   "file_extension": ".py",
   "mimetype": "text/x-python",
   "name": "python",
   "nbconvert_exporter": "python",
   "pygments_lexer": "ipython3",
   "version": "3.9.13"
  }
 },
 "nbformat": 4,
 "nbformat_minor": 5
}
