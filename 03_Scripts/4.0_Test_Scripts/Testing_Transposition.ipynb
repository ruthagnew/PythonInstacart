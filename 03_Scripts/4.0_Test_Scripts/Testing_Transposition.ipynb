{
 "cells": [
  {
   "cell_type": "markdown",
   "id": "c2ac05f9",
   "metadata": {},
   "source": [
    "# Testing Transposition"
   ]
  },
  {
   "cell_type": "code",
   "execution_count": 5,
   "id": "7f186011",
   "metadata": {},
   "outputs": [],
   "source": [
    "# https://www.youtube.com/watch?v=6AjYmHLHlpY"
   ]
  },
  {
   "cell_type": "code",
   "execution_count": 6,
   "id": "93b5a87f",
   "metadata": {},
   "outputs": [],
   "source": [
    "import pandas as pd"
   ]
  },
  {
   "cell_type": "markdown",
   "id": "1937cba1",
   "metadata": {},
   "source": [
    "Create the data"
   ]
  },
  {
   "cell_type": "code",
   "execution_count": 12,
   "id": "906d36cc",
   "metadata": {},
   "outputs": [
    {
     "data": {
      "text/plain": [
       "{'Year': [2019, 2020, 2021, 2022, 2023],\n",
       " 'Sales': [2344, 4567, 57575, 7888, 42423],\n",
       " 'Dept': ['Gov', 'Private', 'NGO', 'Security', 'Defense']}"
      ]
     },
     "execution_count": 12,
     "metadata": {},
     "output_type": "execute_result"
    }
   ],
   "source": [
    "data = { 'Year': [2019, 2020, 2021, 2022, 2023],\n",
    "       'Sales': [2344, 4567, 57575, 7888, 42423],\n",
    "       'Dept': ['Gov', 'Private', 'NGO', 'Security', 'Defense']}\n",
    "data"
   ]
  },
  {
   "cell_type": "markdown",
   "id": "baf9a328",
   "metadata": {},
   "source": [
    "Create a dataframe"
   ]
  },
  {
   "cell_type": "code",
   "execution_count": 15,
   "id": "75c17deb",
   "metadata": {},
   "outputs": [
    {
     "data": {
      "text/html": [
       "<div>\n",
       "<style scoped>\n",
       "    .dataframe tbody tr th:only-of-type {\n",
       "        vertical-align: middle;\n",
       "    }\n",
       "\n",
       "    .dataframe tbody tr th {\n",
       "        vertical-align: top;\n",
       "    }\n",
       "\n",
       "    .dataframe thead th {\n",
       "        text-align: right;\n",
       "    }\n",
       "</style>\n",
       "<table border=\"1\" class=\"dataframe\">\n",
       "  <thead>\n",
       "    <tr style=\"text-align: right;\">\n",
       "      <th></th>\n",
       "      <th>Year</th>\n",
       "      <th>Sales</th>\n",
       "      <th>Dept</th>\n",
       "    </tr>\n",
       "  </thead>\n",
       "  <tbody>\n",
       "    <tr>\n",
       "      <th>0</th>\n",
       "      <td>2019</td>\n",
       "      <td>2344</td>\n",
       "      <td>Gov</td>\n",
       "    </tr>\n",
       "    <tr>\n",
       "      <th>1</th>\n",
       "      <td>2020</td>\n",
       "      <td>4567</td>\n",
       "      <td>Private</td>\n",
       "    </tr>\n",
       "    <tr>\n",
       "      <th>2</th>\n",
       "      <td>2021</td>\n",
       "      <td>57575</td>\n",
       "      <td>NGO</td>\n",
       "    </tr>\n",
       "    <tr>\n",
       "      <th>3</th>\n",
       "      <td>2022</td>\n",
       "      <td>7888</td>\n",
       "      <td>Security</td>\n",
       "    </tr>\n",
       "    <tr>\n",
       "      <th>4</th>\n",
       "      <td>2023</td>\n",
       "      <td>42423</td>\n",
       "      <td>Defense</td>\n",
       "    </tr>\n",
       "  </tbody>\n",
       "</table>\n",
       "</div>"
      ],
      "text/plain": [
       "   Year  Sales      Dept\n",
       "0  2019   2344       Gov\n",
       "1  2020   4567   Private\n",
       "2  2021  57575       NGO\n",
       "3  2022   7888  Security\n",
       "4  2023  42423   Defense"
      ]
     },
     "execution_count": 15,
     "metadata": {},
     "output_type": "execute_result"
    }
   ],
   "source": [
    "df = pd.DataFrame(data)\n",
    "df"
   ]
  },
  {
   "cell_type": "markdown",
   "id": "ecb2fc30",
   "metadata": {},
   "source": [
    "Transpose this Dataframe"
   ]
  },
  {
   "cell_type": "code",
   "execution_count": 17,
   "id": "9ef0f122",
   "metadata": {},
   "outputs": [],
   "source": [
    "new_data = df.T #df.transpose()"
   ]
  },
  {
   "cell_type": "code",
   "execution_count": 18,
   "id": "7eb754fa",
   "metadata": {},
   "outputs": [
    {
     "data": {
      "text/html": [
       "<div>\n",
       "<style scoped>\n",
       "    .dataframe tbody tr th:only-of-type {\n",
       "        vertical-align: middle;\n",
       "    }\n",
       "\n",
       "    .dataframe tbody tr th {\n",
       "        vertical-align: top;\n",
       "    }\n",
       "\n",
       "    .dataframe thead th {\n",
       "        text-align: right;\n",
       "    }\n",
       "</style>\n",
       "<table border=\"1\" class=\"dataframe\">\n",
       "  <thead>\n",
       "    <tr style=\"text-align: right;\">\n",
       "      <th></th>\n",
       "      <th>0</th>\n",
       "      <th>1</th>\n",
       "      <th>2</th>\n",
       "      <th>3</th>\n",
       "      <th>4</th>\n",
       "    </tr>\n",
       "  </thead>\n",
       "  <tbody>\n",
       "    <tr>\n",
       "      <th>Year</th>\n",
       "      <td>2019</td>\n",
       "      <td>2020</td>\n",
       "      <td>2021</td>\n",
       "      <td>2022</td>\n",
       "      <td>2023</td>\n",
       "    </tr>\n",
       "    <tr>\n",
       "      <th>Sales</th>\n",
       "      <td>2344</td>\n",
       "      <td>4567</td>\n",
       "      <td>57575</td>\n",
       "      <td>7888</td>\n",
       "      <td>42423</td>\n",
       "    </tr>\n",
       "    <tr>\n",
       "      <th>Dept</th>\n",
       "      <td>Gov</td>\n",
       "      <td>Private</td>\n",
       "      <td>NGO</td>\n",
       "      <td>Security</td>\n",
       "      <td>Defense</td>\n",
       "    </tr>\n",
       "  </tbody>\n",
       "</table>\n",
       "</div>"
      ],
      "text/plain": [
       "          0        1      2         3        4\n",
       "Year   2019     2020   2021      2022     2023\n",
       "Sales  2344     4567  57575      7888    42423\n",
       "Dept    Gov  Private    NGO  Security  Defense"
      ]
     },
     "execution_count": 18,
     "metadata": {},
     "output_type": "execute_result"
    }
   ],
   "source": [
    "new_data"
   ]
  },
  {
   "cell_type": "markdown",
   "id": "3b394609",
   "metadata": {},
   "source": [
    "Convert the first row into the column"
   ]
  },
  {
   "cell_type": "code",
   "execution_count": 21,
   "id": "d42f2a37",
   "metadata": {},
   "outputs": [],
   "source": [
    "new_header = new_data.iloc[0]\n",
    "new_data = pd.DataFrame(new_data.values[1:], columns=new_header)"
   ]
  },
  {
   "cell_type": "code",
   "execution_count": 22,
   "id": "4baaa843",
   "metadata": {},
   "outputs": [
    {
     "data": {
      "text/html": [
       "<div>\n",
       "<style scoped>\n",
       "    .dataframe tbody tr th:only-of-type {\n",
       "        vertical-align: middle;\n",
       "    }\n",
       "\n",
       "    .dataframe tbody tr th {\n",
       "        vertical-align: top;\n",
       "    }\n",
       "\n",
       "    .dataframe thead th {\n",
       "        text-align: right;\n",
       "    }\n",
       "</style>\n",
       "<table border=\"1\" class=\"dataframe\">\n",
       "  <thead>\n",
       "    <tr style=\"text-align: right;\">\n",
       "      <th></th>\n",
       "      <th>2344</th>\n",
       "      <th>4567</th>\n",
       "      <th>57575</th>\n",
       "      <th>7888</th>\n",
       "      <th>42423</th>\n",
       "    </tr>\n",
       "  </thead>\n",
       "  <tbody>\n",
       "    <tr>\n",
       "      <th>0</th>\n",
       "      <td>Gov</td>\n",
       "      <td>Private</td>\n",
       "      <td>NGO</td>\n",
       "      <td>Security</td>\n",
       "      <td>Defense</td>\n",
       "    </tr>\n",
       "  </tbody>\n",
       "</table>\n",
       "</div>"
      ],
      "text/plain": [
       "0 2344     4567  57575     7888     42423\n",
       "0   Gov  Private   NGO  Security  Defense"
      ]
     },
     "execution_count": 22,
     "metadata": {},
     "output_type": "execute_result"
    }
   ],
   "source": [
    "new_data"
   ]
  },
  {
   "cell_type": "code",
   "execution_count": 23,
   "id": "d2b855f7",
   "metadata": {},
   "outputs": [
    {
     "data": {
      "text/plain": [
       "Year\n",
       "2019     2344\n",
       "2020     4567\n",
       "2021    57575\n",
       "2022     7888\n",
       "2023    42423\n",
       "Name: 0, dtype: object"
      ]
     },
     "execution_count": 23,
     "metadata": {},
     "output_type": "execute_result"
    }
   ],
   "source": [
    "new_header"
   ]
  },
  {
   "cell_type": "code",
   "execution_count": 1,
   "id": "f8fdd755",
   "metadata": {},
   "outputs": [],
   "source": [
    ">>> raw_s = r'Hi\\nHello'"
   ]
  },
  {
   "cell_type": "code",
   "execution_count": 2,
   "id": "cb7fb368",
   "metadata": {},
   "outputs": [
    {
     "name": "stdout",
     "output_type": "stream",
     "text": [
      "Hi\\nHello\n"
     ]
    }
   ],
   "source": [
    ">>> print(raw_s)"
   ]
  },
  {
   "cell_type": "code",
   "execution_count": 3,
   "id": "04df8155",
   "metadata": {},
   "outputs": [],
   "source": [
    ">>> s = 'Hi\\nHello'"
   ]
  },
  {
   "cell_type": "code",
   "execution_count": 4,
   "id": "8aeacdb9",
   "metadata": {},
   "outputs": [
    {
     "name": "stdout",
     "output_type": "stream",
     "text": [
      "Hi\n",
      "Hello\n"
     ]
    }
   ],
   "source": [
    ">>> print(s)"
   ]
  },
  {
   "cell_type": "code",
   "execution_count": 7,
   "id": "1d85680b",
   "metadata": {},
   "outputs": [],
   "source": [
    ">>> s = '\\\\examplehost\\digitalocean\\content\\''"
   ]
  },
  {
   "cell_type": "code",
   "execution_count": 8,
   "id": "6402e0a6",
   "metadata": {},
   "outputs": [
    {
     "name": "stdout",
     "output_type": "stream",
     "text": [
      "\\examplehost\\digitalocean\\content'\n"
     ]
    }
   ],
   "source": [
    "print(s)"
   ]
  },
  {
   "cell_type": "code",
   "execution_count": 9,
   "id": "e9f5e53d",
   "metadata": {},
   "outputs": [],
   "source": [
    ">>> s = r'\\\\examplehost\\digital\\content\\''"
   ]
  },
  {
   "cell_type": "code",
   "execution_count": 10,
   "id": "8d273614",
   "metadata": {},
   "outputs": [
    {
     "name": "stdout",
     "output_type": "stream",
     "text": [
      "\\\\examplehost\\digital\\content\\'\n"
     ]
    }
   ],
   "source": [
    ">>> print(s)"
   ]
  },
  {
   "cell_type": "code",
   "execution_count": 11,
   "id": "bb9db296",
   "metadata": {},
   "outputs": [],
   "source": [
    ">>> s = r\"\\\"\\\"\""
   ]
  },
  {
   "cell_type": "code",
   "execution_count": 12,
   "id": "0811a0ec",
   "metadata": {},
   "outputs": [
    {
     "name": "stdout",
     "output_type": "stream",
     "text": [
      "\\\"\\\"\n"
     ]
    }
   ],
   "source": [
    ">>> print(s)"
   ]
  },
  {
   "cell_type": "code",
   "execution_count": 13,
   "id": "fab25778",
   "metadata": {},
   "outputs": [],
   "source": [
    ">>> s = R'ab\\\\'"
   ]
  },
  {
   "cell_type": "code",
   "execution_count": 14,
   "id": "5e86c4f6",
   "metadata": {},
   "outputs": [
    {
     "name": "stdout",
     "output_type": "stream",
     "text": [
      "ab\\\\\n"
     ]
    }
   ],
   "source": [
    ">>> print(s)"
   ]
  },
  {
   "cell_type": "code",
   "execution_count": null,
   "id": "67b7fddc",
   "metadata": {},
   "outputs": [],
   "source": []
  }
 ],
 "metadata": {
  "kernelspec": {
   "display_name": "Python 3 (ipykernel)",
   "language": "python",
   "name": "python3"
  },
  "language_info": {
   "codemirror_mode": {
    "name": "ipython",
    "version": 3
   },
   "file_extension": ".py",
   "mimetype": "text/x-python",
   "name": "python",
   "nbconvert_exporter": "python",
   "pygments_lexer": "ipython3",
   "version": "3.9.13"
  }
 },
 "nbformat": 4,
 "nbformat_minor": 5
}
