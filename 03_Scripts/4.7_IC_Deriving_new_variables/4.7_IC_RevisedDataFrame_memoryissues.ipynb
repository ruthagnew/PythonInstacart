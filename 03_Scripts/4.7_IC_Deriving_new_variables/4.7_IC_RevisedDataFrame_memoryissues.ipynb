{
 "cells": [
  {
   "cell_type": "markdown",
   "id": "decdfe3e",
   "metadata": {},
   "source": [
    "# Deriving new variables\n",
    "\n",
    "1. Import libraries and data set \n",
    "2. "
   ]
  },
  {
   "cell_type": "markdown",
   "id": "92d49ea1",
   "metadata": {},
   "source": [
    "# 1. Import libraries "
   ]
  },
  {
   "cell_type": "code",
   "execution_count": 1,
   "id": "940060c6",
   "metadata": {},
   "outputs": [],
   "source": [
    "#import libraries\n",
    "import pandas as pd\n",
    "import numpy as nm\n",
    "import os"
   ]
  },
  {
   "cell_type": "code",
   "execution_count": 2,
   "id": "e30da58e",
   "metadata": {},
   "outputs": [],
   "source": [
    "#create usable path \n",
    "path = r'C:\\Users\\rutha\\CareerFoundry\\01-23_Instacart_Basket_Analysis'"
   ]
  },
  {
   "cell_type": "code",
   "execution_count": 3,
   "id": "6127093a",
   "metadata": {},
   "outputs": [],
   "source": [
    "#import file\n",
    "df_merge2 = pd.read_pickle(os.path.join(path, '02_Data', \"Prepared_data\", 'revised_merged.pkl'))"
   ]
  },
  {
   "cell_type": "code",
   "execution_count": 4,
   "id": "1acc0fc0",
   "metadata": {},
   "outputs": [
    {
     "data": {
      "text/html": [
       "<div>\n",
       "<style scoped>\n",
       "    .dataframe tbody tr th:only-of-type {\n",
       "        vertical-align: middle;\n",
       "    }\n",
       "\n",
       "    .dataframe tbody tr th {\n",
       "        vertical-align: top;\n",
       "    }\n",
       "\n",
       "    .dataframe thead th {\n",
       "        text-align: right;\n",
       "    }\n",
       "</style>\n",
       "<table border=\"1\" class=\"dataframe\">\n",
       "  <thead>\n",
       "    <tr style=\"text-align: right;\">\n",
       "      <th></th>\n",
       "      <th>order_id</th>\n",
       "      <th>user_id</th>\n",
       "      <th>order_number</th>\n",
       "      <th>orders_day_of_week</th>\n",
       "      <th>order_hour_of_day</th>\n",
       "      <th>days_since_prior_order</th>\n",
       "      <th>product_id</th>\n",
       "      <th>add_to_cart_order</th>\n",
       "      <th>reordered</th>\n",
       "      <th>_merge</th>\n",
       "      <th>product_name</th>\n",
       "      <th>aisle_id</th>\n",
       "      <th>department_id</th>\n",
       "      <th>prices</th>\n",
       "    </tr>\n",
       "  </thead>\n",
       "  <tbody>\n",
       "    <tr>\n",
       "      <th>0</th>\n",
       "      <td>2539329</td>\n",
       "      <td>1</td>\n",
       "      <td>1</td>\n",
       "      <td>2</td>\n",
       "      <td>8</td>\n",
       "      <td>NaN</td>\n",
       "      <td>196</td>\n",
       "      <td>1</td>\n",
       "      <td>0</td>\n",
       "      <td>both</td>\n",
       "      <td>Soda</td>\n",
       "      <td>77.0</td>\n",
       "      <td>7.0</td>\n",
       "      <td>9.000000</td>\n",
       "    </tr>\n",
       "    <tr>\n",
       "      <th>1</th>\n",
       "      <td>2539329</td>\n",
       "      <td>1</td>\n",
       "      <td>1</td>\n",
       "      <td>2</td>\n",
       "      <td>8</td>\n",
       "      <td>NaN</td>\n",
       "      <td>14084</td>\n",
       "      <td>2</td>\n",
       "      <td>0</td>\n",
       "      <td>both</td>\n",
       "      <td>Organic Unsweetened Vanilla Almond Milk</td>\n",
       "      <td>91.0</td>\n",
       "      <td>16.0</td>\n",
       "      <td>12.500000</td>\n",
       "    </tr>\n",
       "    <tr>\n",
       "      <th>2</th>\n",
       "      <td>2539329</td>\n",
       "      <td>1</td>\n",
       "      <td>1</td>\n",
       "      <td>2</td>\n",
       "      <td>8</td>\n",
       "      <td>NaN</td>\n",
       "      <td>12427</td>\n",
       "      <td>3</td>\n",
       "      <td>0</td>\n",
       "      <td>both</td>\n",
       "      <td>Original Beef Jerky</td>\n",
       "      <td>23.0</td>\n",
       "      <td>19.0</td>\n",
       "      <td>4.398438</td>\n",
       "    </tr>\n",
       "    <tr>\n",
       "      <th>3</th>\n",
       "      <td>2539329</td>\n",
       "      <td>1</td>\n",
       "      <td>1</td>\n",
       "      <td>2</td>\n",
       "      <td>8</td>\n",
       "      <td>NaN</td>\n",
       "      <td>26088</td>\n",
       "      <td>4</td>\n",
       "      <td>0</td>\n",
       "      <td>both</td>\n",
       "      <td>Aged White Cheddar Popcorn</td>\n",
       "      <td>23.0</td>\n",
       "      <td>19.0</td>\n",
       "      <td>4.699219</td>\n",
       "    </tr>\n",
       "    <tr>\n",
       "      <th>4</th>\n",
       "      <td>2539329</td>\n",
       "      <td>1</td>\n",
       "      <td>1</td>\n",
       "      <td>2</td>\n",
       "      <td>8</td>\n",
       "      <td>NaN</td>\n",
       "      <td>26405</td>\n",
       "      <td>5</td>\n",
       "      <td>0</td>\n",
       "      <td>both</td>\n",
       "      <td>XL Pick-A-Size Paper Towel Rolls</td>\n",
       "      <td>54.0</td>\n",
       "      <td>17.0</td>\n",
       "      <td>1.000000</td>\n",
       "    </tr>\n",
       "  </tbody>\n",
       "</table>\n",
       "</div>"
      ],
      "text/plain": [
       "   order_id  user_id  order_number  orders_day_of_week  order_hour_of_day  \\\n",
       "0   2539329        1             1                   2                  8   \n",
       "1   2539329        1             1                   2                  8   \n",
       "2   2539329        1             1                   2                  8   \n",
       "3   2539329        1             1                   2                  8   \n",
       "4   2539329        1             1                   2                  8   \n",
       "\n",
       "   days_since_prior_order  product_id  add_to_cart_order  reordered _merge  \\\n",
       "0                     NaN         196                  1          0   both   \n",
       "1                     NaN       14084                  2          0   both   \n",
       "2                     NaN       12427                  3          0   both   \n",
       "3                     NaN       26088                  4          0   both   \n",
       "4                     NaN       26405                  5          0   both   \n",
       "\n",
       "                              product_name  aisle_id  department_id     prices  \n",
       "0                                     Soda      77.0            7.0   9.000000  \n",
       "1  Organic Unsweetened Vanilla Almond Milk      91.0           16.0  12.500000  \n",
       "2                      Original Beef Jerky      23.0           19.0   4.398438  \n",
       "3               Aged White Cheddar Popcorn      23.0           19.0   4.699219  \n",
       "4         XL Pick-A-Size Paper Towel Rolls      54.0           17.0   1.000000  "
      ]
     },
     "execution_count": 4,
     "metadata": {},
     "output_type": "execute_result"
    }
   ],
   "source": [
    "#check output\n",
    "df_merge2.head()"
   ]
  },
  {
   "cell_type": "code",
   "execution_count": 5,
   "id": "6278a805",
   "metadata": {},
   "outputs": [
    {
     "name": "stdout",
     "output_type": "stream",
     "text": [
      "<class 'pandas.core.frame.DataFrame'>\n",
      "Int64Index: 32435059 entries, 0 to 32435058\n",
      "Data columns (total 14 columns):\n",
      " #   Column                  Dtype   \n",
      "---  ------                  -----   \n",
      " 0   order_id                int32   \n",
      " 1   user_id                 int32   \n",
      " 2   order_number            int8    \n",
      " 3   orders_day_of_week      int8    \n",
      " 4   order_hour_of_day       int8    \n",
      " 5   days_since_prior_order  float16 \n",
      " 6   product_id              int32   \n",
      " 7   add_to_cart_order       int16   \n",
      " 8   reordered               int16   \n",
      " 9   _merge                  category\n",
      " 10  product_name            object  \n",
      " 11  aisle_id                float16 \n",
      " 12  department_id           float16 \n",
      " 13  prices                  float16 \n",
      "dtypes: category(1), float16(4), int16(2), int32(3), int8(3), object(1)\n",
      "memory usage: 1.3+ GB\n"
     ]
    }
   ],
   "source": [
    "df_merge2.info()"
   ]
  },
  {
   "cell_type": "code",
   "execution_count": 6,
   "id": "236e56e0",
   "metadata": {},
   "outputs": [
    {
     "data": {
      "text/html": [
       "<div>\n",
       "<style scoped>\n",
       "    .dataframe tbody tr th:only-of-type {\n",
       "        vertical-align: middle;\n",
       "    }\n",
       "\n",
       "    .dataframe tbody tr th {\n",
       "        vertical-align: top;\n",
       "    }\n",
       "\n",
       "    .dataframe thead th {\n",
       "        text-align: right;\n",
       "    }\n",
       "</style>\n",
       "<table border=\"1\" class=\"dataframe\">\n",
       "  <thead>\n",
       "    <tr style=\"text-align: right;\">\n",
       "      <th></th>\n",
       "      <th>order_id</th>\n",
       "      <th>user_id</th>\n",
       "      <th>order_number</th>\n",
       "      <th>orders_day_of_week</th>\n",
       "      <th>order_hour_of_day</th>\n",
       "      <th>days_since_prior_order</th>\n",
       "      <th>product_id</th>\n",
       "      <th>add_to_cart_order</th>\n",
       "      <th>reordered</th>\n",
       "      <th>aisle_id</th>\n",
       "      <th>department_id</th>\n",
       "      <th>prices</th>\n",
       "    </tr>\n",
       "  </thead>\n",
       "  <tbody>\n",
       "    <tr>\n",
       "      <th>count</th>\n",
       "      <td>3.243506e+07</td>\n",
       "      <td>3.243506e+07</td>\n",
       "      <td>3.243506e+07</td>\n",
       "      <td>3.243506e+07</td>\n",
       "      <td>3.243506e+07</td>\n",
       "      <td>30356957.0</td>\n",
       "      <td>3.243506e+07</td>\n",
       "      <td>3.243506e+07</td>\n",
       "      <td>3.243506e+07</td>\n",
       "      <td>32404859.0</td>\n",
       "      <td>32404859.0</td>\n",
       "      <td>3.240486e+07</td>\n",
       "    </tr>\n",
       "    <tr>\n",
       "      <th>mean</th>\n",
       "      <td>1.710748e+06</td>\n",
       "      <td>1.029372e+05</td>\n",
       "      <td>1.714195e+01</td>\n",
       "      <td>2.738815e+00</td>\n",
       "      <td>1.342498e+01</td>\n",
       "      <td>NaN</td>\n",
       "      <td>2.557635e+04</td>\n",
       "      <td>8.351081e+00</td>\n",
       "      <td>5.896955e-01</td>\n",
       "      <td>NaN</td>\n",
       "      <td>NaN</td>\n",
       "      <td>NaN</td>\n",
       "    </tr>\n",
       "    <tr>\n",
       "      <th>std</th>\n",
       "      <td>9.873006e+05</td>\n",
       "      <td>5.946651e+04</td>\n",
       "      <td>1.753496e+01</td>\n",
       "      <td>2.090051e+00</td>\n",
       "      <td>4.246357e+00</td>\n",
       "      <td>0.0</td>\n",
       "      <td>1.409657e+04</td>\n",
       "      <td>7.126656e+00</td>\n",
       "      <td>4.918889e-01</td>\n",
       "      <td>0.0</td>\n",
       "      <td>0.0</td>\n",
       "      <td>NaN</td>\n",
       "    </tr>\n",
       "    <tr>\n",
       "      <th>min</th>\n",
       "      <td>2.000000e+00</td>\n",
       "      <td>1.000000e+00</td>\n",
       "      <td>1.000000e+00</td>\n",
       "      <td>0.000000e+00</td>\n",
       "      <td>0.000000e+00</td>\n",
       "      <td>0.0</td>\n",
       "      <td>1.000000e+00</td>\n",
       "      <td>1.000000e+00</td>\n",
       "      <td>0.000000e+00</td>\n",
       "      <td>1.0</td>\n",
       "      <td>1.0</td>\n",
       "      <td>1.000000e+00</td>\n",
       "    </tr>\n",
       "    <tr>\n",
       "      <th>25%</th>\n",
       "      <td>8.559430e+05</td>\n",
       "      <td>5.142000e+04</td>\n",
       "      <td>5.000000e+00</td>\n",
       "      <td>1.000000e+00</td>\n",
       "      <td>1.000000e+01</td>\n",
       "      <td>5.0</td>\n",
       "      <td>1.353200e+04</td>\n",
       "      <td>3.000000e+00</td>\n",
       "      <td>0.000000e+00</td>\n",
       "      <td>31.0</td>\n",
       "      <td>4.0</td>\n",
       "      <td>4.199219e+00</td>\n",
       "    </tr>\n",
       "    <tr>\n",
       "      <th>50%</th>\n",
       "      <td>1.711047e+06</td>\n",
       "      <td>1.026110e+05</td>\n",
       "      <td>1.100000e+01</td>\n",
       "      <td>3.000000e+00</td>\n",
       "      <td>1.300000e+01</td>\n",
       "      <td>8.0</td>\n",
       "      <td>2.525600e+04</td>\n",
       "      <td>6.000000e+00</td>\n",
       "      <td>1.000000e+00</td>\n",
       "      <td>83.0</td>\n",
       "      <td>9.0</td>\n",
       "      <td>7.398438e+00</td>\n",
       "    </tr>\n",
       "    <tr>\n",
       "      <th>75%</th>\n",
       "      <td>2.565514e+06</td>\n",
       "      <td>1.543910e+05</td>\n",
       "      <td>2.400000e+01</td>\n",
       "      <td>5.000000e+00</td>\n",
       "      <td>1.600000e+01</td>\n",
       "      <td>15.0</td>\n",
       "      <td>3.793500e+04</td>\n",
       "      <td>1.100000e+01</td>\n",
       "      <td>1.000000e+00</td>\n",
       "      <td>107.0</td>\n",
       "      <td>16.0</td>\n",
       "      <td>1.129688e+01</td>\n",
       "    </tr>\n",
       "    <tr>\n",
       "      <th>max</th>\n",
       "      <td>3.421083e+06</td>\n",
       "      <td>2.062090e+05</td>\n",
       "      <td>9.900000e+01</td>\n",
       "      <td>6.000000e+00</td>\n",
       "      <td>2.300000e+01</td>\n",
       "      <td>30.0</td>\n",
       "      <td>4.968800e+04</td>\n",
       "      <td>1.450000e+02</td>\n",
       "      <td>1.000000e+00</td>\n",
       "      <td>134.0</td>\n",
       "      <td>21.0</td>\n",
       "      <td>inf</td>\n",
       "    </tr>\n",
       "  </tbody>\n",
       "</table>\n",
       "</div>"
      ],
      "text/plain": [
       "           order_id       user_id  order_number  orders_day_of_week  \\\n",
       "count  3.243506e+07  3.243506e+07  3.243506e+07        3.243506e+07   \n",
       "mean   1.710748e+06  1.029372e+05  1.714195e+01        2.738815e+00   \n",
       "std    9.873006e+05  5.946651e+04  1.753496e+01        2.090051e+00   \n",
       "min    2.000000e+00  1.000000e+00  1.000000e+00        0.000000e+00   \n",
       "25%    8.559430e+05  5.142000e+04  5.000000e+00        1.000000e+00   \n",
       "50%    1.711047e+06  1.026110e+05  1.100000e+01        3.000000e+00   \n",
       "75%    2.565514e+06  1.543910e+05  2.400000e+01        5.000000e+00   \n",
       "max    3.421083e+06  2.062090e+05  9.900000e+01        6.000000e+00   \n",
       "\n",
       "       order_hour_of_day  days_since_prior_order    product_id  \\\n",
       "count       3.243506e+07              30356957.0  3.243506e+07   \n",
       "mean        1.342498e+01                     NaN  2.557635e+04   \n",
       "std         4.246357e+00                     0.0  1.409657e+04   \n",
       "min         0.000000e+00                     0.0  1.000000e+00   \n",
       "25%         1.000000e+01                     5.0  1.353200e+04   \n",
       "50%         1.300000e+01                     8.0  2.525600e+04   \n",
       "75%         1.600000e+01                    15.0  3.793500e+04   \n",
       "max         2.300000e+01                    30.0  4.968800e+04   \n",
       "\n",
       "       add_to_cart_order     reordered    aisle_id  department_id  \\\n",
       "count       3.243506e+07  3.243506e+07  32404859.0     32404859.0   \n",
       "mean        8.351081e+00  5.896955e-01         NaN            NaN   \n",
       "std         7.126656e+00  4.918889e-01         0.0            0.0   \n",
       "min         1.000000e+00  0.000000e+00         1.0            1.0   \n",
       "25%         3.000000e+00  0.000000e+00        31.0            4.0   \n",
       "50%         6.000000e+00  1.000000e+00        83.0            9.0   \n",
       "75%         1.100000e+01  1.000000e+00       107.0           16.0   \n",
       "max         1.450000e+02  1.000000e+00       134.0           21.0   \n",
       "\n",
       "             prices  \n",
       "count  3.240486e+07  \n",
       "mean            NaN  \n",
       "std             NaN  \n",
       "min    1.000000e+00  \n",
       "25%    4.199219e+00  \n",
       "50%    7.398438e+00  \n",
       "75%    1.129688e+01  \n",
       "max             inf  "
      ]
     },
     "execution_count": 6,
     "metadata": {},
     "output_type": "execute_result"
    }
   ],
   "source": [
    "df_merge2.describe()"
   ]
  },
  {
   "cell_type": "code",
   "execution_count": 7,
   "id": "073bf980",
   "metadata": {},
   "outputs": [],
   "source": [
    "#create subset \n",
    "df_subset = df_merge2[:1000000]"
   ]
  },
  {
   "cell_type": "code",
   "execution_count": 8,
   "id": "79cb68f3",
   "metadata": {},
   "outputs": [
    {
     "data": {
      "text/html": [
       "<div>\n",
       "<style scoped>\n",
       "    .dataframe tbody tr th:only-of-type {\n",
       "        vertical-align: middle;\n",
       "    }\n",
       "\n",
       "    .dataframe tbody tr th {\n",
       "        vertical-align: top;\n",
       "    }\n",
       "\n",
       "    .dataframe thead th {\n",
       "        text-align: right;\n",
       "    }\n",
       "</style>\n",
       "<table border=\"1\" class=\"dataframe\">\n",
       "  <thead>\n",
       "    <tr style=\"text-align: right;\">\n",
       "      <th></th>\n",
       "      <th>order_id</th>\n",
       "      <th>user_id</th>\n",
       "      <th>order_number</th>\n",
       "      <th>orders_day_of_week</th>\n",
       "      <th>order_hour_of_day</th>\n",
       "      <th>days_since_prior_order</th>\n",
       "      <th>product_id</th>\n",
       "      <th>add_to_cart_order</th>\n",
       "      <th>reordered</th>\n",
       "      <th>_merge</th>\n",
       "      <th>product_name</th>\n",
       "      <th>aisle_id</th>\n",
       "      <th>department_id</th>\n",
       "      <th>prices</th>\n",
       "    </tr>\n",
       "  </thead>\n",
       "  <tbody>\n",
       "    <tr>\n",
       "      <th>0</th>\n",
       "      <td>2539329</td>\n",
       "      <td>1</td>\n",
       "      <td>1</td>\n",
       "      <td>2</td>\n",
       "      <td>8</td>\n",
       "      <td>NaN</td>\n",
       "      <td>196</td>\n",
       "      <td>1</td>\n",
       "      <td>0</td>\n",
       "      <td>both</td>\n",
       "      <td>Soda</td>\n",
       "      <td>77.0</td>\n",
       "      <td>7.0</td>\n",
       "      <td>9.000000</td>\n",
       "    </tr>\n",
       "    <tr>\n",
       "      <th>1</th>\n",
       "      <td>2539329</td>\n",
       "      <td>1</td>\n",
       "      <td>1</td>\n",
       "      <td>2</td>\n",
       "      <td>8</td>\n",
       "      <td>NaN</td>\n",
       "      <td>14084</td>\n",
       "      <td>2</td>\n",
       "      <td>0</td>\n",
       "      <td>both</td>\n",
       "      <td>Organic Unsweetened Vanilla Almond Milk</td>\n",
       "      <td>91.0</td>\n",
       "      <td>16.0</td>\n",
       "      <td>12.500000</td>\n",
       "    </tr>\n",
       "    <tr>\n",
       "      <th>2</th>\n",
       "      <td>2539329</td>\n",
       "      <td>1</td>\n",
       "      <td>1</td>\n",
       "      <td>2</td>\n",
       "      <td>8</td>\n",
       "      <td>NaN</td>\n",
       "      <td>12427</td>\n",
       "      <td>3</td>\n",
       "      <td>0</td>\n",
       "      <td>both</td>\n",
       "      <td>Original Beef Jerky</td>\n",
       "      <td>23.0</td>\n",
       "      <td>19.0</td>\n",
       "      <td>4.398438</td>\n",
       "    </tr>\n",
       "    <tr>\n",
       "      <th>3</th>\n",
       "      <td>2539329</td>\n",
       "      <td>1</td>\n",
       "      <td>1</td>\n",
       "      <td>2</td>\n",
       "      <td>8</td>\n",
       "      <td>NaN</td>\n",
       "      <td>26088</td>\n",
       "      <td>4</td>\n",
       "      <td>0</td>\n",
       "      <td>both</td>\n",
       "      <td>Aged White Cheddar Popcorn</td>\n",
       "      <td>23.0</td>\n",
       "      <td>19.0</td>\n",
       "      <td>4.699219</td>\n",
       "    </tr>\n",
       "    <tr>\n",
       "      <th>4</th>\n",
       "      <td>2539329</td>\n",
       "      <td>1</td>\n",
       "      <td>1</td>\n",
       "      <td>2</td>\n",
       "      <td>8</td>\n",
       "      <td>NaN</td>\n",
       "      <td>26405</td>\n",
       "      <td>5</td>\n",
       "      <td>0</td>\n",
       "      <td>both</td>\n",
       "      <td>XL Pick-A-Size Paper Towel Rolls</td>\n",
       "      <td>54.0</td>\n",
       "      <td>17.0</td>\n",
       "      <td>1.000000</td>\n",
       "    </tr>\n",
       "  </tbody>\n",
       "</table>\n",
       "</div>"
      ],
      "text/plain": [
       "   order_id  user_id  order_number  orders_day_of_week  order_hour_of_day  \\\n",
       "0   2539329        1             1                   2                  8   \n",
       "1   2539329        1             1                   2                  8   \n",
       "2   2539329        1             1                   2                  8   \n",
       "3   2539329        1             1                   2                  8   \n",
       "4   2539329        1             1                   2                  8   \n",
       "\n",
       "   days_since_prior_order  product_id  add_to_cart_order  reordered _merge  \\\n",
       "0                     NaN         196                  1          0   both   \n",
       "1                     NaN       14084                  2          0   both   \n",
       "2                     NaN       12427                  3          0   both   \n",
       "3                     NaN       26088                  4          0   both   \n",
       "4                     NaN       26405                  5          0   both   \n",
       "\n",
       "                              product_name  aisle_id  department_id     prices  \n",
       "0                                     Soda      77.0            7.0   9.000000  \n",
       "1  Organic Unsweetened Vanilla Almond Milk      91.0           16.0  12.500000  \n",
       "2                      Original Beef Jerky      23.0           19.0   4.398438  \n",
       "3               Aged White Cheddar Popcorn      23.0           19.0   4.699219  \n",
       "4         XL Pick-A-Size Paper Towel Rolls      54.0           17.0   1.000000  "
      ]
     },
     "execution_count": 8,
     "metadata": {},
     "output_type": "execute_result"
    }
   ],
   "source": [
    "#check output\n",
    "df_subset.head()"
   ]
  },
  {
   "cell_type": "code",
   "execution_count": 9,
   "id": "49b23d0f",
   "metadata": {},
   "outputs": [
    {
     "data": {
      "text/plain": [
       "(1000000, 14)"
      ]
     },
     "execution_count": 9,
     "metadata": {},
     "output_type": "execute_result"
    }
   ],
   "source": [
    "#check output\n",
    "df_subset.shape"
   ]
  },
  {
   "cell_type": "markdown",
   "id": "11839f85",
   "metadata": {},
   "source": [
    "# Using the if-statement function"
   ]
  },
  {
   "cell_type": "markdown",
   "id": "0cd1eea4",
   "metadata": {},
   "source": [
    "Using an if-statement to create a price label row which categorises products into one of three categories based on their price. Note, this is only on the subset, we will eventually apply to the full dataset. "
   ]
  },
  {
   "cell_type": "code",
   "execution_count": 10,
   "id": "a735345a",
   "metadata": {},
   "outputs": [],
   "source": [
    "#define your if-statement\n",
    "def price_label(row):\n",
    "    \n",
    "    if row ['prices'] <= 5:\n",
    "        return 'Low-range product'\n",
    "    elif (row['prices'] > 5) and (row['prices'] <= 15):\n",
    "        return 'Mid-range product'\n",
    "    elif row['prices'] > 15:\n",
    "        return 'High range'\n",
    "    else: return 'Not enough data'"
   ]
  },
  {
   "cell_type": "code",
   "execution_count": 11,
   "id": "41122561",
   "metadata": {},
   "outputs": [
    {
     "name": "stderr",
     "output_type": "stream",
     "text": [
      "C:\\Users\\rutha\\AppData\\Local\\Temp\\ipykernel_20336\\263193459.py:2: SettingWithCopyWarning: \n",
      "A value is trying to be set on a copy of a slice from a DataFrame.\n",
      "Try using .loc[row_indexer,col_indexer] = value instead\n",
      "\n",
      "See the caveats in the documentation: https://pandas.pydata.org/pandas-docs/stable/user_guide/indexing.html#returning-a-view-versus-a-copy\n",
      "  df_subset['price_range'] = df_subset.apply(price_label, axis = 1)\n"
     ]
    }
   ],
   "source": [
    "#apply the function to your subset\n",
    "df_subset['price_range'] = df_subset.apply(price_label, axis = 1)"
   ]
  },
  {
   "cell_type": "code",
   "execution_count": 12,
   "id": "9e62a2dc",
   "metadata": {},
   "outputs": [
    {
     "data": {
      "text/plain": [
       "Mid-range product    672525\n",
       "Low-range product    314109\n",
       "High range            12413\n",
       "Not enough data         953\n",
       "Name: price_range, dtype: int64"
      ]
     },
     "execution_count": 12,
     "metadata": {},
     "output_type": "execute_result"
    }
   ],
   "source": [
    "#checking the output\n",
    "df_subset['price_range'].value_counts(dropna = False)"
   ]
  },
  {
   "cell_type": "code",
   "execution_count": 13,
   "id": "0a513a31",
   "metadata": {},
   "outputs": [
    {
     "data": {
      "text/plain": [
       "inf"
      ]
     },
     "execution_count": 13,
     "metadata": {},
     "output_type": "execute_result"
    }
   ],
   "source": [
    "#checking for the most expensive product\n",
    "df_subset['prices'].max()"
   ]
  },
  {
   "cell_type": "markdown",
   "id": "5602101e",
   "metadata": {},
   "source": [
    "# Using the loc() function"
   ]
  },
  {
   "cell_type": "markdown",
   "id": "7d6ce764",
   "metadata": {},
   "source": [
    "The loc() function helps us locate rows based on certain conditions "
   ]
  },
  {
   "cell_type": "code",
   "execution_count": 14,
   "id": "c0d5fcdb",
   "metadata": {},
   "outputs": [],
   "source": [
    "#create some conditions in separate cells"
   ]
  },
  {
   "cell_type": "code",
   "execution_count": 15,
   "id": "e6be7845",
   "metadata": {},
   "outputs": [
    {
     "name": "stderr",
     "output_type": "stream",
     "text": [
      "C:\\Users\\rutha\\AppData\\Local\\Temp\\ipykernel_20336\\1948002570.py:1: SettingWithCopyWarning: \n",
      "A value is trying to be set on a copy of a slice from a DataFrame.\n",
      "Try using .loc[row_indexer,col_indexer] = value instead\n",
      "\n",
      "See the caveats in the documentation: https://pandas.pydata.org/pandas-docs/stable/user_guide/indexing.html#returning-a-view-versus-a-copy\n",
      "  df_subset.loc[df_subset['prices'] > 15, 'price_range_loc'] = 'High range product'\n"
     ]
    }
   ],
   "source": [
    "df_subset.loc[df_subset['prices'] > 15, 'price_range_loc'] = 'High range product'"
   ]
  },
  {
   "cell_type": "code",
   "execution_count": 16,
   "id": "a15f72b7",
   "metadata": {},
   "outputs": [],
   "source": [
    "df_subset.loc[(df_subset['prices'] <= 15) & (df_subset['prices'] > 5), 'price_range_loc'] = 'Mid range product'"
   ]
  },
  {
   "cell_type": "code",
   "execution_count": 17,
   "id": "b976d8af",
   "metadata": {},
   "outputs": [],
   "source": [
    "df_subset.loc[df_subset['prices'] <= 5, 'price_range_loc'] = 'Low range product'"
   ]
  },
  {
   "cell_type": "code",
   "execution_count": 18,
   "id": "62c66f62",
   "metadata": {},
   "outputs": [
    {
     "data": {
      "text/plain": [
       "Mid range product     672525\n",
       "Low range product     314109\n",
       "High range product     12413\n",
       "NaN                      953\n",
       "Name: price_range_loc, dtype: int64"
      ]
     },
     "execution_count": 18,
     "metadata": {},
     "output_type": "execute_result"
    }
   ],
   "source": [
    "df_subset['price_range_loc'].value_counts(dropna = False)"
   ]
  },
  {
   "cell_type": "markdown",
   "id": "426e04e2",
   "metadata": {},
   "source": [
    "### Using loc() function on the entire dataframe"
   ]
  },
  {
   "cell_type": "code",
   "execution_count": 19,
   "id": "4841a587",
   "metadata": {},
   "outputs": [],
   "source": [
    "#using the loc() function on whole dataframe\n",
    "df_merge2.loc[df_merge2['prices'] > 15, 'price_range_loc'] = 'High-range product'"
   ]
  },
  {
   "cell_type": "code",
   "execution_count": 20,
   "id": "d9709275",
   "metadata": {},
   "outputs": [],
   "source": [
    "df_merge2.loc[(df_merge2['prices'] <= 15) & (df_merge2['prices'] > 5), 'price_range_loc'] = 'Mid-range product'"
   ]
  },
  {
   "cell_type": "code",
   "execution_count": 21,
   "id": "011620fd",
   "metadata": {},
   "outputs": [],
   "source": [
    "df_merge2.loc[df_merge2['prices'] <= 5, 'price_range_loc'] = 'Low-range product'"
   ]
  },
  {
   "cell_type": "code",
   "execution_count": 22,
   "id": "45d29635",
   "metadata": {},
   "outputs": [
    {
     "data": {
      "text/plain": [
       "Mid-range product     21860860\n",
       "Low-range product     10126321\n",
       "High-range product      417678\n",
       "NaN                      30200\n",
       "Name: price_range_loc, dtype: int64"
      ]
     },
     "execution_count": 22,
     "metadata": {},
     "output_type": "execute_result"
    }
   ],
   "source": [
    "df_merge2['price_range_loc'].value_counts(dropna = False)"
   ]
  },
  {
   "cell_type": "markdown",
   "id": "099570ba",
   "metadata": {},
   "source": [
    "Investigating the NaN values"
   ]
  },
  {
   "cell_type": "code",
   "execution_count": 24,
   "id": "f2d59008",
   "metadata": {},
   "outputs": [
    {
     "data": {
      "text/plain": [
       "Mid-range product     21860860\n",
       "Low-range product     10126321\n",
       "High-range product      417678\n",
       "NaN                      30200\n",
       "Name: price_range_loc, dtype: int64"
      ]
     },
     "execution_count": 24,
     "metadata": {},
     "output_type": "execute_result"
    }
   ],
   "source": [
    "df_merge2['price_range_loc'].value_counts(dropna = False)"
   ]
  },
  {
   "cell_type": "code",
   "execution_count": null,
   "id": "ef52c06f",
   "metadata": {},
   "outputs": [],
   "source": []
  },
  {
   "cell_type": "code",
   "execution_count": null,
   "id": "1bebdc7a",
   "metadata": {},
   "outputs": [],
   "source": []
  },
  {
   "cell_type": "markdown",
   "id": "832baa5c",
   "metadata": {},
   "source": [
    "# Using for-loops"
   ]
  },
  {
   "cell_type": "markdown",
   "id": "86095cd1",
   "metadata": {},
   "source": [
    "For-loops are used to perform the same function on multiple elements, for instance, by running through an entire dataframe and performing a function on each row within that dataframe"
   ]
  },
  {
   "cell_type": "code",
   "execution_count": null,
   "id": "9d2168c4",
   "metadata": {},
   "outputs": [],
   "source": [
    "#which days have the most orders?\n",
    "df_merge2['orders_day_of_week'].value_counts(dropna = False)"
   ]
  },
  {
   "cell_type": "code",
   "execution_count": null,
   "id": "319e6d57",
   "metadata": {},
   "outputs": [],
   "source": [
    "#create the list for your new column catergorising days into whether they are busy or not\n",
    "result = []\n",
    "\n",
    "for value in df_merge2['orders_day_of_week']:\n",
    "    if value == 0:\n",
    "        result.append(\"Busiest day\")\n",
    "    elif value == 4:\n",
    "        result.append('Least busy')\n",
    "    else:\n",
    "        result.append('Regularly busy')"
   ]
  },
  {
   "cell_type": "code",
   "execution_count": null,
   "id": "5093cbc2",
   "metadata": {},
   "outputs": [],
   "source": [
    "result"
   ]
  },
  {
   "cell_type": "code",
   "execution_count": null,
   "id": "f0c7158f",
   "metadata": {},
   "outputs": [],
   "source": [
    "#add the new column to your dataset\n",
    "df_merge2['busiest_day'] = result"
   ]
  },
  {
   "cell_type": "code",
   "execution_count": null,
   "id": "5943a55c",
   "metadata": {},
   "outputs": [],
   "source": [
    "#print the frequency of the new column to check with the frequencies stated before\n",
    "df_merge2['busiest_day'].value_counts(dropna = False)"
   ]
  },
  {
   "cell_type": "code",
   "execution_count": null,
   "id": "24f3ff1e",
   "metadata": {},
   "outputs": [],
   "source": [
    "df_merge2.head()"
   ]
  },
  {
   "cell_type": "markdown",
   "id": "5e96e8d4",
   "metadata": {},
   "source": [
    "# Creating \"busiest days\" column"
   ]
  },
  {
   "cell_type": "markdown",
   "id": "46aea672",
   "metadata": {},
   "source": [
    "Q2. the clients would like to create a 'busiest days' (plural) column. This label should correspond with the two busiest days of the week as opposed to the single busiest day. They'd also like to know the two slowest days. "
   ]
  },
  {
   "cell_type": "markdown",
   "id": "b7793dc2",
   "metadata": {},
   "source": [
    "Days of the week codes\n",
    "    0 = Saturday\n",
    "    1 = Sunday\n",
    "    2 = Monday\n",
    "    3 = Tuesday\n",
    "    4 = Wednesday\n",
    "    5 = Thursday \n",
    "    6 = Friday "
   ]
  },
  {
   "cell_type": "code",
   "execution_count": null,
   "id": "c3045c7d",
   "metadata": {},
   "outputs": [],
   "source": [
    "#calculate which days have the most orders\n",
    "df_merge2['orders_day_of_week'].value_counts(dropna = False)"
   ]
  },
  {
   "cell_type": "markdown",
   "id": "b9db563e",
   "metadata": {},
   "source": [
    "Two busiest days are 0 and 1 (Saturday and Sunday) and the two slowest days are 3 and 4 (Tuesday and Wednesday)"
   ]
  },
  {
   "cell_type": "code",
   "execution_count": null,
   "id": "bb3dd33f",
   "metadata": {},
   "outputs": [],
   "source": [
    "#create list for new busiest day column\n",
    "result = []\n",
    "\n",
    "for value in df_merge2['orders_day_of_week']:\n",
    "    if value == 0 or value == 1:\n",
    "        result.append('Busiest days')\n",
    "    elif value == 3 or value == 4:\n",
    "        result.append('Slowest days')\n",
    "    else:\n",
    "        result.append('Regularly busy')"
   ]
  },
  {
   "cell_type": "code",
   "execution_count": null,
   "id": "7b35df03",
   "metadata": {},
   "outputs": [],
   "source": [
    "result"
   ]
  },
  {
   "cell_type": "code",
   "execution_count": null,
   "id": "a7de4f69",
   "metadata": {},
   "outputs": [],
   "source": [
    "#add the column to your data set\n",
    "df_merge2['busiest_days'] = result"
   ]
  },
  {
   "cell_type": "code",
   "execution_count": null,
   "id": "ec0b245d",
   "metadata": {},
   "outputs": [],
   "source": [
    "#print the frequency of the new column to compare \n",
    "df_merge2['busiest_days'].value_counts(dropna = False)"
   ]
  },
  {
   "cell_type": "markdown",
   "id": "5040f056",
   "metadata": {},
   "source": [
    "Having compared the results against those in line The main observation is that the two busiest days, Saturday and Sunday, account for over a third of sale days - 37%. The next three most popular days, Monday, Thursday, and Friday, make up the largest category, \"Regularly busy\", but only 3% more sales for a total of 40%. Finally, the two slowest day, Tuesday and Wednesday, account for 23% of sales. "
   ]
  },
  {
   "cell_type": "markdown",
   "id": "b84c2d03",
   "metadata": {},
   "source": [
    "### Q4 When too many users make Instacart orders at the same time, the app freezes. We need to identify the busiest hours of the day. Rather than by hour, they want periods of time labeled \"Most orders\", \"Average orders\", and 'Fewest orders'. Create a new column calling these \"busiest_period_of_day\""
   ]
  },
  {
   "cell_type": "code",
   "execution_count": null,
   "id": "83593147",
   "metadata": {},
   "outputs": [],
   "source": [
    "#check to see which column we need, 'order_hour_of_day'\n",
    "df_merge2.head()"
   ]
  },
  {
   "cell_type": "code",
   "execution_count": null,
   "id": "9454ddcd",
   "metadata": {},
   "outputs": [],
   "source": [
    "#print the frequency of order_hour_of_day\n",
    "df_merge2['order_hour_of_day'].value_counts(dropna = False)"
   ]
  },
  {
   "cell_type": "markdown",
   "id": "c105816f",
   "metadata": {},
   "source": [
    "Based on the above values, I am assigning anything with a frequency of 2.4m or higher as \"Most orders\" (9:00 - 16:00), anything abovs 100,000 up to 2.4m as \"Average orders\" (7:00 - 8:00, and 17:00 - 22:00), and anything under 100,000 as \"Fewest orders\" (23:00 - 6:00). "
   ]
  },
  {
   "cell_type": "code",
   "execution_count": null,
   "id": "6850a12c",
   "metadata": {},
   "outputs": [],
   "source": [
    "#create list for new busiest period of day column\n",
    "result = []\n",
    "\n",
    "for hour in df_merge2['order_hour_of_day']:\n",
    "    if hour in [10, 11, 14, 15, 13, 12, 16, 9]:\n",
    "        result.append('Most orders')\n",
    "    elif hour in [23, 6, 0, 1, 5, 2, 4, 3]:\n",
    "        result.append('Fewest orders')\n",
    "    else:\n",
    "        result.append('Average orders')"
   ]
  },
  {
   "cell_type": "code",
   "execution_count": null,
   "id": "6553d029",
   "metadata": {},
   "outputs": [],
   "source": [
    "result"
   ]
  },
  {
   "cell_type": "code",
   "execution_count": null,
   "id": "808bd4cd",
   "metadata": {},
   "outputs": [],
   "source": [
    "#add the new column to your dataset\n",
    "df_merge2['busiest_period_of_day'] = result"
   ]
  },
  {
   "cell_type": "code",
   "execution_count": null,
   "id": "88caedd7",
   "metadata": {},
   "outputs": [],
   "source": [
    "#print the frequency of the new column\n",
    "df_merge2['busiest_period_of_day'].value_counts(dropna = False)"
   ]
  },
  {
   "cell_type": "code",
   "execution_count": null,
   "id": "2309bc67",
   "metadata": {},
   "outputs": [],
   "source": [
    "#checking column names\n",
    "df_merge2.head()"
   ]
  },
  {
   "cell_type": "code",
   "execution_count": null,
   "id": "d8875c78",
   "metadata": {},
   "outputs": [],
   "source": [
    "df_merge2.drop(['busiest_day'], axis = 1)"
   ]
  },
  {
   "cell_type": "code",
   "execution_count": null,
   "id": "a1e07bcc",
   "metadata": {},
   "outputs": [],
   "source": [
    "#export dataframe \n",
    "df_merge2.to_pickle(os.path.join(path, '02_Data', 'Prepared_data', 'full_merged3.pkl'))"
   ]
  },
  {
   "cell_type": "code",
   "execution_count": null,
   "id": "748f456f",
   "metadata": {},
   "outputs": [],
   "source": []
  }
 ],
 "metadata": {
  "kernelspec": {
   "display_name": "Python 3 (ipykernel)",
   "language": "python",
   "name": "python3"
  },
  "language_info": {
   "codemirror_mode": {
    "name": "ipython",
    "version": 3
   },
   "file_extension": ".py",
   "mimetype": "text/x-python",
   "name": "python",
   "nbconvert_exporter": "python",
   "pygments_lexer": "ipython3",
   "version": "3.9.13"
  }
 },
 "nbformat": 4,
 "nbformat_minor": 5
}
